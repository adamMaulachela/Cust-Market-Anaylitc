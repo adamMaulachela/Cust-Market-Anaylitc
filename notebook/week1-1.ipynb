{
 "cells": [
  {
   "cell_type": "markdown",
   "metadata": {},
   "source": [
    "# **Week 1 - Modeling Regression**\n",
    "\n",
    "Marketing and Customer Analytics - Sekolah Data - Pacmann Academy"
   ]
  },
  {
   "cell_type": "markdown",
   "metadata": {},
   "source": [
    "---\n",
    "**Outline**\n",
    "\n",
    "1. Business Understanding\n",
    "2. EDA\n",
    "3. Modelling\n",
    "4. Interpretation\n",
    "5. Prediction"
   ]
  },
  {
   "cell_type": "code",
   "execution_count": 1,
   "metadata": {},
   "outputs": [],
   "source": [
    "# Load data manipulation package\n",
    "import numpy as np\n",
    "import pandas as pd\n",
    "\n",
    "# Load data visualization package\n",
    "import matplotlib.pyplot as plt\n",
    "import seaborn as sns"
   ]
  },
  {
   "cell_type": "markdown",
   "metadata": {},
   "source": [
    "# <font color='white'>1. Business Understanding</font>\n",
    "---"
   ]
  },
  {
   "cell_type": "markdown",
   "metadata": {},
   "source": [
    "Azra, a high-fashion retailer with operations in multiple countries, has been facing the challenge of optimizing their marketing activities to increase revenue"
   ]
  },
  {
   "cell_type": "markdown",
   "metadata": {},
   "source": [
    "### **Business Objective**\n",
    "---\n",
    "\n",
    "- The company aim to increase 50% annual revenue in 2021\n",
    "- The company also wants to identify high-value customers and `develop a unique marketing strategy` to target them effectively"
   ]
  },
  {
   "cell_type": "markdown",
   "metadata": {},
   "source": [
    "### **Business Questions / Problem Statement**\n",
    "---\n",
    "\n",
    "- How can Azra develop unique marketing strategy to increase 50% average order revenue (revenue per customer)?\n",
    "- How to improve?\n",
    "    - What variable corelate the most with target variable (revenue_2020)?\n",
    "    - Can we make a specific revenue prediction from specific customer buying behavior accurately?"
   ]
  },
  {
   "cell_type": "markdown",
   "metadata": {},
   "source": [
    "### **Modelling Task**\n",
    "---\n",
    "\n",
    "- Output target: **Revenue** (Continuous variable)\n",
    "- Task: **Regression** task\n",
    "- Business needs: **interpretable model**\n",
    "- Model used: **linear regression**, we can get coefficient of each predictors\n",
    "- Need accurate prediction: Minimize the bias/deviance between predicted and actual value --> **RMSE**"
   ]
  },
  {
   "cell_type": "markdown",
   "metadata": {},
   "source": [
    "# <font color='white'>2. Modeling Workflow</font>\n",
    "---"
   ]
  },
  {
   "cell_type": "markdown",
   "metadata": {},
   "source": [
    "## **Machine Learning Workflow** (Simplified)\n",
    "---\n",
    "\n",
    "### 1. <font color='white'> Importing Data to Python</font>\n",
    "    * Data validation\n",
    "### 2. <font color='white'> Exploratory Data Analysis:</font>\n",
    "    * Descriptive Statistics, Univariate Analysis, Correlation Heatmap\n",
    "### 3. <font color='white'> Training Machine Learning:</font>\n",
    "    * Model Fitting, Evaluation\n",
    "### 4. <font color='white'> Interpretation & Business Recommendation :</font>\n",
    "    * Linear Regression Coefficient, Recommendation"
   ]
  },
  {
   "cell_type": "markdown",
   "metadata": {},
   "source": [
    "# <font color='white'>**3. Data Pipelines**</font>\n",
    "---"
   ]
  },
  {
   "cell_type": "markdown",
   "metadata": {},
   "source": [
    "## **3.1 Data Description:**\n",
    "---\n",
    "\n",
    "**Azra Retail Customers Data**:\n",
    "\n",
    "- `CustomerID`: Customer identifier (unique identifier)\n",
    "- `number_of_purchases`: the total number of purchases by the customer in 2019 (numeric)\n",
    "- `avg_order_cost`: the average value of the orders placed by the customer in 2019 (numeric)\n",
    "\n",
    "<br>\n",
    "\n",
    "**Output Variable**\n",
    "- `revenue_2020`: the total revenue for the year 2020 (numeric)"
   ]
  },
  {
   "cell_type": "markdown",
   "metadata": {},
   "source": [
    "## **3.2 Data Collection**\n",
    "---"
   ]
  },
  {
   "cell_type": "code",
   "execution_count": 50,
   "metadata": {},
   "outputs": [],
   "source": [
    "# function to read csv dataset\n",
    "def read_data(path):\n",
    "    \"\"\"\n",
    "    Reads a CSV file at the given path, removes any duplicate rows,\n",
    "    and returns its contents as a pandas DataFrame.\n",
    "\n",
    "    Parameters\n",
    "    ----------\n",
    "    path : <str>\n",
    "        input path\n",
    "\n",
    "    Returns\n",
    "    -------\n",
    "    df : <pandas DataFrame>\n",
    "        Sample dataframe\n",
    "    \"\"\"\n",
    "    # read data to dataframe\n",
    "    df = pd.read_csv(path, index_col=0, sep=';')\n",
    "    \n",
    "    # drop duplicates\n",
    "    df = df.drop_duplicates()\n",
    "    \n",
    "    return df"
   ]
  },
  {
   "cell_type": "code",
   "execution_count": 51,
   "metadata": {},
   "outputs": [],
   "source": [
    "path = '/Users/adam/Documents/Projects/PACMANN/Cust-Market-Anaylitc/data/raw/azra_retail_dataset.csv'\n",
    "df = read_data(path)"
   ]
  },
  {
   "cell_type": "code",
   "execution_count": 52,
   "metadata": {},
   "outputs": [
    {
     "data": {
      "text/html": [
       "<div>\n",
       "<style scoped>\n",
       "    .dataframe tbody tr th:only-of-type {\n",
       "        vertical-align: middle;\n",
       "    }\n",
       "\n",
       "    .dataframe tbody tr th {\n",
       "        vertical-align: top;\n",
       "    }\n",
       "\n",
       "    .dataframe thead th {\n",
       "        text-align: right;\n",
       "    }\n",
       "</style>\n",
       "<table border=\"1\" class=\"dataframe\">\n",
       "  <thead>\n",
       "    <tr style=\"text-align: right;\">\n",
       "      <th></th>\n",
       "      <th>CustomerID</th>\n",
       "      <th>number_of_purchases</th>\n",
       "      <th>avg_order_cost</th>\n",
       "      <th>revenue_2020</th>\n",
       "    </tr>\n",
       "  </thead>\n",
       "  <tbody>\n",
       "    <tr>\n",
       "      <th>1</th>\n",
       "      <td>12347.0</td>\n",
       "      <td>1</td>\n",
       "      <td>711.79</td>\n",
       "      <td>3598.21</td>\n",
       "    </tr>\n",
       "    <tr>\n",
       "      <th>2</th>\n",
       "      <td>12348.0</td>\n",
       "      <td>1</td>\n",
       "      <td>892.80</td>\n",
       "      <td>904.44</td>\n",
       "    </tr>\n",
       "    <tr>\n",
       "      <th>20</th>\n",
       "      <td>12370.0</td>\n",
       "      <td>2</td>\n",
       "      <td>934.01</td>\n",
       "      <td>1677.67</td>\n",
       "    </tr>\n",
       "    <tr>\n",
       "      <th>26</th>\n",
       "      <td>12377.0</td>\n",
       "      <td>1</td>\n",
       "      <td>1001.52</td>\n",
       "      <td>626.60</td>\n",
       "    </tr>\n",
       "    <tr>\n",
       "      <th>31</th>\n",
       "      <td>12383.0</td>\n",
       "      <td>1</td>\n",
       "      <td>600.72</td>\n",
       "      <td>1249.84</td>\n",
       "    </tr>\n",
       "  </tbody>\n",
       "</table>\n",
       "</div>"
      ],
      "text/plain": [
       "    CustomerID  number_of_purchases  avg_order_cost  revenue_2020\n",
       "1      12347.0                    1          711.79       3598.21\n",
       "2      12348.0                    1          892.80        904.44\n",
       "20     12370.0                    2          934.01       1677.67\n",
       "26     12377.0                    1         1001.52        626.60\n",
       "31     12383.0                    1          600.72       1249.84"
      ]
     },
     "execution_count": 52,
     "metadata": {},
     "output_type": "execute_result"
    }
   ],
   "source": [
    "df.head()"
   ]
  },
  {
   "cell_type": "code",
   "execution_count": 54,
   "metadata": {},
   "outputs": [
    {
     "name": "stdout",
     "output_type": "stream",
     "text": [
      "Number of unique customer: 766\n"
     ]
    }
   ],
   "source": [
    "print(f'Number of unique customer: {df.CustomerID.nunique()}')"
   ]
  },
  {
   "cell_type": "markdown",
   "metadata": {},
   "source": [
    "`CustomerID` was set as data index, why?  to keep tracking the predicted outcome according to the index\n",
    "\n",
    "**Check Missing Value**, make sure there's no missing values in target variable (revenue_2020) before spliting"
   ]
  },
  {
   "cell_type": "code",
   "execution_count": 55,
   "metadata": {},
   "outputs": [],
   "source": [
    "# set customerID as index\n",
    "df.set_index('CustomerID', inplace=True)"
   ]
  },
  {
   "cell_type": "code",
   "execution_count": 57,
   "metadata": {},
   "outputs": [
    {
     "data": {
      "text/html": [
       "<div>\n",
       "<style scoped>\n",
       "    .dataframe tbody tr th:only-of-type {\n",
       "        vertical-align: middle;\n",
       "    }\n",
       "\n",
       "    .dataframe tbody tr th {\n",
       "        vertical-align: top;\n",
       "    }\n",
       "\n",
       "    .dataframe thead th {\n",
       "        text-align: right;\n",
       "    }\n",
       "</style>\n",
       "<table border=\"1\" class=\"dataframe\">\n",
       "  <thead>\n",
       "    <tr style=\"text-align: right;\">\n",
       "      <th></th>\n",
       "      <th>number_of_purchases</th>\n",
       "      <th>avg_order_cost</th>\n",
       "      <th>revenue_2020</th>\n",
       "    </tr>\n",
       "    <tr>\n",
       "      <th>CustomerID</th>\n",
       "      <th></th>\n",
       "      <th></th>\n",
       "      <th></th>\n",
       "    </tr>\n",
       "  </thead>\n",
       "  <tbody>\n",
       "    <tr>\n",
       "      <th>12347.0</th>\n",
       "      <td>1</td>\n",
       "      <td>711.79</td>\n",
       "      <td>3598.21</td>\n",
       "    </tr>\n",
       "    <tr>\n",
       "      <th>12348.0</th>\n",
       "      <td>1</td>\n",
       "      <td>892.80</td>\n",
       "      <td>904.44</td>\n",
       "    </tr>\n",
       "    <tr>\n",
       "      <th>12370.0</th>\n",
       "      <td>2</td>\n",
       "      <td>934.01</td>\n",
       "      <td>1677.67</td>\n",
       "    </tr>\n",
       "    <tr>\n",
       "      <th>12377.0</th>\n",
       "      <td>1</td>\n",
       "      <td>1001.52</td>\n",
       "      <td>626.60</td>\n",
       "    </tr>\n",
       "    <tr>\n",
       "      <th>12383.0</th>\n",
       "      <td>1</td>\n",
       "      <td>600.72</td>\n",
       "      <td>1249.84</td>\n",
       "    </tr>\n",
       "  </tbody>\n",
       "</table>\n",
       "</div>"
      ],
      "text/plain": [
       "            number_of_purchases  avg_order_cost  revenue_2020\n",
       "CustomerID                                                   \n",
       "12347.0                       1          711.79       3598.21\n",
       "12348.0                       1          892.80        904.44\n",
       "12370.0                       2          934.01       1677.67\n",
       "12377.0                       1         1001.52        626.60\n",
       "12383.0                       1          600.72       1249.84"
      ]
     },
     "execution_count": 57,
     "metadata": {},
     "output_type": "execute_result"
    }
   ],
   "source": [
    "df.head()"
   ]
  },
  {
   "cell_type": "code",
   "execution_count": 56,
   "metadata": {},
   "outputs": [
    {
     "data": {
      "text/plain": [
       "number_of_purchases    0.0\n",
       "avg_order_cost         0.0\n",
       "revenue_2020           0.0\n",
       "dtype: float64"
      ]
     },
     "execution_count": 56,
     "metadata": {},
     "output_type": "execute_result"
    }
   ],
   "source": [
    "# check missing values \n",
    "df.isnull().sum() / len(df) * 100"
   ]
  },
  {
   "cell_type": "markdown",
   "metadata": {},
   "source": [
    "Missing Values **NOT FOUND**\n",
    "\n",
    "Next, **Check Data Types**"
   ]
  },
  {
   "cell_type": "code",
   "execution_count": 58,
   "metadata": {},
   "outputs": [
    {
     "data": {
      "text/plain": [
       "number_of_purchases      int64\n",
       "avg_order_cost         float64\n",
       "revenue_2020           float64\n",
       "dtype: object"
      ]
     },
     "execution_count": 58,
     "metadata": {},
     "output_type": "execute_result"
    }
   ],
   "source": [
    "# Check data types \n",
    "df.dtypes"
   ]
  },
  {
   "cell_type": "markdown",
   "metadata": {},
   "source": [
    "**Summary**\n",
    "- We don't need to handle duplicated values\n",
    "- We don't need to handle missing values in the next preprocessing stage\n",
    "- Since we only have 766 samples, we will consider to split the train and test data by ratio 0.8 : 0.2"
   ]
  },
  {
   "cell_type": "markdown",
   "metadata": {},
   "source": [
    "## **3.3 Data Splitting**\n",
    "---"
   ]
  },
  {
   "cell_type": "markdown",
   "metadata": {},
   "source": [
    "- Split the data into input and output\n",
    "- Split the input & output data using train_test_split to get training and testing data"
   ]
  },
  {
   "cell_type": "markdown",
   "metadata": {},
   "source": [
    "**Split Input & Output**"
   ]
  },
  {
   "cell_type": "code",
   "execution_count": 59,
   "metadata": {},
   "outputs": [],
   "source": [
    "# function split input and output\n",
    "def split_input_output(data, target_column):\n",
    "    \"\"\"\n",
    "    Function to split input (x) and output (y)\n",
    "\n",
    "    parameters\n",
    "    ----------\n",
    "    data: <pandas dataframe>\n",
    "          dataframe input\n",
    "\n",
    "    target_column:  <string>\n",
    "                    output column name\n",
    "\n",
    "    Return\n",
    "\n",
    "    x:  <pandas dataframe>\n",
    "        input data\n",
    "\n",
    "    y:  <pandas dataframe>\n",
    "        output data\n",
    "    \"\"\"\n",
    "    X = data.drop(columns = target_column)\n",
    "    y = data[target_column]\n",
    "\n",
    "    return X, y"
   ]
  },
  {
   "cell_type": "code",
   "execution_count": 60,
   "metadata": {},
   "outputs": [],
   "source": [
    "# split input x and output y\n",
    "X, y = split_input_output(data= df, target_column=\"revenue_2020\")"
   ]
  },
  {
   "cell_type": "markdown",
   "metadata": {},
   "source": [
    "**Validate the Data Dimension** <br>\n",
    "we want to validate whether the data dimensions are in accordance with the data standards in the data definition process"
   ]
  },
  {
   "cell_type": "code",
   "execution_count": 61,
   "metadata": {},
   "outputs": [
    {
     "name": "stdout",
     "output_type": "stream",
     "text": [
      "Number of Samples : 766\n",
      "Number of Features : 2\n"
     ]
    }
   ],
   "source": [
    "# check data dimenssion\n",
    "n_samples, n_features = X.shape\n",
    "\n",
    "# print number samples and features \n",
    "print(f\"Number of Samples : {n_samples}\")\n",
    "print(f\"Number of Features : {n_features}\")"
   ]
  },
  {
   "cell_type": "code",
   "execution_count": 62,
   "metadata": {},
   "outputs": [],
   "source": [
    "# import train_test split package \n",
    "from sklearn.model_selection import train_test_split\n",
    "\n",
    "# train test split\n",
    "X_train, X_test, y_train, y_test = train_test_split(X, y, test_size=0.2, random_state=100)"
   ]
  },
  {
   "cell_type": "markdown",
   "metadata": {},
   "source": [
    "**Summary**\n",
    "- Now we have training and testing data\n",
    "- train_test_split: test_size = 0.2 and train_size = 0.8\n",
    "- We will focus on training data in EDA and Modelling stages"
   ]
  },
  {
   "cell_type": "markdown",
   "metadata": {},
   "source": [
    "# <font color='white'>**4. EDA**</font>\n",
    "---"
   ]
  },
  {
   "cell_type": "markdown",
   "metadata": {},
   "source": [
    "In the Exploratory Data Analysis stage, we apply several analyses:\n",
    "- Checking Missing Values\n",
    "- Descriptive Analysis\n",
    "- Univariate Analysis\n",
    "- Correlation Analysis (Heatmap)"
   ]
  },
  {
   "cell_type": "code",
   "execution_count": 63,
   "metadata": {},
   "outputs": [
    {
     "data": {
      "text/html": [
       "<div>\n",
       "<style scoped>\n",
       "    .dataframe tbody tr th:only-of-type {\n",
       "        vertical-align: middle;\n",
       "    }\n",
       "\n",
       "    .dataframe tbody tr th {\n",
       "        vertical-align: top;\n",
       "    }\n",
       "\n",
       "    .dataframe thead th {\n",
       "        text-align: right;\n",
       "    }\n",
       "</style>\n",
       "<table border=\"1\" class=\"dataframe\">\n",
       "  <thead>\n",
       "    <tr style=\"text-align: right;\">\n",
       "      <th></th>\n",
       "      <th>number_of_purchases</th>\n",
       "      <th>avg_order_cost</th>\n",
       "      <th>revenue_2020</th>\n",
       "    </tr>\n",
       "    <tr>\n",
       "      <th>CustomerID</th>\n",
       "      <th></th>\n",
       "      <th></th>\n",
       "      <th></th>\n",
       "    </tr>\n",
       "  </thead>\n",
       "  <tbody>\n",
       "    <tr>\n",
       "      <th>17567.0</th>\n",
       "      <td>1</td>\n",
       "      <td>517.95</td>\n",
       "      <td>3813.53</td>\n",
       "    </tr>\n",
       "    <tr>\n",
       "      <th>12947.0</th>\n",
       "      <td>1</td>\n",
       "      <td>304.04</td>\n",
       "      <td>1299.95</td>\n",
       "    </tr>\n",
       "    <tr>\n",
       "      <th>13077.0</th>\n",
       "      <td>1</td>\n",
       "      <td>313.72</td>\n",
       "      <td>415.55</td>\n",
       "    </tr>\n",
       "    <tr>\n",
       "      <th>14220.0</th>\n",
       "      <td>1</td>\n",
       "      <td>312.98</td>\n",
       "      <td>319.42</td>\n",
       "    </tr>\n",
       "    <tr>\n",
       "      <th>17870.0</th>\n",
       "      <td>1</td>\n",
       "      <td>326.40</td>\n",
       "      <td>1567.95</td>\n",
       "    </tr>\n",
       "  </tbody>\n",
       "</table>\n",
       "</div>"
      ],
      "text/plain": [
       "            number_of_purchases  avg_order_cost  revenue_2020\n",
       "CustomerID                                                   \n",
       "17567.0                       1          517.95       3813.53\n",
       "12947.0                       1          304.04       1299.95\n",
       "13077.0                       1          313.72        415.55\n",
       "14220.0                       1          312.98        319.42\n",
       "17870.0                       1          326.40       1567.95"
      ]
     },
     "execution_count": 63,
     "metadata": {},
     "output_type": "execute_result"
    }
   ],
   "source": [
    "# create EDA dataset\n",
    "eda_df = pd.concat([X_train, y_train], axis=1)\n",
    "eda_df.head()"
   ]
  },
  {
   "cell_type": "markdown",
   "metadata": {},
   "source": [
    "## **4.1 Check Missing Values**\n",
    "---"
   ]
  },
  {
   "cell_type": "code",
   "execution_count": 64,
   "metadata": {},
   "outputs": [
    {
     "data": {
      "text/plain": [
       "number_of_purchases    0.0\n",
       "avg_order_cost         0.0\n",
       "revenue_2020           0.0\n",
       "dtype: float64"
      ]
     },
     "execution_count": 64,
     "metadata": {},
     "output_type": "execute_result"
    }
   ],
   "source": [
    "# check percentage missing values\n",
    "eda_df.isnull().sum() / len(eda_df) * 100"
   ]
  },
  {
   "cell_type": "markdown",
   "metadata": {},
   "source": [
    "Summary of missing values:\n",
    "- No missing value\n",
    "- We don't need to handle the missing values probelm"
   ]
  },
  {
   "cell_type": "markdown",
   "metadata": {},
   "source": [
    "## **4.2 Descriptive Analysis**\n",
    "---"
   ]
  },
  {
   "cell_type": "code",
   "execution_count": 65,
   "metadata": {},
   "outputs": [
    {
     "data": {
      "text/html": [
       "<div>\n",
       "<style scoped>\n",
       "    .dataframe tbody tr th:only-of-type {\n",
       "        vertical-align: middle;\n",
       "    }\n",
       "\n",
       "    .dataframe tbody tr th {\n",
       "        vertical-align: top;\n",
       "    }\n",
       "\n",
       "    .dataframe thead th {\n",
       "        text-align: right;\n",
       "    }\n",
       "</style>\n",
       "<table border=\"1\" class=\"dataframe\">\n",
       "  <thead>\n",
       "    <tr style=\"text-align: right;\">\n",
       "      <th></th>\n",
       "      <th>number_of_purchases</th>\n",
       "      <th>avg_order_cost</th>\n",
       "      <th>revenue_2020</th>\n",
       "    </tr>\n",
       "  </thead>\n",
       "  <tbody>\n",
       "    <tr>\n",
       "      <th>count</th>\n",
       "      <td>612.000000</td>\n",
       "      <td>612.000000</td>\n",
       "      <td>612.000000</td>\n",
       "    </tr>\n",
       "    <tr>\n",
       "      <th>mean</th>\n",
       "      <td>1.439542</td>\n",
       "      <td>450.747881</td>\n",
       "      <td>5427.129575</td>\n",
       "    </tr>\n",
       "    <tr>\n",
       "      <th>std</th>\n",
       "      <td>1.032026</td>\n",
       "      <td>719.569701</td>\n",
       "      <td>19388.070935</td>\n",
       "    </tr>\n",
       "    <tr>\n",
       "      <th>min</th>\n",
       "      <td>1.000000</td>\n",
       "      <td>12.450000</td>\n",
       "      <td>15.000000</td>\n",
       "    </tr>\n",
       "    <tr>\n",
       "      <th>25%</th>\n",
       "      <td>1.000000</td>\n",
       "      <td>191.027500</td>\n",
       "      <td>581.797500</td>\n",
       "    </tr>\n",
       "    <tr>\n",
       "      <th>50%</th>\n",
       "      <td>1.000000</td>\n",
       "      <td>305.575000</td>\n",
       "      <td>1658.280000</td>\n",
       "    </tr>\n",
       "    <tr>\n",
       "      <th>75%</th>\n",
       "      <td>2.000000</td>\n",
       "      <td>431.226250</td>\n",
       "      <td>3806.457500</td>\n",
       "    </tr>\n",
       "    <tr>\n",
       "      <th>max</th>\n",
       "      <td>14.000000</td>\n",
       "      <td>13917.305000</td>\n",
       "      <td>271614.140000</td>\n",
       "    </tr>\n",
       "  </tbody>\n",
       "</table>\n",
       "</div>"
      ],
      "text/plain": [
       "       number_of_purchases  avg_order_cost   revenue_2020\n",
       "count           612.000000      612.000000     612.000000\n",
       "mean              1.439542      450.747881    5427.129575\n",
       "std               1.032026      719.569701   19388.070935\n",
       "min               1.000000       12.450000      15.000000\n",
       "25%               1.000000      191.027500     581.797500\n",
       "50%               1.000000      305.575000    1658.280000\n",
       "75%               2.000000      431.226250    3806.457500\n",
       "max              14.000000    13917.305000  271614.140000"
      ]
     },
     "execution_count": 65,
     "metadata": {},
     "output_type": "execute_result"
    }
   ],
   "source": [
    "# create data description \n",
    "eda_df.describe()"
   ]
  },
  {
   "cell_type": "markdown",
   "metadata": {},
   "source": [
    "**Summary**\n",
    "- The \"distance\" between the maximum value and the 0.75th percentile is quite far in `number_of_purchase`\n",
    "- The \"distance\" between the maximum value and the 0.75th percentile is quite far in `avg_order_cost`"
   ]
  },
  {
   "cell_type": "markdown",
   "metadata": {},
   "source": [
    "## **4.3 Univariate Analysis**\n",
    "---"
   ]
  },
  {
   "cell_type": "code",
   "execution_count": 66,
   "metadata": {},
   "outputs": [
    {
     "name": "stderr",
     "output_type": "stream",
     "text": [
      "/var/folders/0n/lqrxkmhn4857m0df9f7d0z400000gn/T/ipykernel_2115/3545217765.py:5: FutureWarning: \n",
      "\n",
      "Passing `palette` without assigning `hue` is deprecated and will be removed in v0.14.0. Assign the `y` variable to `hue` and set `legend=False` for the same effect.\n",
      "\n",
      "  sns.boxplot(x=eda_df[eda_df.columns[i]], palette='Blues_d')\n",
      "/var/folders/0n/lqrxkmhn4857m0df9f7d0z400000gn/T/ipykernel_2115/3545217765.py:5: FutureWarning: \n",
      "\n",
      "Passing `palette` without assigning `hue` is deprecated and will be removed in v0.14.0. Assign the `y` variable to `hue` and set `legend=False` for the same effect.\n",
      "\n",
      "  sns.boxplot(x=eda_df[eda_df.columns[i]], palette='Blues_d')\n",
      "/var/folders/0n/lqrxkmhn4857m0df9f7d0z400000gn/T/ipykernel_2115/3545217765.py:5: FutureWarning: \n",
      "\n",
      "Passing `palette` without assigning `hue` is deprecated and will be removed in v0.14.0. Assign the `y` variable to `hue` and set `legend=False` for the same effect.\n",
      "\n",
      "  sns.boxplot(x=eda_df[eda_df.columns[i]], palette='Blues_d')\n"
     ]
    },
    {
     "data": {
      "image/png": "[encoded data removed]",
      "text/plain": [
       "<Figure size 1500x600 with 3 Axes>"
      ]
     },
     "metadata": {},
     "output_type": "display_data"
    }
   ],
   "source": [
    "# create boxplot\n",
    "plt.figure(figsize=(15,6))\n",
    "for i in range(len(eda_df.columns)):\n",
    "    plt.subplot(1, 3, i+1)\n",
    "    sns.boxplot(x=eda_df[eda_df.columns[i]], palette='Blues_d')\n",
    "    plt.title(eda_df.columns[i], fontsize=20)\n",
    "    plt.xlabel(' ')\n",
    "    plt.tight_layout()"
   ]
  },
  {
   "cell_type": "code",
   "execution_count": 67,
   "metadata": {},
   "outputs": [
    {
     "data": {
      "image/png": "[encoded data removed]",
      "text/plain": [
       "<Figure size 1500x400 with 3 Axes>"
      ]
     },
     "metadata": {},
     "output_type": "display_data"
    }
   ],
   "source": [
    "# show the data distribution \n",
    "fig, ax = plt.subplots(nrows=1, ncols=3, figsize=(15,4))\n",
    "\n",
    "for i, cols_i in enumerate(eda_df.columns):\n",
    "    sns.histplot(eda_df[cols_i], ax = ax[i])\n",
    "    \n",
    "plt.show()"
   ]
  },
  {
   "cell_type": "markdown",
   "metadata": {},
   "source": [
    "**Summary of Univariate Analysis**\n",
    "- we have 2 predictor with outlier and outlier in target variable (revenue_2020)\n",
    "- The distribution is skew\n",
    "- There might be some outliers\n",
    "- we will check the correlation between predictor and target variable to decide whather we need to handle outlier or not"
   ]
  },
  {
   "cell_type": "markdown",
   "metadata": {},
   "source": [
    "## **4.4 Bivariate Analysis**\n",
    "---\n",
    "- We want to check the data distribution using scatterplot"
   ]
  },
  {
   "cell_type": "code",
   "execution_count": 68,
   "metadata": {},
   "outputs": [
    {
     "data": {
      "text/plain": [
       "Text(0.5, 1.0, 'number_of_purchases vs revenue_2020')"
      ]
     },
     "execution_count": 68,
     "metadata": {},
     "output_type": "execute_result"
    },
    {
     "data": {
      "image/png": "[encoded data removed]",
      "text/plain": [
       "<Figure size 640x480 with 1 Axes>"
      ]
     },
     "metadata": {},
     "output_type": "display_data"
    }
   ],
   "source": [
    "# scatterplot numbers_of_purchases\n",
    "sns.scatterplot(x='number_of_purchases', y='revenue_2020', data=eda_df)\n",
    "\n",
    "# title\n",
    "plt.title('number_of_purchases vs revenue_2020', fontsize=12)"
   ]
  },
  {
   "cell_type": "code",
   "execution_count": 69,
   "metadata": {},
   "outputs": [
    {
     "data": {
      "text/plain": [
       "Text(0.5, 1.0, 'avg_order_cost vs revenue_2020')"
      ]
     },
     "execution_count": 69,
     "metadata": {},
     "output_type": "execute_result"
    },
    {
     "data": {
      "image/png": "[encoded data removed]",
      "text/plain": [
       "<Figure size 640x480 with 1 Axes>"
      ]
     },
     "metadata": {},
     "output_type": "display_data"
    }
   ],
   "source": [
    "# scatterplot\n",
    "sns.scatterplot(x='avg_order_cost',\n",
    "                y='revenue_2020',\n",
    "                data=eda_df)\n",
    "\n",
    "# title\n",
    "plt.title('avg_order_cost vs revenue_2020', fontsize=12)"
   ]
  },
  {
   "cell_type": "markdown",
   "metadata": {},
   "source": [
    "## **4.5 Correlation Heatmap**\n",
    "---"
   ]
  },
  {
   "cell_type": "code",
   "execution_count": 70,
   "metadata": {},
   "outputs": [],
   "source": [
    "# Create Heatmap Correlation Chart for Each Numerical Features\n",
    "def plot_corr_heatmap(data):\n",
    "    \"\"\"\n",
    "    Function to make correlation heatmap plot\n",
    "\n",
    "    Parameters\n",
    "    ----------\n",
    "    data : <pandas Dataframe>\n",
    "        Input dataframe\n",
    "\n",
    "    Returns\n",
    "    -------\n",
    "    None\n",
    "    \"\"\"\n",
    "    # Define the figsize\n",
    "    plt.figure(figsize=(7, 7))\n",
    "\n",
    "    # Plot correlation heatmap\n",
    "    sns.heatmap(data.corr(),\n",
    "                cmap = 'Blues',\n",
    "                annot = True,\n",
    "                fmt = '.2f')"
   ]
  },
  {
   "cell_type": "code",
   "execution_count": 71,
   "metadata": {},
   "outputs": [
    {
     "data": {
      "image/png": "[encoded data removed]",
      "text/plain": [
       "<Figure size 700x700 with 2 Axes>"
      ]
     },
     "metadata": {},
     "output_type": "display_data"
    }
   ],
   "source": [
    "plot_corr_heatmap(eda_df)"
   ]
  },
  {
   "cell_type": "markdown",
   "metadata": {},
   "source": [
    "**EDA Summary**\n",
    "\n",
    "- The correlation between average order cost and revenue in 2020 is 65%.\n",
    "- We will try to cut the outlier."
   ]
  },
  {
   "cell_type": "markdown",
   "metadata": {},
   "source": [
    "# <font color='White'>**5. Data Preprocessing**</font>\n",
    "---\n",
    "- We only need to handle outliers"
   ]
  },
  {
   "cell_type": "code",
   "execution_count": 72,
   "metadata": {},
   "outputs": [],
   "source": [
    "# Define training set\n",
    "train_set = pd.concat([X_train, y_train], axis=1)"
   ]
  },
  {
   "cell_type": "code",
   "execution_count": 73,
   "metadata": {},
   "outputs": [
    {
     "data": {
      "text/html": [
       "<div>\n",
       "<style scoped>\n",
       "    .dataframe tbody tr th:only-of-type {\n",
       "        vertical-align: middle;\n",
       "    }\n",
       "\n",
       "    .dataframe tbody tr th {\n",
       "        vertical-align: top;\n",
       "    }\n",
       "\n",
       "    .dataframe thead th {\n",
       "        text-align: right;\n",
       "    }\n",
       "</style>\n",
       "<table border=\"1\" class=\"dataframe\">\n",
       "  <thead>\n",
       "    <tr style=\"text-align: right;\">\n",
       "      <th></th>\n",
       "      <th>number_of_purchases</th>\n",
       "      <th>avg_order_cost</th>\n",
       "      <th>revenue_2020</th>\n",
       "    </tr>\n",
       "    <tr>\n",
       "      <th>CustomerID</th>\n",
       "      <th></th>\n",
       "      <th></th>\n",
       "      <th></th>\n",
       "    </tr>\n",
       "  </thead>\n",
       "  <tbody>\n",
       "    <tr>\n",
       "      <th>17567.0</th>\n",
       "      <td>1</td>\n",
       "      <td>517.95</td>\n",
       "      <td>3813.53</td>\n",
       "    </tr>\n",
       "    <tr>\n",
       "      <th>12947.0</th>\n",
       "      <td>1</td>\n",
       "      <td>304.04</td>\n",
       "      <td>1299.95</td>\n",
       "    </tr>\n",
       "    <tr>\n",
       "      <th>13077.0</th>\n",
       "      <td>1</td>\n",
       "      <td>313.72</td>\n",
       "      <td>415.55</td>\n",
       "    </tr>\n",
       "    <tr>\n",
       "      <th>14220.0</th>\n",
       "      <td>1</td>\n",
       "      <td>312.98</td>\n",
       "      <td>319.42</td>\n",
       "    </tr>\n",
       "    <tr>\n",
       "      <th>17870.0</th>\n",
       "      <td>1</td>\n",
       "      <td>326.40</td>\n",
       "      <td>1567.95</td>\n",
       "    </tr>\n",
       "  </tbody>\n",
       "</table>\n",
       "</div>"
      ],
      "text/plain": [
       "            number_of_purchases  avg_order_cost  revenue_2020\n",
       "CustomerID                                                   \n",
       "17567.0                       1          517.95       3813.53\n",
       "12947.0                       1          304.04       1299.95\n",
       "13077.0                       1          313.72        415.55\n",
       "14220.0                       1          312.98        319.42\n",
       "17870.0                       1          326.40       1567.95"
      ]
     },
     "execution_count": 73,
     "metadata": {},
     "output_type": "execute_result"
    }
   ],
   "source": [
    "train_set.head()"
   ]
  },
  {
   "cell_type": "code",
   "execution_count": 74,
   "metadata": {},
   "outputs": [],
   "source": [
    "# create a function to remove outlier\n",
    "def remove_outlier(data, columns):\n",
    "    \"\"\"\n",
    "    Function to remove outlier\n",
    "\n",
    "    Parameters\n",
    "    ----------\n",
    "    data : pandas Dataframe\n",
    "        The input data\n",
    "\n",
    "    col : list\n",
    "        List of column where the data in this column need\n",
    "        an outlier removal\n",
    "\n",
    "    Returns\n",
    "    -------\n",
    "    clean_data : pandas Dataframe\n",
    "        The clean data\n",
    "    \"\"\"\n",
    "    clean_data = data.copy()\n",
    "    \n",
    "    for col in columns:\n",
    "        # find the removal threshold\n",
    "        Q3 = np.quantile(data[col], 0.75)\n",
    "        Q1 = np.quantile(data[col], 0.25)\n",
    "        IQR = Q3 - Q1\n",
    "        upper_threshold = 1.5 * IQR\n",
    "        lower_threshold = -1.5 * IQR\n",
    "        \n",
    "        # remove the outlier\n",
    "        clean_data[col] = clean_data[col][(clean_data[col] >= lower_threshold)\n",
    "                                          & (clean_data[col] <= upper_threshold)]\n",
    "        \n",
    "        clean_data = clean_data.dropna()\n",
    "        \n",
    "        return clean_data"
   ]
  },
  {
   "cell_type": "code",
   "execution_count": 75,
   "metadata": {},
   "outputs": [],
   "source": [
    "# remove outliers in train_set\n",
    "train_set_clean = remove_outlier(data = train_set,\n",
    "                                 columns = [\"avg_order_cost\"])"
   ]
  },
  {
   "cell_type": "code",
   "execution_count": 76,
   "metadata": {},
   "outputs": [
    {
     "data": {
      "text/html": [
       "<div>\n",
       "<style scoped>\n",
       "    .dataframe tbody tr th:only-of-type {\n",
       "        vertical-align: middle;\n",
       "    }\n",
       "\n",
       "    .dataframe tbody tr th {\n",
       "        vertical-align: top;\n",
       "    }\n",
       "\n",
       "    .dataframe thead th {\n",
       "        text-align: right;\n",
       "    }\n",
       "</style>\n",
       "<table border=\"1\" class=\"dataframe\">\n",
       "  <thead>\n",
       "    <tr style=\"text-align: right;\">\n",
       "      <th></th>\n",
       "      <th>number_of_purchases</th>\n",
       "      <th>avg_order_cost</th>\n",
       "      <th>revenue_2020</th>\n",
       "    </tr>\n",
       "    <tr>\n",
       "      <th>CustomerID</th>\n",
       "      <th></th>\n",
       "      <th></th>\n",
       "      <th></th>\n",
       "    </tr>\n",
       "  </thead>\n",
       "  <tbody>\n",
       "    <tr>\n",
       "      <th>12947.0</th>\n",
       "      <td>1</td>\n",
       "      <td>304.04</td>\n",
       "      <td>1299.95</td>\n",
       "    </tr>\n",
       "    <tr>\n",
       "      <th>13077.0</th>\n",
       "      <td>1</td>\n",
       "      <td>313.72</td>\n",
       "      <td>415.55</td>\n",
       "    </tr>\n",
       "    <tr>\n",
       "      <th>14220.0</th>\n",
       "      <td>1</td>\n",
       "      <td>312.98</td>\n",
       "      <td>319.42</td>\n",
       "    </tr>\n",
       "    <tr>\n",
       "      <th>17870.0</th>\n",
       "      <td>1</td>\n",
       "      <td>326.40</td>\n",
       "      <td>1567.95</td>\n",
       "    </tr>\n",
       "    <tr>\n",
       "      <th>14744.0</th>\n",
       "      <td>1</td>\n",
       "      <td>225.00</td>\n",
       "      <td>874.98</td>\n",
       "    </tr>\n",
       "  </tbody>\n",
       "</table>\n",
       "</div>"
      ],
      "text/plain": [
       "            number_of_purchases  avg_order_cost  revenue_2020\n",
       "CustomerID                                                   \n",
       "12947.0                       1          304.04       1299.95\n",
       "13077.0                       1          313.72        415.55\n",
       "14220.0                       1          312.98        319.42\n",
       "17870.0                       1          326.40       1567.95\n",
       "14744.0                       1          225.00        874.98"
      ]
     },
     "execution_count": 76,
     "metadata": {},
     "output_type": "execute_result"
    }
   ],
   "source": [
    "train_set_clean.head()"
   ]
  },
  {
   "cell_type": "code",
   "execution_count": 77,
   "metadata": {},
   "outputs": [
    {
     "data": {
      "image/png": "[encoded data removed]",
      "text/plain": [
       "<Figure size 1500x400 with 3 Axes>"
      ]
     },
     "metadata": {},
     "output_type": "display_data"
    }
   ],
   "source": [
    "# Show the data distribution\n",
    "fig, ax = plt.subplots(nrows=1, ncols=3, figsize=(15, 4))\n",
    "\n",
    "for i, cols_i in enumerate(train_set_clean.columns):\n",
    "    sns.histplot(train_set_clean[cols_i],\n",
    "                 ax = ax[i])\n",
    "\n",
    "plt.show()"
   ]
  },
  {
   "cell_type": "code",
   "execution_count": 80,
   "metadata": {},
   "outputs": [
    {
     "name": "stderr",
     "output_type": "stream",
     "text": [
      "/var/folders/0n/lqrxkmhn4857m0df9f7d0z400000gn/T/ipykernel_2115/1361225618.py:5: FutureWarning: \n",
      "\n",
      "Passing `palette` without assigning `hue` is deprecated and will be removed in v0.14.0. Assign the `y` variable to `hue` and set `legend=False` for the same effect.\n",
      "\n",
      "  sns.boxplot(x=train_set_clean[train_set_clean.columns[i]], palette='Blues_d')\n",
      "/var/folders/0n/lqrxkmhn4857m0df9f7d0z400000gn/T/ipykernel_2115/1361225618.py:5: FutureWarning: \n",
      "\n",
      "Passing `palette` without assigning `hue` is deprecated and will be removed in v0.14.0. Assign the `y` variable to `hue` and set `legend=False` for the same effect.\n",
      "\n",
      "  sns.boxplot(x=train_set_clean[train_set_clean.columns[i]], palette='Blues_d')\n",
      "/var/folders/0n/lqrxkmhn4857m0df9f7d0z400000gn/T/ipykernel_2115/1361225618.py:5: FutureWarning: \n",
      "\n",
      "Passing `palette` without assigning `hue` is deprecated and will be removed in v0.14.0. Assign the `y` variable to `hue` and set `legend=False` for the same effect.\n",
      "\n",
      "  sns.boxplot(x=train_set_clean[train_set_clean.columns[i]], palette='Blues_d')\n"
     ]
    },
    {
     "data": {
      "image/png": "[encoded data removed]",
      "text/plain": [
       "<Figure size 1500x600 with 3 Axes>"
      ]
     },
     "metadata": {},
     "output_type": "display_data"
    }
   ],
   "source": [
    "# Show boxplot\n",
    "plt.figure(figsize=(15,6))\n",
    "for i in range(len(train_set_clean.columns)):\n",
    "    plt.subplot(1, 3, i+1)\n",
    "    sns.boxplot(x=train_set_clean[train_set_clean.columns[i]], palette='Blues_d')\n",
    "    plt.title(train_set_clean.columns[i], fontsize=20)\n",
    "    plt.xlabel(' ')\n",
    "    plt.tight_layout()"
   ]
  },
  {
   "cell_type": "markdown",
   "metadata": {},
   "source": [
    "- The outliers have been removed\n",
    "- Now we need to split again clean data input and output"
   ]
  },
  {
   "cell_type": "code",
   "execution_count": 81,
   "metadata": {},
   "outputs": [
    {
     "data": {
      "text/plain": [
       "Text(0.5, 1.0, 'avg_order_cost vs revenue_2020')"
      ]
     },
     "execution_count": 81,
     "metadata": {},
     "output_type": "execute_result"
    },
    {
     "data": {
      "image/png": "[encoded data removed]",
      "text/plain": [
       "<Figure size 640x480 with 1 Axes>"
      ]
     },
     "metadata": {},
     "output_type": "display_data"
    }
   ],
   "source": [
    "# check scatterplot \n",
    "sns.scatterplot(x = 'avg_order_cost',\n",
    "                y = 'revenue_2020', \n",
    "                data = train_set_clean)\n",
    "\n",
    "# title\n",
    "plt.title('avg_order_cost vs revenue_2020', fontsize = 12)"
   ]
  },
  {
   "cell_type": "code",
   "execution_count": 82,
   "metadata": {},
   "outputs": [
    {
     "data": {
      "text/plain": [
       "Text(0.5, 1.0, 'number_of_purchases vs revenue_2020')"
      ]
     },
     "execution_count": 82,
     "metadata": {},
     "output_type": "execute_result"
    },
    {
     "data": {
      "image/png": "[encoded data removed]",
      "text/plain": [
       "<Figure size 640x480 with 1 Axes>"
      ]
     },
     "metadata": {},
     "output_type": "display_data"
    }
   ],
   "source": [
    "# check scatterplot \n",
    "sns.scatterplot(x = 'number_of_purchases',\n",
    "                y = 'revenue_2020', \n",
    "                data = train_set_clean)\n",
    "\n",
    "# title\n",
    "plt.title('number_of_purchases vs revenue_2020', fontsize = 12)"
   ]
  },
  {
   "cell_type": "code",
   "execution_count": 83,
   "metadata": {},
   "outputs": [],
   "source": [
    "# split again the cleaned data\n",
    "X_train, y_train = split_input_output(data = train_set_clean, \n",
    "                                      target_column = \"revenue_2020\")"
   ]
  },
  {
   "cell_type": "markdown",
   "metadata": {},
   "source": [
    "# <font color='White'> **6. Modelling**</font>\n",
    "---\n",
    "- We will define the baseline model using average of the target variable as 'naive' prediction\n",
    "- Then we fit the linear regression model\n",
    "- Make evaluation using RMSE"
   ]
  },
  {
   "cell_type": "markdown",
   "metadata": {},
   "source": [
    "## **6.1 Baseline Model**\n",
    "---\n",
    "- Since our target feature is continuous, we can predict naively by using mean of the target variable\n",
    "- So, our baseline in this case is the average of revenue_2020"
   ]
  },
  {
   "cell_type": "code",
   "execution_count": 84,
   "metadata": {},
   "outputs": [
    {
     "name": "stdout",
     "output_type": "stream",
     "text": [
      "Baseline prediction :  2675.8296\n"
     ]
    }
   ],
   "source": [
    "# obtain the baseline prediction\n",
    "# Baseline prediction of regression is the mean of the target variable\n",
    "y_pred_baseline = np.mean(y_train)\n",
    "\n",
    "print(f\"Baseline prediction : {y_pred_baseline: .4f}\")"
   ]
  },
  {
   "cell_type": "markdown",
   "metadata": {},
   "source": [
    "## **6.2 Fitting**\n",
    "---"
   ]
  },
  {
   "cell_type": "markdown",
   "metadata": {},
   "source": [
    "**Linear Regression**\n",
    "\n",
    "---\n",
    "In linear regression, the target value is expected to be a linear combination of the features\n",
    "\n",
    "$$\n",
    "\\hat{f}(x, w) = w_{0} + w_{1} . x_{1} + w_{2} . x_{2}\n",
    "$$\n",
    "<br>\n",
    "\n",
    "As for our cases, the linear regression would be\n",
    "\n",
    "$$\n",
    "\\widehat{\\text{revenue}}(x,w) = w_{0} + w_{1} . x_{1} + w_{2} . x_{2}\n",
    "$$\n",
    "\n",
    "where\n",
    "- $x_{1}$ : number_of_purchases\n",
    "- $x_{2}$ : avg_order_cost"
   ]
  },
  {
   "cell_type": "markdown",
   "metadata": {},
   "source": [
    "**Solving Linear Regression**\n",
    "\n",
    "---\n",
    "\n",
    "We solve the linear regression by minimizing the sum of squared error and obtain the optimum weight\n",
    "\n",
    "$$\n",
    "w_{\\text{optimum}} = \\underset{w}{\\arg \\min} \\ ||Xw - y||^{2}_{2}\n",
    "$$\n",
    "\n",
    "<br>\n",
    "\n",
    "It is an [ordinary least square problem](https://www.stat.cmu.edu/~hseltman/309/Book/chapter9.pdf). We can find $w_{\\text{optimum}}$ by solving the normal equation\n",
    "\n",
    "$$\n",
    "w_{\\text{optimum}} = (X^{T} X)^{-1} X^{T} y\n",
    "$$\n",
    "\n",
    "<br>\n",
    "\n",
    "In this course, we will solve it using the sklearn library"
   ]
  },
  {
   "cell_type": "code",
   "execution_count": 85,
   "metadata": {},
   "outputs": [],
   "source": [
    "# import library\n",
    "from sklearn.linear_model import LinearRegression"
   ]
  },
  {
   "cell_type": "code",
   "execution_count": 86,
   "metadata": {},
   "outputs": [],
   "source": [
    "# Make an Object\n",
    "lr = LinearRegression()"
   ]
  },
  {
   "cell_type": "code",
   "execution_count": 87,
   "metadata": {},
   "outputs": [
    {
     "data": {
      "text/html": [
       "<style>#sk-container-id-1 {\n",
       "  /* Definition of color scheme common for light and dark mode */\n",
       "  --sklearn-color-text: black;\n",
       "  --sklearn-color-line: gray;\n",
       "  /* Definition of color scheme for unfitted estimators */\n",
       "  --sklearn-color-unfitted-level-0: #fff5e6;\n",
       "  --sklearn-color-unfitted-level-1: #f6e4d2;\n",
       "  --sklearn-color-unfitted-level-2: #ffe0b3;\n",
       "  --sklearn-color-unfitted-level-3: chocolate;\n",
       "  /* Definition of color scheme for fitted estimators */\n",
       "  --sklearn-color-fitted-level-0: #f0f8ff;\n",
       "  --sklearn-color-fitted-level-1: #d4ebff;\n",
       "  --sklearn-color-fitted-level-2: #b3dbfd;\n",
       "  --sklearn-color-fitted-level-3: cornflowerblue;\n",
       "\n",
       "  /* Specific color for light theme */\n",
       "  --sklearn-color-text-on-default-background: var(--sg-text-color, var(--theme-code-foreground, var(--jp-content-font-color1, black)));\n",
       "  --sklearn-color-background: var(--sg-background-color, var(--theme-background, var(--jp-layout-color0, white)));\n",
       "  --sklearn-color-border-box: var(--sg-text-color, var(--theme-code-foreground, var(--jp-content-font-color1, black)));\n",
       "  --sklearn-color-icon: #696969;\n",
       "\n",
       "  @media (prefers-color-scheme: dark) {\n",
       "    /* Redefinition of color scheme for dark theme */\n",
       "    --sklearn-color-text-on-default-background: var(--sg-text-color, var(--theme-code-foreground, var(--jp-content-font-color1, white)));\n",
       "    --sklearn-color-background: var(--sg-background-color, var(--theme-background, var(--jp-layout-color0, #111)));\n",
       "    --sklearn-color-border-box: var(--sg-text-color, var(--theme-code-foreground, var(--jp-content-font-color1, white)));\n",
       "    --sklearn-color-icon: #878787;\n",
       "  }\n",
       "}\n",
       "\n",
       "#sk-container-id-1 {\n",
       "  color: var(--sklearn-color-text);\n",
       "}\n",
       "\n",
       "#sk-container-id-1 pre {\n",
       "  padding: 0;\n",
       "}\n",
       "\n",
       "#sk-container-id-1 input.sk-hidden--visually {\n",
       "  border: 0;\n",
       "  clip: rect(1px 1px 1px 1px);\n",
       "  clip: rect(1px, 1px, 1px, 1px);\n",
       "  height: 1px;\n",
       "  margin: -1px;\n",
       "  overflow: hidden;\n",
       "  padding: 0;\n",
       "  position: absolute;\n",
       "  width: 1px;\n",
       "}\n",
       "\n",
       "#sk-container-id-1 div.sk-dashed-wrapped {\n",
       "  border: 1px dashed var(--sklearn-color-line);\n",
       "  margin: 0 0.4em 0.5em 0.4em;\n",
       "  box-sizing: border-box;\n",
       "  padding-bottom: 0.4em;\n",
       "  background-color: var(--sklearn-color-background);\n",
       "}\n",
       "\n",
       "#sk-container-id-1 div.sk-container {\n",
       "  /* jupyter's `normalize.less` sets `[hidden] { display: none; }`\n",
       "     but bootstrap.min.css set `[hidden] { display: none !important; }`\n",
       "     so we also need the `!important` here to be able to override the\n",
       "     default hidden behavior on the sphinx rendered scikit-learn.org.\n",
       "     See: https://github.com/scikit-learn/scikit-learn/issues/21755 */\n",
       "  display: inline-block !important;\n",
       "  position: relative;\n",
       "}\n",
       "\n",
       "#sk-container-id-1 div.sk-text-repr-fallback {\n",
       "  display: none;\n",
       "}\n",
       "\n",
       "div.sk-parallel-item,\n",
       "div.sk-serial,\n",
       "div.sk-item {\n",
       "  /* draw centered vertical line to link estimators */\n",
       "  background-image: linear-gradient(var(--sklearn-color-text-on-default-background), var(--sklearn-color-text-on-default-background));\n",
       "  background-size: 2px 100%;\n",
       "  background-repeat: no-repeat;\n",
       "  background-position: center center;\n",
       "}\n",
       "\n",
       "/* Parallel-specific style estimator block */\n",
       "\n",
       "#sk-container-id-1 div.sk-parallel-item::after {\n",
       "  content: \"\";\n",
       "  width: 100%;\n",
       "  border-bottom: 2px solid var(--sklearn-color-text-on-default-background);\n",
       "  flex-grow: 1;\n",
       "}\n",
       "\n",
       "#sk-container-id-1 div.sk-parallel {\n",
       "  display: flex;\n",
       "  align-items: stretch;\n",
       "  justify-content: center;\n",
       "  background-color: var(--sklearn-color-background);\n",
       "  position: relative;\n",
       "}\n",
       "\n",
       "#sk-container-id-1 div.sk-parallel-item {\n",
       "  display: flex;\n",
       "  flex-direction: column;\n",
       "}\n",
       "\n",
       "#sk-container-id-1 div.sk-parallel-item:first-child::after {\n",
       "  align-self: flex-end;\n",
       "  width: 50%;\n",
       "}\n",
       "\n",
       "#sk-container-id-1 div.sk-parallel-item:last-child::after {\n",
       "  align-self: flex-start;\n",
       "  width: 50%;\n",
       "}\n",
       "\n",
       "#sk-container-id-1 div.sk-parallel-item:only-child::after {\n",
       "  width: 0;\n",
       "}\n",
       "\n",
       "/* Serial-specific style estimator block */\n",
       "\n",
       "#sk-container-id-1 div.sk-serial {\n",
       "  display: flex;\n",
       "  flex-direction: column;\n",
       "  align-items: center;\n",
       "  background-color: var(--sklearn-color-background);\n",
       "  padding-right: 1em;\n",
       "  padding-left: 1em;\n",
       "}\n",
       "\n",
       "\n",
       "/* Toggleable style: style used for estimator/Pipeline/ColumnTransformer box that is\n",
       "clickable and can be expanded/collapsed.\n",
       "- Pipeline and ColumnTransformer use this feature and define the default style\n",
       "- Estimators will overwrite some part of the style using the `sk-estimator` class\n",
       "*/\n",
       "\n",
       "/* Pipeline and ColumnTransformer style (default) */\n",
       "\n",
       "#sk-container-id-1 div.sk-toggleable {\n",
       "  /* Default theme specific background. It is overwritten whether we have a\n",
       "  specific estimator or a Pipeline/ColumnTransformer */\n",
       "  background-color: var(--sklearn-color-background);\n",
       "}\n",
       "\n",
       "/* Toggleable label */\n",
       "#sk-container-id-1 label.sk-toggleable__label {\n",
       "  cursor: pointer;\n",
       "  display: block;\n",
       "  width: 100%;\n",
       "  margin-bottom: 0;\n",
       "  padding: 0.5em;\n",
       "  box-sizing: border-box;\n",
       "  text-align: center;\n",
       "}\n",
       "\n",
       "#sk-container-id-1 label.sk-toggleable__label-arrow:before {\n",
       "  /* Arrow on the left of the label */\n",
       "  content: \"▸\";\n",
       "  float: left;\n",
       "  margin-right: 0.25em;\n",
       "  color: var(--sklearn-color-icon);\n",
       "}\n",
       "\n",
       "#sk-container-id-1 label.sk-toggleable__label-arrow:hover:before {\n",
       "  color: var(--sklearn-color-text);\n",
       "}\n",
       "\n",
       "/* Toggleable content - dropdown */\n",
       "\n",
       "#sk-container-id-1 div.sk-toggleable__content {\n",
       "  max-height: 0;\n",
       "  max-width: 0;\n",
       "  overflow: hidden;\n",
       "  text-align: left;\n",
       "  /* unfitted */\n",
       "  background-color: var(--sklearn-color-unfitted-level-0);\n",
       "}\n",
       "\n",
       "#sk-container-id-1 div.sk-toggleable__content.fitted {\n",
       "  /* fitted */\n",
       "  background-color: var(--sklearn-color-fitted-level-0);\n",
       "}\n",
       "\n",
       "#sk-container-id-1 div.sk-toggleable__content pre {\n",
       "  margin: 0.2em;\n",
       "  border-radius: 0.25em;\n",
       "  color: var(--sklearn-color-text);\n",
       "  /* unfitted */\n",
       "  background-color: var(--sklearn-color-unfitted-level-0);\n",
       "}\n",
       "\n",
       "#sk-container-id-1 div.sk-toggleable__content.fitted pre {\n",
       "  /* unfitted */\n",
       "  background-color: var(--sklearn-color-fitted-level-0);\n",
       "}\n",
       "\n",
       "#sk-container-id-1 input.sk-toggleable__control:checked~div.sk-toggleable__content {\n",
       "  /* Expand drop-down */\n",
       "  max-height: 200px;\n",
       "  max-width: 100%;\n",
       "  overflow: auto;\n",
       "}\n",
       "\n",
       "#sk-container-id-1 input.sk-toggleable__control:checked~label.sk-toggleable__label-arrow:before {\n",
       "  content: \"▾\";\n",
       "}\n",
       "\n",
       "/* Pipeline/ColumnTransformer-specific style */\n",
       "\n",
       "#sk-container-id-1 div.sk-label input.sk-toggleable__control:checked~label.sk-toggleable__label {\n",
       "  color: var(--sklearn-color-text);\n",
       "  background-color: var(--sklearn-color-unfitted-level-2);\n",
       "}\n",
       "\n",
       "#sk-container-id-1 div.sk-label.fitted input.sk-toggleable__control:checked~label.sk-toggleable__label {\n",
       "  background-color: var(--sklearn-color-fitted-level-2);\n",
       "}\n",
       "\n",
       "/* Estimator-specific style */\n",
       "\n",
       "/* Colorize estimator box */\n",
       "#sk-container-id-1 div.sk-estimator input.sk-toggleable__control:checked~label.sk-toggleable__label {\n",
       "  /* unfitted */\n",
       "  background-color: var(--sklearn-color-unfitted-level-2);\n",
       "}\n",
       "\n",
       "#sk-container-id-1 div.sk-estimator.fitted input.sk-toggleable__control:checked~label.sk-toggleable__label {\n",
       "  /* fitted */\n",
       "  background-color: var(--sklearn-color-fitted-level-2);\n",
       "}\n",
       "\n",
       "#sk-container-id-1 div.sk-label label.sk-toggleable__label,\n",
       "#sk-container-id-1 div.sk-label label {\n",
       "  /* The background is the default theme color */\n",
       "  color: var(--sklearn-color-text-on-default-background);\n",
       "}\n",
       "\n",
       "/* On hover, darken the color of the background */\n",
       "#sk-container-id-1 div.sk-label:hover label.sk-toggleable__label {\n",
       "  color: var(--sklearn-color-text);\n",
       "  background-color: var(--sklearn-color-unfitted-level-2);\n",
       "}\n",
       "\n",
       "/* Label box, darken color on hover, fitted */\n",
       "#sk-container-id-1 div.sk-label.fitted:hover label.sk-toggleable__label.fitted {\n",
       "  color: var(--sklearn-color-text);\n",
       "  background-color: var(--sklearn-color-fitted-level-2);\n",
       "}\n",
       "\n",
       "/* Estimator label */\n",
       "\n",
       "#sk-container-id-1 div.sk-label label {\n",
       "  font-family: monospace;\n",
       "  font-weight: bold;\n",
       "  display: inline-block;\n",
       "  line-height: 1.2em;\n",
       "}\n",
       "\n",
       "#sk-container-id-1 div.sk-label-container {\n",
       "  text-align: center;\n",
       "}\n",
       "\n",
       "/* Estimator-specific */\n",
       "#sk-container-id-1 div.sk-estimator {\n",
       "  font-family: monospace;\n",
       "  border: 1px dotted var(--sklearn-color-border-box);\n",
       "  border-radius: 0.25em;\n",
       "  box-sizing: border-box;\n",
       "  margin-bottom: 0.5em;\n",
       "  /* unfitted */\n",
       "  background-color: var(--sklearn-color-unfitted-level-0);\n",
       "}\n",
       "\n",
       "#sk-container-id-1 div.sk-estimator.fitted {\n",
       "  /* fitted */\n",
       "  background-color: var(--sklearn-color-fitted-level-0);\n",
       "}\n",
       "\n",
       "/* on hover */\n",
       "#sk-container-id-1 div.sk-estimator:hover {\n",
       "  /* unfitted */\n",
       "  background-color: var(--sklearn-color-unfitted-level-2);\n",
       "}\n",
       "\n",
       "#sk-container-id-1 div.sk-estimator.fitted:hover {\n",
       "  /* fitted */\n",
       "  background-color: var(--sklearn-color-fitted-level-2);\n",
       "}\n",
       "\n",
       "/* Specification for estimator info (e.g. \"i\" and \"?\") */\n",
       "\n",
       "/* Common style for \"i\" and \"?\" */\n",
       "\n",
       ".sk-estimator-doc-link,\n",
       "a:link.sk-estimator-doc-link,\n",
       "a:visited.sk-estimator-doc-link {\n",
       "  float: right;\n",
       "  font-size: smaller;\n",
       "  line-height: 1em;\n",
       "  font-family: monospace;\n",
       "  background-color: var(--sklearn-color-background);\n",
       "  border-radius: 1em;\n",
       "  height: 1em;\n",
       "  width: 1em;\n",
       "  text-decoration: none !important;\n",
       "  margin-left: 1ex;\n",
       "  /* unfitted */\n",
       "  border: var(--sklearn-color-unfitted-level-1) 1pt solid;\n",
       "  color: var(--sklearn-color-unfitted-level-1);\n",
       "}\n",
       "\n",
       ".sk-estimator-doc-link.fitted,\n",
       "a:link.sk-estimator-doc-link.fitted,\n",
       "a:visited.sk-estimator-doc-link.fitted {\n",
       "  /* fitted */\n",
       "  border: var(--sklearn-color-fitted-level-1) 1pt solid;\n",
       "  color: var(--sklearn-color-fitted-level-1);\n",
       "}\n",
       "\n",
       "/* On hover */\n",
       "div.sk-estimator:hover .sk-estimator-doc-link:hover,\n",
       ".sk-estimator-doc-link:hover,\n",
       "div.sk-label-container:hover .sk-estimator-doc-link:hover,\n",
       ".sk-estimator-doc-link:hover {\n",
       "  /* unfitted */\n",
       "  background-color: var(--sklearn-color-unfitted-level-3);\n",
       "  color: var(--sklearn-color-background);\n",
       "  text-decoration: none;\n",
       "}\n",
       "\n",
       "div.sk-estimator.fitted:hover .sk-estimator-doc-link.fitted:hover,\n",
       ".sk-estimator-doc-link.fitted:hover,\n",
       "div.sk-label-container:hover .sk-estimator-doc-link.fitted:hover,\n",
       ".sk-estimator-doc-link.fitted:hover {\n",
       "  /* fitted */\n",
       "  background-color: var(--sklearn-color-fitted-level-3);\n",
       "  color: var(--sklearn-color-background);\n",
       "  text-decoration: none;\n",
       "}\n",
       "\n",
       "/* Span, style for the box shown on hovering the info icon */\n",
       ".sk-estimator-doc-link span {\n",
       "  display: none;\n",
       "  z-index: 9999;\n",
       "  position: relative;\n",
       "  font-weight: normal;\n",
       "  right: .2ex;\n",
       "  padding: .5ex;\n",
       "  margin: .5ex;\n",
       "  width: min-content;\n",
       "  min-width: 20ex;\n",
       "  max-width: 50ex;\n",
       "  color: var(--sklearn-color-text);\n",
       "  box-shadow: 2pt 2pt 4pt #999;\n",
       "  /* unfitted */\n",
       "  background: var(--sklearn-color-unfitted-level-0);\n",
       "  border: .5pt solid var(--sklearn-color-unfitted-level-3);\n",
       "}\n",
       "\n",
       ".sk-estimator-doc-link.fitted span {\n",
       "  /* fitted */\n",
       "  background: var(--sklearn-color-fitted-level-0);\n",
       "  border: var(--sklearn-color-fitted-level-3);\n",
       "}\n",
       "\n",
       ".sk-estimator-doc-link:hover span {\n",
       "  display: block;\n",
       "}\n",
       "\n",
       "/* \"?\"-specific style due to the `<a>` HTML tag */\n",
       "\n",
       "#sk-container-id-1 a.estimator_doc_link {\n",
       "  float: right;\n",
       "  font-size: 1rem;\n",
       "  line-height: 1em;\n",
       "  font-family: monospace;\n",
       "  background-color: var(--sklearn-color-background);\n",
       "  border-radius: 1rem;\n",
       "  height: 1rem;\n",
       "  width: 1rem;\n",
       "  text-decoration: none;\n",
       "  /* unfitted */\n",
       "  color: var(--sklearn-color-unfitted-level-1);\n",
       "  border: var(--sklearn-color-unfitted-level-1) 1pt solid;\n",
       "}\n",
       "\n",
       "#sk-container-id-1 a.estimator_doc_link.fitted {\n",
       "  /* fitted */\n",
       "  border: var(--sklearn-color-fitted-level-1) 1pt solid;\n",
       "  color: var(--sklearn-color-fitted-level-1);\n",
       "}\n",
       "\n",
       "/* On hover */\n",
       "#sk-container-id-1 a.estimator_doc_link:hover {\n",
       "  /* unfitted */\n",
       "  background-color: var(--sklearn-color-unfitted-level-3);\n",
       "  color: var(--sklearn-color-background);\n",
       "  text-decoration: none;\n",
       "}\n",
       "\n",
       "#sk-container-id-1 a.estimator_doc_link.fitted:hover {\n",
       "  /* fitted */\n",
       "  background-color: var(--sklearn-color-fitted-level-3);\n",
       "}\n",
       "</style><div id=\"sk-container-id-1\" class=\"sk-top-container\"><div class=\"sk-text-repr-fallback\"><pre>LinearRegression()</pre><b>In a Jupyter environment, please rerun this cell to show the HTML representation or trust the notebook. <br />On GitHub, the HTML representation is unable to render, please try loading this page with nbviewer.org.</b></div><div class=\"sk-container\" hidden><div class=\"sk-item\"><div class=\"sk-estimator fitted sk-toggleable\"><input class=\"sk-toggleable__control sk-hidden--visually\" id=\"sk-estimator-id-1\" type=\"checkbox\" checked><label for=\"sk-estimator-id-1\" class=\"sk-toggleable__label fitted sk-toggleable__label-arrow fitted\">&nbsp;&nbsp;LinearRegression<a class=\"sk-estimator-doc-link fitted\" rel=\"noreferrer\" target=\"_blank\" href=\"https://scikit-learn.org/1.4/modules/generated/sklearn.linear_model.LinearRegression.html\">?<span>Documentation for LinearRegression</span></a><span class=\"sk-estimator-doc-link fitted\">i<span>Fitted</span></span></label><div class=\"sk-toggleable__content fitted\"><pre>LinearRegression()</pre></div> </div></div></div></div>"
      ],
      "text/plain": [
       "LinearRegression()"
      ]
     },
     "execution_count": 87,
     "metadata": {},
     "output_type": "execute_result"
    }
   ],
   "source": [
    "# Fitting \n",
    "lr.fit(X = X_train,\n",
    "       y = y_train)"
   ]
  },
  {
   "cell_type": "markdown",
   "metadata": {},
   "source": [
    "## **6.3 Evaluation**\n",
    "---"
   ]
  },
  {
   "cell_type": "markdown",
   "metadata": {},
   "source": [
    "**Evaluation**\n",
    "1. Evaluate the performance of the baseline model and the linear regression model on the training data, and compare which model performs better.\n",
    "2. Evaluate the performance of the baseline model and the linear regression model on the testing data.\n",
    "3. Select the model with the best performance on the testing data as the final model.\n",
    "4. Use the testing performance of the final model as a reference for further analysis."
   ]
  },
  {
   "cell_type": "markdown",
   "metadata": {},
   "source": [
    "In this part, we will evaluate the model by observing the **RMSE** as the model performance metrics."
   ]
  },
  {
   "cell_type": "code",
   "execution_count": 88,
   "metadata": {},
   "outputs": [],
   "source": [
    "# import library\n",
    "from sklearn.metrics import mean_squared_error\n",
    "\n",
    "# Create an RSME metrics\n",
    "def root_mean_squared_error(y_true, y_pred):\n",
    "    \"\"\"\n",
    "    Function to evaluate using RMSE\n",
    "\n",
    "    Parameters\n",
    "    ----------\n",
    "    y_true: <pandas dataframe>\n",
    "            dataframe ground truth (correct) target values\n",
    "\n",
    "    y_pred: <pandas dataframe>\n",
    "            dataframe estimated target values\n",
    "\n",
    "    Return\n",
    "    ------\n",
    "    RMSE: <float>\n",
    "          The square root of the mean squared error between y_true and y_pred.\n",
    "    \"\"\"\n",
    "    rsme = np.sqrt(mean_squared_error(y_true, y_pred))\n",
    "    return rsme"
   ]
  },
  {
   "cell_type": "code",
   "execution_count": 89,
   "metadata": {},
   "outputs": [
    {
     "name": "stdout",
     "output_type": "stream",
     "text": [
      "Baseline prediction : 2675.8296446700506\n"
     ]
    }
   ],
   "source": [
    "# Recall our baseline prediction\n",
    "print(f\"Baseline prediction : {y_pred_baseline}\")"
   ]
  },
  {
   "cell_type": "code",
   "execution_count": 90,
   "metadata": {},
   "outputs": [
    {
     "name": "stdout",
     "output_type": "stream",
     "text": [
      "RMSE baseline on training set : 7744.643527564131\n"
     ]
    }
   ],
   "source": [
    "# we use baseline model using RMSE metric\n",
    "rmse_baseline_train = np.sqrt(mean_squared_error(y_true = y_train,\n",
    "                                                 y_pred = np.ones(len(y_train)) * y_pred_baseline))\n",
    "# print training baseline RSME\n",
    "print(f\"RMSE baseline on training set : {rmse_baseline_train}\")"
   ]
  },
  {
   "cell_type": "markdown",
   "metadata": {},
   "source": [
    "Next, we see how the model perform on the training dataset"
   ]
  },
  {
   "cell_type": "code",
   "execution_count": 91,
   "metadata": {},
   "outputs": [],
   "source": [
    "# predict the training dataset\n",
    "y_pred_train = lr.predict(X_train)"
   ]
  },
  {
   "cell_type": "code",
   "execution_count": 92,
   "metadata": {},
   "outputs": [
    {
     "name": "stdout",
     "output_type": "stream",
     "text": [
      "RMSE linear regression on training set : 7355.2230\n"
     ]
    }
   ],
   "source": [
    "# calculate the model performance on training dataset\n",
    "rmse_train = root_mean_squared_error(y_true = y_train, \n",
    "                                     y_pred = y_pred_train)\n",
    "\n",
    "print(f\"RMSE linear regression on training set : {rmse_train:.4f}\")"
   ]
  },
  {
   "cell_type": "code",
   "execution_count": 93,
   "metadata": {},
   "outputs": [
    {
     "name": "stdout",
     "output_type": "stream",
     "text": [
      "RMSE baseline on training set :  7744.6435\n",
      "RMSE linear regression on training set : 7355.2230\n"
     ]
    }
   ],
   "source": [
    "# Summary, print RMSE in baseline and linear regression model \n",
    "print(f\"RMSE baseline on training set : {rmse_baseline_train: .4f}\")\n",
    "print(f\"RMSE linear regression on training set : {rmse_train:.4f}\")"
   ]
  },
  {
   "cell_type": "markdown",
   "metadata": {},
   "source": [
    "Our model works better than baseline in training data, we will try to validate using testing data"
   ]
  },
  {
   "cell_type": "markdown",
   "metadata": {},
   "source": [
    "Next, model performance on testing data\n",
    "We will choose the best model between baseline & linear regression on the test data (in reality we need validation data to choose the best model)\n",
    "\n",
    "the most important part, check your model performance in the test dataset, because you want your model to work on **the data that is never seen before**"
   ]
  },
  {
   "cell_type": "code",
   "execution_count": 94,
   "metadata": {},
   "outputs": [],
   "source": [
    "# Predict the test dataset\n",
    "y_pred_test = lr.predict(X_test)"
   ]
  },
  {
   "cell_type": "code",
   "execution_count": 95,
   "metadata": {},
   "outputs": [
    {
     "name": "stdout",
     "output_type": "stream",
     "text": [
      "RMSE linear regression on test set     : 5646.6829\n"
     ]
    }
   ],
   "source": [
    "# calculate the model performance on test dataset\n",
    "rmse_test = root_mean_squared_error(y_true = y_test, \n",
    "                                     y_pred = y_pred_test)\n",
    "\n",
    "print(f\"RMSE linear regression on test set     : {rmse_test:.4f}\")"
   ]
  },
  {
   "cell_type": "code",
   "execution_count": 96,
   "metadata": {},
   "outputs": [
    {
     "name": "stdout",
     "output_type": "stream",
     "text": [
      "Baseline RSME : 7744.6435\n",
      "Linear Regression RMSE on training set : 5646.6829\n"
     ]
    }
   ],
   "source": [
    "# Summary, print RMSE in baseline and linear regression model in test set\n",
    "print(f\"Baseline RSME : {rmse_baseline_train:.4f}\")\n",
    "print(f\"Linear Regression RMSE on training set : {rmse_test:.4f}\")"
   ]
  },
  {
   "cell_type": "code",
   "execution_count": 97,
   "metadata": {},
   "outputs": [
    {
     "name": "stdout",
     "output_type": "stream",
     "text": [
      "TRAINING SET\n",
      "------------\n",
      "RMSE Baseline          : 7744.6435\n",
      "RMSE Linear Regression : 7355.2230\n",
      "RMSE decrease          : 5.29 %\n",
      "\n",
      "TESTING SET\n",
      "------------\n",
      "RMSE Baseline          : 7744.6435\n",
      "RMSE Linear Regression : 5646.6829\n",
      "RMSE decrease          : 37.15 %\n"
     ]
    }
   ],
   "source": [
    "# Summary, print RMSE in baseline and linear regression model\n",
    "print(\"TRAINING SET\")\n",
    "print(\"------------\")\n",
    "print(f\"RMSE Baseline          : {rmse_baseline_train:.4f}\")\n",
    "print(f\"RMSE Linear Regression : {rmse_train:.4f}\")\n",
    "print(f\"RMSE decrease          : {((rmse_baseline_train-rmse_train)/rmse_train)*100:.2f} %\")\n",
    "print(\"\")\n",
    "\n",
    "# Summary, print RMSE in baseline and linear regression model in test set\n",
    "print(\"TESTING SET\")\n",
    "print(\"------------\")\n",
    "print(f\"RMSE Baseline          : {rmse_baseline_train:.4f}\")\n",
    "print(f\"RMSE Linear Regression : {rmse_test:.4f}\")\n",
    "print(f\"RMSE decrease          : {((rmse_baseline_train-rmse_test)/rmse_test)*100:.2f} %\")"
   ]
  },
  {
   "cell_type": "markdown",
   "metadata": {},
   "source": [
    "- The model performs better than the baseline model in terms of prediction accuracy, as it has a lower average prediction error.\n",
    "- We can choose linear regression model as our choosen model\n",
    "- The comparison suggests that the  model performs better than the baseline model. It has reduced the average prediction error from $\\$7744.6435$ to $\\$5646.68$ (or about 30.30% decrease in RMSE)"
   ]
  },
  {
   "cell_type": "markdown",
   "metadata": {},
   "source": [
    "# <font color='White'>**6. Interpretation**</font>\n",
    "---"
   ]
  },
  {
   "cell_type": "code",
   "execution_count": 106,
   "metadata": {},
   "outputs": [],
   "source": [
    "import pandas as pd\n",
    "\n",
    "def get_coef_df(X, lr):\n",
    "    \"\"\"\n",
    "    Function to get linear regression coefficients in dataframe format\n",
    "\n",
    "    Parameters\n",
    "    ----------\n",
    "    X:  <pandas dataframe>\n",
    "        The input features\n",
    "\n",
    "    lr: <LinearRegression object>\n",
    "        A fitted instance of the LinearRegression class from scikit-learn.\n",
    "\n",
    "    Return\n",
    "    ------\n",
    "\n",
    "    coef_df:  <pandas dataframe>\n",
    "              A DataFrame with two columns: \"Feature\" and \"Coefficient\".\n",
    "    \"\"\"\n",
    "    coef_df = pd.DataFrame({\n",
    "        # get feature name\n",
    "        \"Feature\": X.columns,\n",
    "        # get coefficient (slope)\n",
    "        \"Coefficient\": lr.coef_\n",
    "    })\n",
    "    # append coefficient (intercept)\n",
    "    coef_df = coef_df._append({\"Feature\": \"Intercept\", \"Coefficient\": lr.intercept_}, ignore_index=True)\n",
    "    \n",
    "    return coef_df\n"
   ]
  },
  {
   "cell_type": "code",
   "execution_count": 107,
   "metadata": {},
   "outputs": [
    {
     "data": {
      "text/html": [
       "<div>\n",
       "<style scoped>\n",
       "    .dataframe tbody tr th:only-of-type {\n",
       "        vertical-align: middle;\n",
       "    }\n",
       "\n",
       "    .dataframe tbody tr th {\n",
       "        vertical-align: top;\n",
       "    }\n",
       "\n",
       "    .dataframe thead th {\n",
       "        text-align: right;\n",
       "    }\n",
       "</style>\n",
       "<table border=\"1\" class=\"dataframe\">\n",
       "  <thead>\n",
       "    <tr style=\"text-align: right;\">\n",
       "      <th></th>\n",
       "      <th>Feature</th>\n",
       "      <th>Coefficient</th>\n",
       "    </tr>\n",
       "  </thead>\n",
       "  <tbody>\n",
       "    <tr>\n",
       "      <th>0</th>\n",
       "      <td>number_of_purchases</td>\n",
       "      <td>2216.321029</td>\n",
       "    </tr>\n",
       "    <tr>\n",
       "      <th>1</th>\n",
       "      <td>avg_order_cost</td>\n",
       "      <td>9.658117</td>\n",
       "    </tr>\n",
       "    <tr>\n",
       "      <th>2</th>\n",
       "      <td>Intercept</td>\n",
       "      <td>-2562.088467</td>\n",
       "    </tr>\n",
       "  </tbody>\n",
       "</table>\n",
       "</div>"
      ],
      "text/plain": [
       "               Feature  Coefficient\n",
       "0  number_of_purchases  2216.321029\n",
       "1       avg_order_cost     9.658117\n",
       "2            Intercept -2562.088467"
      ]
     },
     "execution_count": 107,
     "metadata": {},
     "output_type": "execute_result"
    }
   ],
   "source": [
    "get_coef_df(X_train, lr)"
   ]
  },
  {
   "cell_type": "markdown",
   "metadata": {},
   "source": [
    "**Coefficients Interpretation**\n",
    "----\n",
    "\n",
    "$$\n",
    "\\text{revenue_2020} = - 2562 + 2216.32 \\cdot \\text{number_of_purchases} + 9.6581\\cdot \\text{avg_order_cost}\n",
    "$$\n",
    "\n",
    "<br>\n",
    "\n",
    "- For every 1 unit increase in the number of purchases (number_of_purchases), we expect a 2216.32 dollar increase in revenue in 2020 (revenue_2020), holding all other features constant.\n",
    "- Marketing innitiative: Increase number_of_purchases by running cross-selling or discount promotion campaign<br>\n",
    "<br>\n",
    "\n",
    "- For every 1 dollar increase in the average order cost (avg_order_cost), we expect a 9.6581 dollar increase in revenue in 2020 (revenue_2020), holding all other features constant.\n",
    "- Marketing innitiative: We can implement upselling promotion to increase the average_order_cost\n",
    "\n",
    "<br>\n",
    "<br>\n",
    "\n",
    "- The intercept value (-2562) represents the expected revenue in 2020 (revenue_2020) when all the other independent variables are held constant at 0.\n",
    "- When there's no avg_order cost and number_of_purchases is equal to 0, the expected revenue is -2,562\n",
    "- It means if we do nothing, the company will get negative revenue (loss)\n",
    "- We should implement marketing treatment/innitiative in order to make revenue <br>"
   ]
  },
  {
   "cell_type": "markdown",
   "metadata": {},
   "source": [
    "# <font color='white'>**7. Analysis**</font>\n",
    "---\n",
    "- We want to implement Percentile Analysis to know which customer we should give special treatment\n",
    "- Define existing average revenue and target average revenue\n",
    "- Business Simulation\n",
    "\n"
   ]
  },
  {
   "cell_type": "markdown",
   "metadata": {},
   "source": [
    "## **7.1 Percentile Analysis**\n",
    "---\n",
    "- We want to analyze using percentile"
   ]
  },
  {
   "cell_type": "code",
   "execution_count": 108,
   "metadata": {},
   "outputs": [
    {
     "data": {
      "text/html": [
       "<div>\n",
       "<style scoped>\n",
       "    .dataframe tbody tr th:only-of-type {\n",
       "        vertical-align: middle;\n",
       "    }\n",
       "\n",
       "    .dataframe tbody tr th {\n",
       "        vertical-align: top;\n",
       "    }\n",
       "\n",
       "    .dataframe thead th {\n",
       "        text-align: right;\n",
       "    }\n",
       "</style>\n",
       "<table border=\"1\" class=\"dataframe\">\n",
       "  <thead>\n",
       "    <tr style=\"text-align: right;\">\n",
       "      <th></th>\n",
       "      <th>0</th>\n",
       "    </tr>\n",
       "  </thead>\n",
       "  <tbody>\n",
       "    <tr>\n",
       "      <th>count</th>\n",
       "      <td>154.000000</td>\n",
       "    </tr>\n",
       "    <tr>\n",
       "      <th>mean</th>\n",
       "      <td>4507.894227</td>\n",
       "    </tr>\n",
       "    <tr>\n",
       "      <th>std</th>\n",
       "      <td>5543.821150</td>\n",
       "    </tr>\n",
       "    <tr>\n",
       "      <th>min</th>\n",
       "      <td>-189.209357</td>\n",
       "    </tr>\n",
       "    <tr>\n",
       "      <th>5%</th>\n",
       "      <td>603.190874</td>\n",
       "    </tr>\n",
       "    <tr>\n",
       "      <th>10%</th>\n",
       "      <td>758.261605</td>\n",
       "    </tr>\n",
       "    <tr>\n",
       "      <th>20%</th>\n",
       "      <td>1258.523105</td>\n",
       "    </tr>\n",
       "    <tr>\n",
       "      <th>25%</th>\n",
       "      <td>1577.984650</td>\n",
       "    </tr>\n",
       "    <tr>\n",
       "      <th>30%</th>\n",
       "      <td>1759.798708</td>\n",
       "    </tr>\n",
       "    <tr>\n",
       "      <th>40%</th>\n",
       "      <td>2442.994607</td>\n",
       "    </tr>\n",
       "    <tr>\n",
       "      <th>50%</th>\n",
       "      <td>3157.702741</td>\n",
       "    </tr>\n",
       "    <tr>\n",
       "      <th>75%</th>\n",
       "      <td>5567.179549</td>\n",
       "    </tr>\n",
       "    <tr>\n",
       "      <th>max</th>\n",
       "      <td>54474.649117</td>\n",
       "    </tr>\n",
       "  </tbody>\n",
       "</table>\n",
       "</div>"
      ],
      "text/plain": [
       "                  0\n",
       "count    154.000000\n",
       "mean    4507.894227\n",
       "std     5543.821150\n",
       "min     -189.209357\n",
       "5%       603.190874\n",
       "10%      758.261605\n",
       "20%     1258.523105\n",
       "25%     1577.984650\n",
       "30%     1759.798708\n",
       "40%     2442.994607\n",
       "50%     3157.702741\n",
       "75%     5567.179549\n",
       "max    54474.649117"
      ]
     },
     "execution_count": 108,
     "metadata": {},
     "output_type": "execute_result"
    }
   ],
   "source": [
    "# print percentile analysis\n",
    "pd.DataFrame(y_pred_test).describe(percentiles=[.05, .1, .2, .25, .3, .4, .5, .75])"
   ]
  },
  {
   "cell_type": "markdown",
   "metadata": {},
   "source": [
    "`Business Question`\n",
    "- How can Azra develop unique marketing strategy to increase 50% average order revenue (revenue per customer)?\n",
    "\n",
    "`Solution`\n",
    "- Azra can implement **loyalty based promotion/campaign and upselling strategy** to keep top 75%-100% predicted sales percentile customers --> `Focus retain high value customers`\n",
    "- Azra can implement **cross selling strategy** to retail 25%-75% customers percentile\n",
    "- Azra can implement **discount offering / coupon code** promotion for top 5-25% predicted sales percentile customers"
   ]
  },
  {
   "cell_type": "markdown",
   "metadata": {},
   "source": [
    "## **7.2 Existing And Target Average Revenue**\n",
    "- We should define the existing average  revenue (revenue per customer) from the mean of y_pred\n",
    "- We want to simulate whether our marketing strategy implementation works well to increase 50% of average order value"
   ]
  },
  {
   "cell_type": "code",
   "execution_count": 109,
   "metadata": {},
   "outputs": [
    {
     "name": "stdout",
     "output_type": "stream",
     "text": [
      "Existing average revenue : 5142.86\n",
      "Target average revenue : 7714.30\n"
     ]
    }
   ],
   "source": [
    "# Existing Average Revenue\n",
    "print(f\"Existing average revenue : {df['revenue_2020'].mean():.2f}\")\n",
    "\n",
    "# Target Average Revenue\n",
    "print(f\"Target average revenue : {df['revenue_2020'].mean()*1.5:.2f}\")"
   ]
  },
  {
   "cell_type": "markdown",
   "metadata": {},
   "source": [
    "## **7.3 Simulation**\n",
    "- We want to make sure whether our marketing strategy can increase 50% of the average revenue or not\n",
    "- To achieve the 50% increase of average revenue, we want to conduct simulation of how many increase needed in predictor to increase 50% of average revenue?"
   ]
  },
  {
   "cell_type": "code",
   "execution_count": 114,
   "metadata": {},
   "outputs": [],
   "source": [
    "# read full data for simulation\n",
    "path = '/Users/adam/Documents/Projects/PACMANN/Cust-Market-Anaylitc/data/raw/azra_retail_dataset.csv'\n",
    "data = read_data(path)\n",
    "\n",
    "# set customerID as index\n",
    "data.set_index('CustomerID', inplace=True)"
   ]
  },
  {
   "cell_type": "code",
   "execution_count": 115,
   "metadata": {},
   "outputs": [
    {
     "data": {
      "text/html": [
       "<div>\n",
       "<style scoped>\n",
       "    .dataframe tbody tr th:only-of-type {\n",
       "        vertical-align: middle;\n",
       "    }\n",
       "\n",
       "    .dataframe tbody tr th {\n",
       "        vertical-align: top;\n",
       "    }\n",
       "\n",
       "    .dataframe thead th {\n",
       "        text-align: right;\n",
       "    }\n",
       "</style>\n",
       "<table border=\"1\" class=\"dataframe\">\n",
       "  <thead>\n",
       "    <tr style=\"text-align: right;\">\n",
       "      <th></th>\n",
       "      <th>number_of_purchases</th>\n",
       "      <th>avg_order_cost</th>\n",
       "      <th>revenue_2020</th>\n",
       "    </tr>\n",
       "    <tr>\n",
       "      <th>CustomerID</th>\n",
       "      <th></th>\n",
       "      <th></th>\n",
       "      <th></th>\n",
       "    </tr>\n",
       "  </thead>\n",
       "  <tbody>\n",
       "    <tr>\n",
       "      <th>12347.0</th>\n",
       "      <td>1</td>\n",
       "      <td>711.79</td>\n",
       "      <td>3598.21</td>\n",
       "    </tr>\n",
       "    <tr>\n",
       "      <th>12348.0</th>\n",
       "      <td>1</td>\n",
       "      <td>892.80</td>\n",
       "      <td>904.44</td>\n",
       "    </tr>\n",
       "    <tr>\n",
       "      <th>12370.0</th>\n",
       "      <td>2</td>\n",
       "      <td>934.01</td>\n",
       "      <td>1677.67</td>\n",
       "    </tr>\n",
       "    <tr>\n",
       "      <th>12377.0</th>\n",
       "      <td>1</td>\n",
       "      <td>1001.52</td>\n",
       "      <td>626.60</td>\n",
       "    </tr>\n",
       "    <tr>\n",
       "      <th>12383.0</th>\n",
       "      <td>1</td>\n",
       "      <td>600.72</td>\n",
       "      <td>1249.84</td>\n",
       "    </tr>\n",
       "  </tbody>\n",
       "</table>\n",
       "</div>"
      ],
      "text/plain": [
       "            number_of_purchases  avg_order_cost  revenue_2020\n",
       "CustomerID                                                   \n",
       "12347.0                       1          711.79       3598.21\n",
       "12348.0                       1          892.80        904.44\n",
       "12370.0                       2          934.01       1677.67\n",
       "12377.0                       1         1001.52        626.60\n",
       "12383.0                       1          600.72       1249.84"
      ]
     },
     "execution_count": 115,
     "metadata": {},
     "output_type": "execute_result"
    }
   ],
   "source": [
    "# show data\n",
    "data.head()"
   ]
  },
  {
   "cell_type": "code",
   "execution_count": 116,
   "metadata": {},
   "outputs": [],
   "source": [
    "def simulate_revenue_increase(df, predictors, predictor_variable, model):\n",
    "    \"\"\"\n",
    "    Simulate the increase in revenue by increasing every 5% of avg_order_cost and plot the results.\n",
    "\n",
    "    Parameters:\n",
    "    -----------\n",
    "    df : <pandas.DataFrame>\n",
    "         A DataFrame containing the predictors and target variable (revenue).\n",
    "\n",
    "    predictors : <list>\n",
    "                 A list of strings representing the names of the predictors.\n",
    "\n",
    "    predictor_variable : <str>\n",
    "                         The name of the predictor variable to be used in the simulation.\n",
    "\n",
    "    model : <sklearn model>\n",
    "            A trained sklearn model.\n",
    "\n",
    "    Returns:\n",
    "    --------\n",
    "    avg_rev_df : <pandas.DataFrame>\n",
    "                 A DataFrame of the average revenue vs the avg_order_cost increase.\n",
    "\n",
    "    plot : <matplotlib.pyplot.plot>\n",
    "           A plot of the average revenue vs the avg_order_cost increase.\n",
    "    \"\"\"\n",
    "\n",
    "    # Create Improvement Experiments\n",
    "    experiments = np.arange(-1, 1.05, 0.05)\n",
    "    experiments[20] = 0\n",
    "    avg_rev_list = []\n",
    "\n",
    "    for i in experiments:\n",
    "        # Create simulation data\n",
    "        df_simulation = df.copy()\n",
    "        df_simulation[predictor_variable] = df_simulation[predictor_variable] * (1 + i)\n",
    "\n",
    "        # Predict Simulation Values\n",
    "        X_sim = df_simulation[predictors]\n",
    "        y_sim_pred = model.predict(X_sim)\n",
    "\n",
    "        # Calculate Simulation Average Revenue\n",
    "        avg_rev = y_sim_pred.mean()\n",
    "        avg_rev_list.append(avg_rev)\n",
    "\n",
    "    # Create DataFrame of Results\n",
    "    avg_rev_df = pd.DataFrame({'Avg Order Cost Increase (%)': experiments, 'Average Revenue': avg_rev_list})\n",
    "\n",
    "    # Create Plot\n",
    "    fig, ax = plt.subplots()\n",
    "    ax.plot(experiments, avg_rev_list, marker='o', linewidth=1)\n",
    "    ax.set_ylabel('Average Revenue')\n",
    "    ax.set_xlabel('Avg Order Cost Increase (%)')\n",
    "    ax.set_title('Average Revenue vs Avg Order Cost Increase')\n",
    "    ax.axvline(linewidth=1, color='r', label='Current Condition')\n",
    "    ax.legend()\n",
    "\n",
    "    return avg_rev_df, fig"
   ]
  },
  {
   "cell_type": "code",
   "execution_count": 117,
   "metadata": {},
   "outputs": [
    {
     "data": {
      "image/png": "[encoded data removed]",
      "text/plain": [
       "<Figure size 640x480 with 1 Axes>"
      ]
     },
     "metadata": {},
     "output_type": "display_data"
    }
   ],
   "source": [
    "# plot figure\n",
    "avg_rev_df, fig = simulate_revenue_increase(df = data,\n",
    "                                            predictors = ['number_of_purchases', 'avg_order_cost'],\n",
    "                                            predictor_variable = 'avg_order_cost',\n",
    "                                            model = lr)"
   ]
  },
  {
   "cell_type": "code",
   "execution_count": 118,
   "metadata": {},
   "outputs": [
    {
     "data": {
      "text/html": [
       "<div>\n",
       "<style scoped>\n",
       "    .dataframe tbody tr th:only-of-type {\n",
       "        vertical-align: middle;\n",
       "    }\n",
       "\n",
       "    .dataframe tbody tr th {\n",
       "        vertical-align: top;\n",
       "    }\n",
       "\n",
       "    .dataframe thead th {\n",
       "        text-align: right;\n",
       "    }\n",
       "</style>\n",
       "<table border=\"1\" class=\"dataframe\">\n",
       "  <thead>\n",
       "    <tr style=\"text-align: right;\">\n",
       "      <th></th>\n",
       "      <th>Avg Order Cost Increase (%)</th>\n",
       "      <th>Average Revenue</th>\n",
       "    </tr>\n",
       "  </thead>\n",
       "  <tbody>\n",
       "    <tr>\n",
       "      <th>0</th>\n",
       "      <td>-1.00</td>\n",
       "      <td>565.643952</td>\n",
       "    </tr>\n",
       "    <tr>\n",
       "      <th>1</th>\n",
       "      <td>-0.95</td>\n",
       "      <td>781.686979</td>\n",
       "    </tr>\n",
       "    <tr>\n",
       "      <th>2</th>\n",
       "      <td>-0.90</td>\n",
       "      <td>997.730006</td>\n",
       "    </tr>\n",
       "    <tr>\n",
       "      <th>3</th>\n",
       "      <td>-0.85</td>\n",
       "      <td>1213.773033</td>\n",
       "    </tr>\n",
       "    <tr>\n",
       "      <th>4</th>\n",
       "      <td>-0.80</td>\n",
       "      <td>1429.816061</td>\n",
       "    </tr>\n",
       "    <tr>\n",
       "      <th>5</th>\n",
       "      <td>-0.75</td>\n",
       "      <td>1645.859088</td>\n",
       "    </tr>\n",
       "    <tr>\n",
       "      <th>6</th>\n",
       "      <td>-0.70</td>\n",
       "      <td>1861.902115</td>\n",
       "    </tr>\n",
       "    <tr>\n",
       "      <th>7</th>\n",
       "      <td>-0.65</td>\n",
       "      <td>2077.945143</td>\n",
       "    </tr>\n",
       "    <tr>\n",
       "      <th>8</th>\n",
       "      <td>-0.60</td>\n",
       "      <td>2293.988170</td>\n",
       "    </tr>\n",
       "    <tr>\n",
       "      <th>9</th>\n",
       "      <td>-0.55</td>\n",
       "      <td>2510.031197</td>\n",
       "    </tr>\n",
       "    <tr>\n",
       "      <th>10</th>\n",
       "      <td>-0.50</td>\n",
       "      <td>2726.074224</td>\n",
       "    </tr>\n",
       "    <tr>\n",
       "      <th>11</th>\n",
       "      <td>-0.45</td>\n",
       "      <td>2942.117252</td>\n",
       "    </tr>\n",
       "    <tr>\n",
       "      <th>12</th>\n",
       "      <td>-0.40</td>\n",
       "      <td>3158.160279</td>\n",
       "    </tr>\n",
       "    <tr>\n",
       "      <th>13</th>\n",
       "      <td>-0.35</td>\n",
       "      <td>3374.203306</td>\n",
       "    </tr>\n",
       "    <tr>\n",
       "      <th>14</th>\n",
       "      <td>-0.30</td>\n",
       "      <td>3590.246334</td>\n",
       "    </tr>\n",
       "    <tr>\n",
       "      <th>15</th>\n",
       "      <td>-0.25</td>\n",
       "      <td>3806.289361</td>\n",
       "    </tr>\n",
       "    <tr>\n",
       "      <th>16</th>\n",
       "      <td>-0.20</td>\n",
       "      <td>4022.332388</td>\n",
       "    </tr>\n",
       "    <tr>\n",
       "      <th>17</th>\n",
       "      <td>-0.15</td>\n",
       "      <td>4238.375415</td>\n",
       "    </tr>\n",
       "    <tr>\n",
       "      <th>18</th>\n",
       "      <td>-0.10</td>\n",
       "      <td>4454.418443</td>\n",
       "    </tr>\n",
       "    <tr>\n",
       "      <th>19</th>\n",
       "      <td>-0.05</td>\n",
       "      <td>4670.461470</td>\n",
       "    </tr>\n",
       "    <tr>\n",
       "      <th>20</th>\n",
       "      <td>0.00</td>\n",
       "      <td>4886.504497</td>\n",
       "    </tr>\n",
       "    <tr>\n",
       "      <th>21</th>\n",
       "      <td>0.05</td>\n",
       "      <td>5102.547524</td>\n",
       "    </tr>\n",
       "    <tr>\n",
       "      <th>22</th>\n",
       "      <td>0.10</td>\n",
       "      <td>5318.590552</td>\n",
       "    </tr>\n",
       "    <tr>\n",
       "      <th>23</th>\n",
       "      <td>0.15</td>\n",
       "      <td>5534.633579</td>\n",
       "    </tr>\n",
       "    <tr>\n",
       "      <th>24</th>\n",
       "      <td>0.20</td>\n",
       "      <td>5750.676606</td>\n",
       "    </tr>\n",
       "    <tr>\n",
       "      <th>25</th>\n",
       "      <td>0.25</td>\n",
       "      <td>5966.719634</td>\n",
       "    </tr>\n",
       "    <tr>\n",
       "      <th>26</th>\n",
       "      <td>0.30</td>\n",
       "      <td>6182.762661</td>\n",
       "    </tr>\n",
       "    <tr>\n",
       "      <th>27</th>\n",
       "      <td>0.35</td>\n",
       "      <td>6398.805688</td>\n",
       "    </tr>\n",
       "    <tr>\n",
       "      <th>28</th>\n",
       "      <td>0.40</td>\n",
       "      <td>6614.848715</td>\n",
       "    </tr>\n",
       "    <tr>\n",
       "      <th>29</th>\n",
       "      <td>0.45</td>\n",
       "      <td>6830.891743</td>\n",
       "    </tr>\n",
       "    <tr>\n",
       "      <th>30</th>\n",
       "      <td>0.50</td>\n",
       "      <td>7046.934770</td>\n",
       "    </tr>\n",
       "    <tr>\n",
       "      <th>31</th>\n",
       "      <td>0.55</td>\n",
       "      <td>7262.977797</td>\n",
       "    </tr>\n",
       "    <tr>\n",
       "      <th>32</th>\n",
       "      <td>0.60</td>\n",
       "      <td>7479.020825</td>\n",
       "    </tr>\n",
       "    <tr>\n",
       "      <th>33</th>\n",
       "      <td>0.65</td>\n",
       "      <td>7695.063852</td>\n",
       "    </tr>\n",
       "    <tr>\n",
       "      <th>34</th>\n",
       "      <td>0.70</td>\n",
       "      <td>7911.106879</td>\n",
       "    </tr>\n",
       "    <tr>\n",
       "      <th>35</th>\n",
       "      <td>0.75</td>\n",
       "      <td>8127.149906</td>\n",
       "    </tr>\n",
       "    <tr>\n",
       "      <th>36</th>\n",
       "      <td>0.80</td>\n",
       "      <td>8343.192934</td>\n",
       "    </tr>\n",
       "    <tr>\n",
       "      <th>37</th>\n",
       "      <td>0.85</td>\n",
       "      <td>8559.235961</td>\n",
       "    </tr>\n",
       "    <tr>\n",
       "      <th>38</th>\n",
       "      <td>0.90</td>\n",
       "      <td>8775.278988</td>\n",
       "    </tr>\n",
       "    <tr>\n",
       "      <th>39</th>\n",
       "      <td>0.95</td>\n",
       "      <td>8991.322016</td>\n",
       "    </tr>\n",
       "    <tr>\n",
       "      <th>40</th>\n",
       "      <td>1.00</td>\n",
       "      <td>9207.365043</td>\n",
       "    </tr>\n",
       "  </tbody>\n",
       "</table>\n",
       "</div>"
      ],
      "text/plain": [
       "    Avg Order Cost Increase (%)  Average Revenue\n",
       "0                         -1.00       565.643952\n",
       "1                         -0.95       781.686979\n",
       "2                         -0.90       997.730006\n",
       "3                         -0.85      1213.773033\n",
       "4                         -0.80      1429.816061\n",
       "5                         -0.75      1645.859088\n",
       "6                         -0.70      1861.902115\n",
       "7                         -0.65      2077.945143\n",
       "8                         -0.60      2293.988170\n",
       "9                         -0.55      2510.031197\n",
       "10                        -0.50      2726.074224\n",
       "11                        -0.45      2942.117252\n",
       "12                        -0.40      3158.160279\n",
       "13                        -0.35      3374.203306\n",
       "14                        -0.30      3590.246334\n",
       "15                        -0.25      3806.289361\n",
       "16                        -0.20      4022.332388\n",
       "17                        -0.15      4238.375415\n",
       "18                        -0.10      4454.418443\n",
       "19                        -0.05      4670.461470\n",
       "20                         0.00      4886.504497\n",
       "21                         0.05      5102.547524\n",
       "22                         0.10      5318.590552\n",
       "23                         0.15      5534.633579\n",
       "24                         0.20      5750.676606\n",
       "25                         0.25      5966.719634\n",
       "26                         0.30      6182.762661\n",
       "27                         0.35      6398.805688\n",
       "28                         0.40      6614.848715\n",
       "29                         0.45      6830.891743\n",
       "30                         0.50      7046.934770\n",
       "31                         0.55      7262.977797\n",
       "32                         0.60      7479.020825\n",
       "33                         0.65      7695.063852\n",
       "34                         0.70      7911.106879\n",
       "35                         0.75      8127.149906\n",
       "36                         0.80      8343.192934\n",
       "37                         0.85      8559.235961\n",
       "38                         0.90      8775.278988\n",
       "39                         0.95      8991.322016\n",
       "40                         1.00      9207.365043"
      ]
     },
     "execution_count": 118,
     "metadata": {},
     "output_type": "execute_result"
    }
   ],
   "source": [
    "# show df\n",
    "avg_rev_df.head(50)"
   ]
  },
  {
   "cell_type": "markdown",
   "metadata": {},
   "source": [
    "**Simulation Result**\n",
    "- We can achieve 50% increase in revenue_2020 by increasing avg_order_cost up to 70%%\n",
    "- We can increase the avg_order_cost by implementing the marketing recommendation above"
   ]
  },
  {
   "cell_type": "markdown",
   "metadata": {},
   "source": [
    "So, with the implementation of marketing strategy, with simple simulation, we need an increase of avg_customer_cost by 70% to increase revenue_2020 up to 50%"
   ]
  },
  {
   "cell_type": "code",
   "execution_count": null,
   "metadata": {},
   "outputs": [],
   "source": []
  }
 ],
 "metadata": {
  "kernelspec": {
   "display_name": "ds-venv",
   "language": "python",
   "name": "python3"
  },
  "language_info": {
   "codemirror_mode": {
    "name": "ipython",
    "version": 3
   },
   "file_extension": ".py",
   "mimetype": "text/x-python",
   "name": "python",
   "nbconvert_exporter": "python",
   "pygments_lexer": "ipython3",
   "version": "3.10.13"
  }
 },
 "nbformat": 4,
 "nbformat_minor": 2
}
