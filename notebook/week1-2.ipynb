{
 "cells": [
  {
   "cell_type": "markdown",
   "metadata": {},
   "source": [
    "# **Week 1 - Modeling Classification**\n",
    "\n",
    "Marketing and Customer Analytics - Sekolah Data - Pacmann Academy"
   ]
  },
  {
   "cell_type": "markdown",
   "metadata": {},
   "source": [
    "**Outline**\n",
    "1. Business Understanding\n",
    "2. Modelling Workflow\n",
    "3. Data Collection\n",
    "4. Data Splitting\n",
    "5. EDA\n",
    "6. Modelling\n",
    "7. Interpretation\n",
    "8. Evaluation\n",
    "9. Simulation\n",
    "\n",
    "Ref: [Link](https://sciencepublishinggroup.com/journal/paperinfo?journalid=390&doi=10.11648/j.ijdst.20180401.15)\n",
    "\n",
    "\n",
    "Load packages"
   ]
  },
  {
   "cell_type": "code",
   "execution_count": 1,
   "metadata": {},
   "outputs": [
    {
     "name": "stderr",
     "output_type": "stream",
     "text": [
      "/var/folders/0n/lqrxkmhn4857m0df9f7d0z400000gn/T/ipykernel_13042/3790600278.py:3: DeprecationWarning: \n",
      "Pyarrow will become a required dependency of pandas in the next major release of pandas (pandas 3.0),\n",
      "(to allow more performant data types, such as the Arrow string type, and better interoperability with other libraries)\n",
      "but was not found to be installed on your system.\n",
      "If this would cause problems for you,\n",
      "please provide us feedback at https://github.com/pandas-dev/pandas/issues/54466\n",
      "        \n",
      "  import pandas as pd\n"
     ]
    }
   ],
   "source": [
    "# Load data manipulation package\n",
    "import numpy as np\n",
    "import pandas as pd\n",
    "\n",
    "# Load data visualization package\n",
    "import matplotlib.pyplot as plt\n",
    "import seaborn as sns"
   ]
  },
  {
   "cell_type": "markdown",
   "metadata": {},
   "source": [
    "# <font color='White'>**1. Business Understanding**</font>\n",
    "---\n",
    "- Term deposit is always an essential business of a bank and a good market campaign plays an essential role in\n",
    "financial selling.\n",
    "- The commercial bank wants to implement\n",
    "telemarketing campaign to optimize the allocation of resources,\n",
    "satisfy the needs of customers thus enhancing the productivity\n",
    "of companies"
   ]
  },
  {
   "cell_type": "markdown",
   "metadata": {},
   "source": [
    "## **1.1 Business Objective**"
   ]
  },
  {
   "cell_type": "markdown",
   "metadata": {},
   "source": [
    "- Increase 8% of term deposit\n",
    "- Identify the relationship between predictors and target variable"
   ]
  },
  {
   "cell_type": "markdown",
   "metadata": {},
   "source": [
    "## **1.2 Business Question**"
   ]
  },
  {
   "cell_type": "markdown",
   "metadata": {},
   "source": [
    "- How can bank develop marketing effectiveness strategy to increase 8% of term deposit?\n",
    "- What marketing initiatives are suitable to increase the 8% term of deposit?"
   ]
  },
  {
   "cell_type": "markdown",
   "metadata": {},
   "source": [
    "## **1.3 Modelling Task**"
   ]
  },
  {
   "cell_type": "markdown",
   "metadata": {},
   "source": [
    "- Output target: **client status term of deposite (categorical)**\n",
    "\n",
    "- The goal of this project is to predict whether a client will deposit money or not based on various features.\n",
    "Task: **Classification task**\n",
    "\n",
    "\n",
    "- We need a model that can be easily interpreted so that we can understand how each feature contributes to the prediction. This can help us gain insights into the underlying factors that influence whether a client will deposit money or not.\n",
    "Model used: **Logistic regression**\n",
    "\n",
    "- Our target feature is balance, We will use accuracy as our evaluation metric since we want to maximize the number of correctly classified instances. **Evaluation metric: Accuracy**"
   ]
  },
  {
   "cell_type": "markdown",
   "metadata": {},
   "source": [
    "## **2. Modeling Workflow**"
   ]
  },
  {
   "cell_type": "markdown",
   "metadata": {},
   "source": [
    "## **Machine Learning Workflow** (Simplified)\n",
    "\n",
    "\n",
    "### 1. <font color='white'> Importing Data to Python</font>\n",
    "    * Data validation\n",
    "### 2. <font color='white'> Exploratory Data Analysis:</font>\n",
    "    * Descriptive Statistics, Univariate Analysis, Correlation Heatmap\n",
    "### 3. <font color='white'> Training Machine Learning:</font>\n",
    "    * Model Fitting, Evaluation\n",
    "### 4. <font color='white'> Interpretation & Business Recommendation :</font>\n",
    "    * Logistic Regression Coefficient, Recommendation\n",
    "### 5. <font color='white'> Business Simulation :</font>\n",
    "    * Simulation"
   ]
  },
  {
   "cell_type": "markdown",
   "metadata": {},
   "source": [
    "# <font color='White'>**3. Data Pipelines**</font>\n",
    "Outline:\n",
    "- Data Description\n",
    "- Data Collection"
   ]
  },
  {
   "cell_type": "markdown",
   "metadata": {},
   "source": [
    "## **3.1 Data Description**"
   ]
  },
  {
   "cell_type": "markdown",
   "metadata": {},
   "source": [
    "`Bank client data (Input variables)`\n",
    "- `Age`: client’s age (numeric: from 18 to 88)\n",
    "- `default`: credit default (nominal: no, yes)\n",
    "- `housing`: housing loan (nominal: no, yes)\n",
    "- `loan`: personal loan (nominal: no, yes)\n",
    "- `duration`: last contact duration in seconds (numeric: from 0 to 3643)\n",
    "- `campaign`: number of contacts performed during this campaign and for this client (numeric: from 1 to 35)\n",
    "- `previous`: number of contacts performed before this campaign and for this client (numeric: from 0 to 6)\n",
    "\n",
    "<br>\n",
    "\n",
    "`Target Feature`\n",
    "- `deposit`: succeed to subscribe the term deposit (binary: yes or no)"
   ]
  },
  {
   "cell_type": "markdown",
   "metadata": {},
   "source": [
    "## **3.2 Data Collection**"
   ]
  },
  {
   "cell_type": "code",
   "execution_count": 8,
   "metadata": {},
   "outputs": [],
   "source": [
    "# read dataset function\n",
    "def read_data(path):\n",
    "    \"\"\"\n",
    "    Reads a CSV file at the given path, removes any duplicate rows, and returns its contents as a pandas DataFrame.\n",
    "\n",
    "    Parameter\n",
    "    ----------\n",
    "\n",
    "    data: <str>\n",
    "          sample data input path (csv format)\n",
    "\n",
    "    Return\n",
    "    ------\n",
    "\n",
    "    df: <pandas dataframe>\n",
    "        sampel data\n",
    "\n",
    "    \"\"\"\n",
    "    # read data\n",
    "    df = pd.read_csv(path, index_col=0, sep=';')\n",
    "\n",
    "    # drop duplicates\n",
    "    df = df.drop_duplicates()\n",
    "\n",
    "    return df"
   ]
  },
  {
   "cell_type": "code",
   "execution_count": 9,
   "metadata": {},
   "outputs": [],
   "source": [
    "# define name/path of the dataset\n",
    "path = '../data/raw/bank_telemarketing.csv'\n",
    "\n",
    "# read dataset \n",
    "df = read_data(path)"
   ]
  },
  {
   "cell_type": "code",
   "execution_count": 10,
   "metadata": {},
   "outputs": [
    {
     "data": {
      "text/html": [
       "<div>\n",
       "<style scoped>\n",
       "    .dataframe tbody tr th:only-of-type {\n",
       "        vertical-align: middle;\n",
       "    }\n",
       "\n",
       "    .dataframe tbody tr th {\n",
       "        vertical-align: top;\n",
       "    }\n",
       "\n",
       "    .dataframe thead th {\n",
       "        text-align: right;\n",
       "    }\n",
       "</style>\n",
       "<table border=\"1\" class=\"dataframe\">\n",
       "  <thead>\n",
       "    <tr style=\"text-align: right;\">\n",
       "      <th></th>\n",
       "      <th>age</th>\n",
       "      <th>default</th>\n",
       "      <th>housing</th>\n",
       "      <th>loan</th>\n",
       "      <th>duration</th>\n",
       "      <th>campaign</th>\n",
       "      <th>previous</th>\n",
       "      <th>deposit</th>\n",
       "    </tr>\n",
       "  </thead>\n",
       "  <tbody>\n",
       "    <tr>\n",
       "      <th>0</th>\n",
       "      <td>59</td>\n",
       "      <td>no</td>\n",
       "      <td>yes</td>\n",
       "      <td>no</td>\n",
       "      <td>1042</td>\n",
       "      <td>1</td>\n",
       "      <td>0</td>\n",
       "      <td>1</td>\n",
       "    </tr>\n",
       "    <tr>\n",
       "      <th>1</th>\n",
       "      <td>56</td>\n",
       "      <td>no</td>\n",
       "      <td>no</td>\n",
       "      <td>no</td>\n",
       "      <td>1467</td>\n",
       "      <td>1</td>\n",
       "      <td>0</td>\n",
       "      <td>1</td>\n",
       "    </tr>\n",
       "    <tr>\n",
       "      <th>2</th>\n",
       "      <td>41</td>\n",
       "      <td>no</td>\n",
       "      <td>yes</td>\n",
       "      <td>no</td>\n",
       "      <td>1389</td>\n",
       "      <td>1</td>\n",
       "      <td>0</td>\n",
       "      <td>1</td>\n",
       "    </tr>\n",
       "    <tr>\n",
       "      <th>3</th>\n",
       "      <td>55</td>\n",
       "      <td>no</td>\n",
       "      <td>yes</td>\n",
       "      <td>no</td>\n",
       "      <td>579</td>\n",
       "      <td>1</td>\n",
       "      <td>0</td>\n",
       "      <td>1</td>\n",
       "    </tr>\n",
       "    <tr>\n",
       "      <th>4</th>\n",
       "      <td>54</td>\n",
       "      <td>no</td>\n",
       "      <td>no</td>\n",
       "      <td>no</td>\n",
       "      <td>673</td>\n",
       "      <td>2</td>\n",
       "      <td>0</td>\n",
       "      <td>1</td>\n",
       "    </tr>\n",
       "  </tbody>\n",
       "</table>\n",
       "</div>"
      ],
      "text/plain": [
       "   age default housing loan  duration  campaign  previous  deposit\n",
       "0   59      no     yes   no      1042         1         0        1\n",
       "1   56      no      no   no      1467         1         0        1\n",
       "2   41      no     yes   no      1389         1         0        1\n",
       "3   55      no     yes   no       579         1         0        1\n",
       "4   54      no      no   no       673         2         0        1"
      ]
     },
     "execution_count": 10,
     "metadata": {},
     "output_type": "execute_result"
    }
   ],
   "source": [
    "df.head()"
   ]
  },
  {
   "cell_type": "code",
   "execution_count": 11,
   "metadata": {},
   "outputs": [
    {
     "data": {
      "text/plain": [
       "age         0\n",
       "default     0\n",
       "housing     0\n",
       "loan        0\n",
       "duration    0\n",
       "campaign    0\n",
       "previous    0\n",
       "deposit     0\n",
       "dtype: int64"
      ]
     },
     "execution_count": 11,
     "metadata": {},
     "output_type": "execute_result"
    }
   ],
   "source": [
    "# check missing value\n",
    "df.isna().sum()"
   ]
  },
  {
   "cell_type": "code",
   "execution_count": 12,
   "metadata": {},
   "outputs": [
    {
     "name": "stdout",
     "output_type": "stream",
     "text": [
      "Number of duplicated data : 0\n"
     ]
    }
   ],
   "source": [
    "# check data duplicate \n",
    "print(f\"Number of duplicated data : {df.duplicated().sum()}\")"
   ]
  },
  {
   "cell_type": "code",
   "execution_count": 13,
   "metadata": {},
   "outputs": [
    {
     "data": {
      "text/plain": [
       "age          int64\n",
       "default     object\n",
       "housing     object\n",
       "loan        object\n",
       "duration     int64\n",
       "campaign     int64\n",
       "previous     int64\n",
       "deposit      int64\n",
       "dtype: object"
      ]
     },
     "execution_count": 13,
     "metadata": {},
     "output_type": "execute_result"
    }
   ],
   "source": [
    "# check data types\n",
    "df.dtypes"
   ]
  },
  {
   "cell_type": "markdown",
   "metadata": {},
   "source": [
    "**Summary**\n",
    "- No duplicated samples in dataset\n",
    "- No need to handle missing values\n",
    "- We need to encode categorical features\n",
    "- We have 11162 samples, for splitting purpose, we can split train and test set by ratio 0.7 : 0.3"
   ]
  },
  {
   "cell_type": "markdown",
   "metadata": {},
   "source": [
    "# <font color='white'>**4. Data Splitting**</font>"
   ]
  },
  {
   "cell_type": "markdown",
   "metadata": {},
   "source": [
    "- Using the function, Split the data into input and output data\n",
    "- For simplicity, we will split the data into two parts: Training and Testing\n",
    "- We split the train and test by ratio 0.7 : 0.3"
   ]
  },
  {
   "cell_type": "code",
   "execution_count": 14,
   "metadata": {},
   "outputs": [],
   "source": [
    "# function split input and output\n",
    "def split_input_output(data, target_column):\n",
    "    \"\"\"\n",
    "    Function to split input (x) and output (y)\n",
    "\n",
    "    Parameters\n",
    "    ----------\n",
    "    data: <pandas dataframe>\n",
    "          dataframe input\n",
    "\n",
    "    target_column: <string>\n",
    "                   output column name\n",
    "\n",
    "    Return\n",
    "    ------\n",
    "\n",
    "    x: <pandas dataframe>\n",
    "        input data\n",
    "\n",
    "    y: <pandas dataframe>\n",
    "       output data\n",
    "\n",
    "    \"\"\"\n",
    "    X = data.drop(columns = target_column)\n",
    "    y = data[target_column]\n",
    "\n",
    "    return X, y"
   ]
  },
  {
   "cell_type": "code",
   "execution_count": 15,
   "metadata": {},
   "outputs": [],
   "source": [
    "# Split input and output\n",
    "X, y = split_input_output(data = df,\n",
    "                          target_column = \"deposit\")"
   ]
  },
  {
   "cell_type": "code",
   "execution_count": 16,
   "metadata": {},
   "outputs": [
    {
     "name": "stdout",
     "output_type": "stream",
     "text": [
      "Number of samples  :    11058\n",
      "Number of features :    7\n"
     ]
    }
   ],
   "source": [
    "# Check data dimension\n",
    "n_samples, n_features = X.shape\n",
    "\n",
    "# Print number of samples and features\n",
    "print(f'Number of samples  :    {n_samples}')\n",
    "print(f'Number of features :    {n_features}')"
   ]
  },
  {
   "cell_type": "code",
   "execution_count": 17,
   "metadata": {},
   "outputs": [],
   "source": [
    "# Import train test split\n",
    "from sklearn.model_selection import train_test_split\n",
    "\n",
    "\n",
    "\n",
    "# Train and Test Split\n",
    "X_train, X_test, y_train, y_test = train_test_split(X,\n",
    "                                                    y,\n",
    "                                                    test_size = 0.3,\n",
    "                                                    random_state = 100,\n",
    "                                                    stratify = y)"
   ]
  },
  {
   "cell_type": "markdown",
   "metadata": {},
   "source": [
    "**Summary**\n",
    "- Now we have training and testing set\n",
    "- We will only use training set for EDA and preprocessing"
   ]
  },
  {
   "cell_type": "markdown",
   "metadata": {},
   "source": [
    "# <font color='Gray'>**5. Exploratory Data Analysis**</font>\n",
    "---"
   ]
  },
  {
   "cell_type": "code",
   "execution_count": 18,
   "metadata": {},
   "outputs": [],
   "source": [
    "# Define EDA dataset\n",
    "eda_df = pd.concat([X_train, y_train], axis=1)"
   ]
  },
  {
   "cell_type": "code",
   "execution_count": 19,
   "metadata": {},
   "outputs": [
    {
     "data": {
      "text/html": [
       "<div>\n",
       "<style scoped>\n",
       "    .dataframe tbody tr th:only-of-type {\n",
       "        vertical-align: middle;\n",
       "    }\n",
       "\n",
       "    .dataframe tbody tr th {\n",
       "        vertical-align: top;\n",
       "    }\n",
       "\n",
       "    .dataframe thead th {\n",
       "        text-align: right;\n",
       "    }\n",
       "</style>\n",
       "<table border=\"1\" class=\"dataframe\">\n",
       "  <thead>\n",
       "    <tr style=\"text-align: right;\">\n",
       "      <th></th>\n",
       "      <th>age</th>\n",
       "      <th>default</th>\n",
       "      <th>housing</th>\n",
       "      <th>loan</th>\n",
       "      <th>duration</th>\n",
       "      <th>campaign</th>\n",
       "      <th>previous</th>\n",
       "      <th>deposit</th>\n",
       "    </tr>\n",
       "  </thead>\n",
       "  <tbody>\n",
       "    <tr>\n",
       "      <th>793</th>\n",
       "      <td>34</td>\n",
       "      <td>no</td>\n",
       "      <td>no</td>\n",
       "      <td>no</td>\n",
       "      <td>518</td>\n",
       "      <td>2</td>\n",
       "      <td>0</td>\n",
       "      <td>1</td>\n",
       "    </tr>\n",
       "    <tr>\n",
       "      <th>8669</th>\n",
       "      <td>56</td>\n",
       "      <td>no</td>\n",
       "      <td>no</td>\n",
       "      <td>no</td>\n",
       "      <td>133</td>\n",
       "      <td>2</td>\n",
       "      <td>0</td>\n",
       "      <td>0</td>\n",
       "    </tr>\n",
       "    <tr>\n",
       "      <th>2329</th>\n",
       "      <td>28</td>\n",
       "      <td>no</td>\n",
       "      <td>no</td>\n",
       "      <td>no</td>\n",
       "      <td>136</td>\n",
       "      <td>2</td>\n",
       "      <td>0</td>\n",
       "      <td>1</td>\n",
       "    </tr>\n",
       "    <tr>\n",
       "      <th>7394</th>\n",
       "      <td>42</td>\n",
       "      <td>no</td>\n",
       "      <td>no</td>\n",
       "      <td>no</td>\n",
       "      <td>323</td>\n",
       "      <td>3</td>\n",
       "      <td>0</td>\n",
       "      <td>0</td>\n",
       "    </tr>\n",
       "    <tr>\n",
       "      <th>6064</th>\n",
       "      <td>60</td>\n",
       "      <td>no</td>\n",
       "      <td>no</td>\n",
       "      <td>yes</td>\n",
       "      <td>61</td>\n",
       "      <td>5</td>\n",
       "      <td>0</td>\n",
       "      <td>0</td>\n",
       "    </tr>\n",
       "  </tbody>\n",
       "</table>\n",
       "</div>"
      ],
      "text/plain": [
       "      age default housing loan  duration  campaign  previous  deposit\n",
       "793    34      no      no   no       518         2         0        1\n",
       "8669   56      no      no   no       133         2         0        0\n",
       "2329   28      no      no   no       136         2         0        1\n",
       "7394   42      no      no   no       323         3         0        0\n",
       "6064   60      no      no  yes        61         5         0        0"
      ]
     },
     "execution_count": 19,
     "metadata": {},
     "output_type": "execute_result"
    }
   ],
   "source": [
    "#show df\n",
    "eda_df.head()"
   ]
  },
  {
   "cell_type": "code",
   "execution_count": 20,
   "metadata": {},
   "outputs": [],
   "source": [
    "# Define numeric and categoric columns\n",
    "num = eda_df.select_dtypes(include='number').columns\n",
    "cat = eda_df.select_dtypes(include='object').columns"
   ]
  },
  {
   "cell_type": "code",
   "execution_count": 21,
   "metadata": {},
   "outputs": [
    {
     "name": "stdout",
     "output_type": "stream",
     "text": [
      "Numerical features : \n",
      "['age', 'duration', 'campaign', 'previous', 'deposit']\n",
      "\n",
      "\n",
      "Categorical features : \n",
      "Index(['default', 'housing', 'loan'], dtype='object')\n"
     ]
    }
   ],
   "source": [
    "# check num and cat columns\n",
    "print(f'Numerical features : \\n{list(num)}')\n",
    "print('\\n')\n",
    "print(f'Categorical features : \\n{cat}')"
   ]
  },
  {
   "cell_type": "markdown",
   "metadata": {},
   "source": [
    "## **5.1 Descriptive Analysis**"
   ]
  },
  {
   "cell_type": "code",
   "execution_count": 23,
   "metadata": {},
   "outputs": [
    {
     "data": {
      "text/html": [
       "<div>\n",
       "<style scoped>\n",
       "    .dataframe tbody tr th:only-of-type {\n",
       "        vertical-align: middle;\n",
       "    }\n",
       "\n",
       "    .dataframe tbody tr th {\n",
       "        vertical-align: top;\n",
       "    }\n",
       "\n",
       "    .dataframe thead th {\n",
       "        text-align: right;\n",
       "    }\n",
       "</style>\n",
       "<table border=\"1\" class=\"dataframe\">\n",
       "  <thead>\n",
       "    <tr style=\"text-align: right;\">\n",
       "      <th></th>\n",
       "      <th>age</th>\n",
       "      <th>duration</th>\n",
       "      <th>campaign</th>\n",
       "      <th>previous</th>\n",
       "      <th>deposit</th>\n",
       "    </tr>\n",
       "  </thead>\n",
       "  <tbody>\n",
       "    <tr>\n",
       "      <th>count</th>\n",
       "      <td>7740.000000</td>\n",
       "      <td>7740.000000</td>\n",
       "      <td>7740.000000</td>\n",
       "      <td>7740.000000</td>\n",
       "      <td>7740.000000</td>\n",
       "    </tr>\n",
       "    <tr>\n",
       "      <th>mean</th>\n",
       "      <td>41.315891</td>\n",
       "      <td>369.925969</td>\n",
       "      <td>2.508786</td>\n",
       "      <td>0.840698</td>\n",
       "      <td>0.476227</td>\n",
       "    </tr>\n",
       "    <tr>\n",
       "      <th>std</th>\n",
       "      <td>11.928810</td>\n",
       "      <td>342.037163</td>\n",
       "      <td>2.700648</td>\n",
       "      <td>2.281874</td>\n",
       "      <td>0.499467</td>\n",
       "    </tr>\n",
       "    <tr>\n",
       "      <th>min</th>\n",
       "      <td>18.000000</td>\n",
       "      <td>2.000000</td>\n",
       "      <td>1.000000</td>\n",
       "      <td>0.000000</td>\n",
       "      <td>0.000000</td>\n",
       "    </tr>\n",
       "    <tr>\n",
       "      <th>25%</th>\n",
       "      <td>32.000000</td>\n",
       "      <td>138.000000</td>\n",
       "      <td>1.000000</td>\n",
       "      <td>0.000000</td>\n",
       "      <td>0.000000</td>\n",
       "    </tr>\n",
       "    <tr>\n",
       "      <th>50%</th>\n",
       "      <td>39.000000</td>\n",
       "      <td>256.000000</td>\n",
       "      <td>2.000000</td>\n",
       "      <td>0.000000</td>\n",
       "      <td>0.000000</td>\n",
       "    </tr>\n",
       "    <tr>\n",
       "      <th>75%</th>\n",
       "      <td>49.000000</td>\n",
       "      <td>492.000000</td>\n",
       "      <td>3.000000</td>\n",
       "      <td>1.000000</td>\n",
       "      <td>1.000000</td>\n",
       "    </tr>\n",
       "    <tr>\n",
       "      <th>max</th>\n",
       "      <td>92.000000</td>\n",
       "      <td>3881.000000</td>\n",
       "      <td>63.000000</td>\n",
       "      <td>58.000000</td>\n",
       "      <td>1.000000</td>\n",
       "    </tr>\n",
       "  </tbody>\n",
       "</table>\n",
       "</div>"
      ],
      "text/plain": [
       "               age     duration     campaign     previous      deposit\n",
       "count  7740.000000  7740.000000  7740.000000  7740.000000  7740.000000\n",
       "mean     41.315891   369.925969     2.508786     0.840698     0.476227\n",
       "std      11.928810   342.037163     2.700648     2.281874     0.499467\n",
       "min      18.000000     2.000000     1.000000     0.000000     0.000000\n",
       "25%      32.000000   138.000000     1.000000     0.000000     0.000000\n",
       "50%      39.000000   256.000000     2.000000     0.000000     0.000000\n",
       "75%      49.000000   492.000000     3.000000     1.000000     1.000000\n",
       "max      92.000000  3881.000000    63.000000    58.000000     1.000000"
      ]
     },
     "execution_count": 23,
     "metadata": {},
     "output_type": "execute_result"
    }
   ],
   "source": [
    "# Describe\n",
    "eda_df.describe()"
   ]
  },
  {
   "cell_type": "markdown",
   "metadata": {},
   "source": [
    "- There might be potential outliers in age, duration, campaign, and previous"
   ]
  },
  {
   "cell_type": "markdown",
   "metadata": {},
   "source": [
    "## **5.2 Univariate Analysis**"
   ]
  },
  {
   "cell_type": "code",
   "execution_count": 27,
   "metadata": {},
   "outputs": [
    {
     "data": {
      "image/png": "[encoded data removed]",
      "text/plain": [
       "<Figure size 1500x800 with 5 Axes>"
      ]
     },
     "metadata": {},
     "output_type": "display_data"
    }
   ],
   "source": [
    "# Create histplot\n",
    "plt.figure(figsize=(15,8))\n",
    "for i in range(0, len(num)):\n",
    "    plt.subplot(2,3,i+1)\n",
    "    sns.histplot(x=eda_df[num[i]])\n",
    "    plt.title(num[i], fontsize=15)\n",
    "    plt.xlabel(' ')\n",
    "    plt.tight_layout()"
   ]
  },
  {
   "cell_type": "markdown",
   "metadata": {},
   "source": [
    "- The distribution of age, duration, campaign, and previous is skew\n",
    "- There are potential outliers in age and duration\n",
    "- Most of bank's client don't have default credit"
   ]
  },
  {
   "cell_type": "code",
   "execution_count": 29,
   "metadata": {},
   "outputs": [
    {
     "name": "stderr",
     "output_type": "stream",
     "text": [
      "/Users/adam/anaconda3/envs/ds-venv/lib/python3.10/site-packages/seaborn/categorical.py:640: FutureWarning: SeriesGroupBy.grouper is deprecated and will be removed in a future version of pandas.\n",
      "  positions = grouped.grouper.result_index.to_numpy(dtype=float)\n",
      "/Users/adam/anaconda3/envs/ds-venv/lib/python3.10/site-packages/seaborn/categorical.py:640: FutureWarning: SeriesGroupBy.grouper is deprecated and will be removed in a future version of pandas.\n",
      "  positions = grouped.grouper.result_index.to_numpy(dtype=float)\n",
      "/Users/adam/anaconda3/envs/ds-venv/lib/python3.10/site-packages/seaborn/categorical.py:640: FutureWarning: SeriesGroupBy.grouper is deprecated and will be removed in a future version of pandas.\n",
      "  positions = grouped.grouper.result_index.to_numpy(dtype=float)\n",
      "/Users/adam/anaconda3/envs/ds-venv/lib/python3.10/site-packages/seaborn/categorical.py:640: FutureWarning: SeriesGroupBy.grouper is deprecated and will be removed in a future version of pandas.\n",
      "  positions = grouped.grouper.result_index.to_numpy(dtype=float)\n"
     ]
    },
    {
     "data": {
      "image/png": "[encoded data removed]",
      "text/plain": [
       "<Figure size 1200x800 with 4 Axes>"
      ]
     },
     "metadata": {},
     "output_type": "display_data"
    }
   ],
   "source": [
    "# Create boxplot\n",
    "plt.figure(figsize=(12,8))\n",
    "for i in range(0, len(num)-1):\n",
    "    plt.subplot(2,3,i+1)\n",
    "    sns.boxplot(x=eda_df[num[i]])\n",
    "    plt.title(num[i], fontsize=15)\n",
    "    plt.xlabel(' ')\n",
    "    plt.tight_layout()"
   ]
  },
  {
   "cell_type": "markdown",
   "metadata": {},
   "source": [
    "- There's outlier in age, duration, campaign, and previous"
   ]
  },
  {
   "cell_type": "code",
   "execution_count": 31,
   "metadata": {},
   "outputs": [
    {
     "name": "stderr",
     "output_type": "stream",
     "text": [
      "/Users/adam/anaconda3/envs/ds-venv/lib/python3.10/site-packages/seaborn/_base.py:949: FutureWarning: When grouping with a length-1 list-like, you will need to pass a length-1 tuple to get_group in a future version of pandas. Pass `(name,)` instead of `name` to silence this warning.\n",
      "  data_subset = grouped_data.get_group(pd_key)\n",
      "/Users/adam/anaconda3/envs/ds-venv/lib/python3.10/site-packages/seaborn/_base.py:949: FutureWarning: When grouping with a length-1 list-like, you will need to pass a length-1 tuple to get_group in a future version of pandas. Pass `(name,)` instead of `name` to silence this warning.\n",
      "  data_subset = grouped_data.get_group(pd_key)\n",
      "/Users/adam/anaconda3/envs/ds-venv/lib/python3.10/site-packages/seaborn/_base.py:949: FutureWarning: When grouping with a length-1 list-like, you will need to pass a length-1 tuple to get_group in a future version of pandas. Pass `(name,)` instead of `name` to silence this warning.\n",
      "  data_subset = grouped_data.get_group(pd_key)\n",
      "/Users/adam/anaconda3/envs/ds-venv/lib/python3.10/site-packages/seaborn/_base.py:949: FutureWarning: When grouping with a length-1 list-like, you will need to pass a length-1 tuple to get_group in a future version of pandas. Pass `(name,)` instead of `name` to silence this warning.\n",
      "  data_subset = grouped_data.get_group(pd_key)\n",
      "/Users/adam/anaconda3/envs/ds-venv/lib/python3.10/site-packages/seaborn/_base.py:949: FutureWarning: When grouping with a length-1 list-like, you will need to pass a length-1 tuple to get_group in a future version of pandas. Pass `(name,)` instead of `name` to silence this warning.\n",
      "  data_subset = grouped_data.get_group(pd_key)\n",
      "/Users/adam/anaconda3/envs/ds-venv/lib/python3.10/site-packages/seaborn/_base.py:949: FutureWarning: When grouping with a length-1 list-like, you will need to pass a length-1 tuple to get_group in a future version of pandas. Pass `(name,)` instead of `name` to silence this warning.\n",
      "  data_subset = grouped_data.get_group(pd_key)\n",
      "/Users/adam/anaconda3/envs/ds-venv/lib/python3.10/site-packages/seaborn/_base.py:949: FutureWarning: When grouping with a length-1 list-like, you will need to pass a length-1 tuple to get_group in a future version of pandas. Pass `(name,)` instead of `name` to silence this warning.\n",
      "  data_subset = grouped_data.get_group(pd_key)\n",
      "/Users/adam/anaconda3/envs/ds-venv/lib/python3.10/site-packages/seaborn/_base.py:949: FutureWarning: When grouping with a length-1 list-like, you will need to pass a length-1 tuple to get_group in a future version of pandas. Pass `(name,)` instead of `name` to silence this warning.\n",
      "  data_subset = grouped_data.get_group(pd_key)\n"
     ]
    },
    {
     "data": {
      "image/png": "[encoded data removed]",
      "text/plain": [
       "<Figure size 1200x800 with 4 Axes>"
      ]
     },
     "metadata": {},
     "output_type": "display_data"
    }
   ],
   "source": [
    "# Create kde plot\n",
    "plt.figure(figsize=(12,8))\n",
    "for i in range(0, len(num)-1):\n",
    "    plt.subplot(2,3,i+1)\n",
    "    sns.kdeplot(x=eda_df[num[i]], hue=eda_df['deposit'])\n",
    "    plt.title(num[i], fontsize=15)\n",
    "    plt.xlabel(' ')\n",
    "    plt.tight_layout()"
   ]
  },
  {
   "cell_type": "markdown",
   "metadata": {},
   "source": [
    "- Almost all features is not clearly seperable by the target feature"
   ]
  },
  {
   "cell_type": "code",
   "execution_count": 32,
   "metadata": {},
   "outputs": [
    {
     "data": {
      "image/png": "[encoded data removed]",
      "text/plain": [
       "<Figure size 1200x500 with 3 Axes>"
      ]
     },
     "metadata": {},
     "output_type": "display_data"
    }
   ],
   "source": [
    "# Create countplot for categorical features\n",
    "fig, axes = plt.subplots(1, 3, figsize=(12, 5))\n",
    "\n",
    "for i, col in enumerate(cat):\n",
    "    sns.countplot(x=col, data=df, ax=axes[i])\n",
    "    axes[i].set_xlabel(col)\n",
    "\n",
    "plt.tight_layout()"
   ]
  },
  {
   "cell_type": "markdown",
   "metadata": {},
   "source": [
    "**Summary**\n",
    "- The distribution of age, duration, campaign, and previous is skew\n",
    "- Most of bank's client don't have default credit\n",
    "- There's outlier in age\n",
    "- There's outlier in duration\n",
    "- There's outlier in campaign\n",
    "- There's outlier in prevoous\n",
    "- Almost all features is not clearly seperable by the target feature\n",
    "- For simplicity, we will not handle outliers"
   ]
  },
  {
   "cell_type": "markdown",
   "metadata": {},
   "source": [
    "# <font color='white'>**6. Data Preprocessing**</font>\n",
    "---\n",
    "- We will only encode the categorical features in pre processing"
   ]
  },
  {
   "cell_type": "code",
   "execution_count": 33,
   "metadata": {},
   "outputs": [],
   "source": [
    "# Define Training Dataset\n",
    "train_set = pd.concat([X_train, y_train], axis=1)"
   ]
  },
  {
   "cell_type": "code",
   "execution_count": 34,
   "metadata": {},
   "outputs": [
    {
     "data": {
      "text/html": [
       "<div>\n",
       "<style scoped>\n",
       "    .dataframe tbody tr th:only-of-type {\n",
       "        vertical-align: middle;\n",
       "    }\n",
       "\n",
       "    .dataframe tbody tr th {\n",
       "        vertical-align: top;\n",
       "    }\n",
       "\n",
       "    .dataframe thead th {\n",
       "        text-align: right;\n",
       "    }\n",
       "</style>\n",
       "<table border=\"1\" class=\"dataframe\">\n",
       "  <thead>\n",
       "    <tr style=\"text-align: right;\">\n",
       "      <th></th>\n",
       "      <th>age</th>\n",
       "      <th>default</th>\n",
       "      <th>housing</th>\n",
       "      <th>loan</th>\n",
       "      <th>duration</th>\n",
       "      <th>campaign</th>\n",
       "      <th>previous</th>\n",
       "      <th>deposit</th>\n",
       "    </tr>\n",
       "  </thead>\n",
       "  <tbody>\n",
       "    <tr>\n",
       "      <th>793</th>\n",
       "      <td>34</td>\n",
       "      <td>no</td>\n",
       "      <td>no</td>\n",
       "      <td>no</td>\n",
       "      <td>518</td>\n",
       "      <td>2</td>\n",
       "      <td>0</td>\n",
       "      <td>1</td>\n",
       "    </tr>\n",
       "    <tr>\n",
       "      <th>8669</th>\n",
       "      <td>56</td>\n",
       "      <td>no</td>\n",
       "      <td>no</td>\n",
       "      <td>no</td>\n",
       "      <td>133</td>\n",
       "      <td>2</td>\n",
       "      <td>0</td>\n",
       "      <td>0</td>\n",
       "    </tr>\n",
       "    <tr>\n",
       "      <th>2329</th>\n",
       "      <td>28</td>\n",
       "      <td>no</td>\n",
       "      <td>no</td>\n",
       "      <td>no</td>\n",
       "      <td>136</td>\n",
       "      <td>2</td>\n",
       "      <td>0</td>\n",
       "      <td>1</td>\n",
       "    </tr>\n",
       "    <tr>\n",
       "      <th>7394</th>\n",
       "      <td>42</td>\n",
       "      <td>no</td>\n",
       "      <td>no</td>\n",
       "      <td>no</td>\n",
       "      <td>323</td>\n",
       "      <td>3</td>\n",
       "      <td>0</td>\n",
       "      <td>0</td>\n",
       "    </tr>\n",
       "    <tr>\n",
       "      <th>6064</th>\n",
       "      <td>60</td>\n",
       "      <td>no</td>\n",
       "      <td>no</td>\n",
       "      <td>yes</td>\n",
       "      <td>61</td>\n",
       "      <td>5</td>\n",
       "      <td>0</td>\n",
       "      <td>0</td>\n",
       "    </tr>\n",
       "  </tbody>\n",
       "</table>\n",
       "</div>"
      ],
      "text/plain": [
       "      age default housing loan  duration  campaign  previous  deposit\n",
       "793    34      no      no   no       518         2         0        1\n",
       "8669   56      no      no   no       133         2         0        0\n",
       "2329   28      no      no   no       136         2         0        1\n",
       "7394   42      no      no   no       323         3         0        0\n",
       "6064   60      no      no  yes        61         5         0        0"
      ]
     },
     "execution_count": 34,
     "metadata": {},
     "output_type": "execute_result"
    }
   ],
   "source": [
    "train_set.head()"
   ]
  },
  {
   "cell_type": "code",
   "execution_count": 36,
   "metadata": {},
   "outputs": [
    {
     "data": {
      "text/plain": [
       "(7740, 8)"
      ]
     },
     "execution_count": 36,
     "metadata": {},
     "output_type": "execute_result"
    }
   ],
   "source": [
    "train_set.shape"
   ]
  },
  {
   "cell_type": "markdown",
   "metadata": {},
   "source": [
    "## **6.1 Categorical Encoding**"
   ]
  },
  {
   "cell_type": "code",
   "execution_count": 37,
   "metadata": {},
   "outputs": [],
   "source": [
    "# Import package\n",
    "from sklearn.preprocessing import OneHotEncoder\n",
    "\n",
    "# Create categorical encoding function\n",
    "def encoding_cat_feature(data, fit=False, encoder=None):\n",
    "    \"\"\"Encode categorical features using one-hot encoding and return the resulting DataFrame.\n",
    "\n",
    "    Parameters:\n",
    "    -----------\n",
    "    data : <pandas.DataFrame>\n",
    "           The DataFrame containing the data to be encoded.\n",
    "\n",
    "    fit : <bool, default=False>\n",
    "          If True, fit a new OneHotEncoder to the data. If False, use an existing encoder.\n",
    "\n",
    "    encoder : <OneHotEncoder, default=None>\n",
    "              The OneHotEncoder object to use for encoding. This parameter is ignored if fit=True.\n",
    "\n",
    "    Returns:\n",
    "    --------\n",
    "    encoder : <OneHotEncoder>\n",
    "              The OneHotEncoder object used to transform the data.\n",
    "\n",
    "    final_df : <pandas DataFrame>\n",
    "               The DataFrame containing the encoded features and the target variable.\n",
    "    \"\"\"\n",
    "\n",
    "    # get copy and reset_index\n",
    "    data_copy = data.copy().reset_index(drop=True)\n",
    "    target_col = data_copy['deposit']\n",
    "    data_copy = data_copy.drop('deposit', axis=1)\n",
    "\n",
    "    # category features\n",
    "    cat_features = data_copy.select_dtypes(include='object').columns\n",
    "\n",
    "    if fit:\n",
    "        # Ohe initialization\n",
    "        ohe = OneHotEncoder(handle_unknown='ignore', drop='first')\n",
    "\n",
    "        # fit transform\n",
    "        ohe.fit(data_copy[cat_features])\n",
    "        encoder = ohe\n",
    "        encoded_df = pd.DataFrame(ohe.transform(data_copy[cat_features]).toarray())\n",
    "    else:\n",
    "        # use existing encoder object to transform\n",
    "        encoded_df = pd.DataFrame(encoder.transform(data_copy[cat_features]).toarray())\n",
    "\n",
    "    # rename columns\n",
    "    encoded_df.columns = encoder.get_feature_names_out(cat_features)\n",
    "\n",
    "    # drop original cat feature\n",
    "    dropped_data = data_copy.drop(cat_features, axis=1)\n",
    "\n",
    "    #merge one-hot encoded columns back with original DataFrame\n",
    "    final_df = dropped_data.join([encoded_df, target_col])\n",
    "\n",
    "    return encoder, final_df"
   ]
  },
  {
   "cell_type": "code",
   "execution_count": 38,
   "metadata": {},
   "outputs": [],
   "source": [
    "# Encode categorical data\n",
    "encoder, train_set = encoding_cat_feature(data = train_set,\n",
    "                                          fit = True)"
   ]
  },
  {
   "cell_type": "code",
   "execution_count": 39,
   "metadata": {},
   "outputs": [
    {
     "data": {
      "text/html": [
       "<div>\n",
       "<style scoped>\n",
       "    .dataframe tbody tr th:only-of-type {\n",
       "        vertical-align: middle;\n",
       "    }\n",
       "\n",
       "    .dataframe tbody tr th {\n",
       "        vertical-align: top;\n",
       "    }\n",
       "\n",
       "    .dataframe thead th {\n",
       "        text-align: right;\n",
       "    }\n",
       "</style>\n",
       "<table border=\"1\" class=\"dataframe\">\n",
       "  <thead>\n",
       "    <tr style=\"text-align: right;\">\n",
       "      <th></th>\n",
       "      <th>age</th>\n",
       "      <th>duration</th>\n",
       "      <th>campaign</th>\n",
       "      <th>previous</th>\n",
       "      <th>default_yes</th>\n",
       "      <th>housing_yes</th>\n",
       "      <th>loan_yes</th>\n",
       "      <th>deposit</th>\n",
       "    </tr>\n",
       "  </thead>\n",
       "  <tbody>\n",
       "    <tr>\n",
       "      <th>0</th>\n",
       "      <td>34</td>\n",
       "      <td>518</td>\n",
       "      <td>2</td>\n",
       "      <td>0</td>\n",
       "      <td>0.0</td>\n",
       "      <td>0.0</td>\n",
       "      <td>0.0</td>\n",
       "      <td>1</td>\n",
       "    </tr>\n",
       "    <tr>\n",
       "      <th>1</th>\n",
       "      <td>56</td>\n",
       "      <td>133</td>\n",
       "      <td>2</td>\n",
       "      <td>0</td>\n",
       "      <td>0.0</td>\n",
       "      <td>0.0</td>\n",
       "      <td>0.0</td>\n",
       "      <td>0</td>\n",
       "    </tr>\n",
       "    <tr>\n",
       "      <th>2</th>\n",
       "      <td>28</td>\n",
       "      <td>136</td>\n",
       "      <td>2</td>\n",
       "      <td>0</td>\n",
       "      <td>0.0</td>\n",
       "      <td>0.0</td>\n",
       "      <td>0.0</td>\n",
       "      <td>1</td>\n",
       "    </tr>\n",
       "    <tr>\n",
       "      <th>3</th>\n",
       "      <td>42</td>\n",
       "      <td>323</td>\n",
       "      <td>3</td>\n",
       "      <td>0</td>\n",
       "      <td>0.0</td>\n",
       "      <td>0.0</td>\n",
       "      <td>0.0</td>\n",
       "      <td>0</td>\n",
       "    </tr>\n",
       "    <tr>\n",
       "      <th>4</th>\n",
       "      <td>60</td>\n",
       "      <td>61</td>\n",
       "      <td>5</td>\n",
       "      <td>0</td>\n",
       "      <td>0.0</td>\n",
       "      <td>0.0</td>\n",
       "      <td>1.0</td>\n",
       "      <td>0</td>\n",
       "    </tr>\n",
       "  </tbody>\n",
       "</table>\n",
       "</div>"
      ],
      "text/plain": [
       "   age  duration  campaign  previous  default_yes  housing_yes  loan_yes  \\\n",
       "0   34       518         2         0          0.0          0.0       0.0   \n",
       "1   56       133         2         0          0.0          0.0       0.0   \n",
       "2   28       136         2         0          0.0          0.0       0.0   \n",
       "3   42       323         3         0          0.0          0.0       0.0   \n",
       "4   60        61         5         0          0.0          0.0       1.0   \n",
       "\n",
       "   deposit  \n",
       "0        1  \n",
       "1        0  \n",
       "2        1  \n",
       "3        0  \n",
       "4        0  "
      ]
     },
     "execution_count": 39,
     "metadata": {},
     "output_type": "execute_result"
    }
   ],
   "source": [
    "# show train_set (shanity check)\n",
    "train_set.head()"
   ]
  },
  {
   "cell_type": "code",
   "execution_count": 40,
   "metadata": {},
   "outputs": [
    {
     "data": {
      "text/plain": [
       "age              int64\n",
       "duration         int64\n",
       "campaign         int64\n",
       "previous         int64\n",
       "default_yes    float64\n",
       "housing_yes    float64\n",
       "loan_yes       float64\n",
       "deposit          int64\n",
       "dtype: object"
      ]
     },
     "execution_count": 40,
     "metadata": {},
     "output_type": "execute_result"
    }
   ],
   "source": [
    "train_set.dtypes"
   ]
  },
  {
   "cell_type": "code",
   "execution_count": 41,
   "metadata": {},
   "outputs": [],
   "source": [
    "# Split X_train and y_train\n",
    "X_train, y_train = split_input_output(data = train_set,\n",
    "                                      target_column = \"deposit\")"
   ]
  },
  {
   "cell_type": "markdown",
   "metadata": {},
   "source": [
    "# <font color='White'>**7. Modelling**</font>\n",
    "---\n",
    "**Sigmoid Function**\n",
    "- The sigmoid function is often used in logistic regression because it allows us to map the output of a linear model (which can take on any value) to a probability (which must be between 0 and 1).\n",
    "<br>\n",
    "$$\n",
    "\\begin{align*}\n",
    "p(x) &= \\frac{e^{(\\beta_{0}+\\beta_{1}x)}}{1+e^{(\\beta_{0} +\\beta_{1}x)}} \\\\\n",
    "&= \\frac{e^{\\text{log(odds)}}}{1+e^{\\text{log(odds)}}} \\\\\n",
    "\\end{align*}\n",
    "$$\n",
    "<br>\n",
    "- When we use logistic regression for classification, we use a threshold value (usually 0.5) to decide whether a given input belongs to the positive class or the negative class.\n",
    "\n",
    "<br>\n",
    "\n",
    "**Likelihood Function**\n",
    "\n",
    "<br>\n",
    "\n",
    "In general, **likelihood function** for the identical and independent observations with binary response:\n",
    "\n",
    "$$\n",
    "\\mathcal{L} = \\prod_{i=1}^{n}p(x_{i})^{y_{i}}[1-p(x_{i})]^{(1-y_{i})}\n",
    "$$\n",
    "\n",
    "<br>\n",
    "\n",
    "**Maximum Likelihood Estimation**\n",
    "\n",
    "<br>\n",
    "\n",
    "- We want the maximum likelihood estimate $p(x)$ from the n observations, where:\n",
    "$$\n",
    "p(x) = \\frac{e^{(\\beta_{0}+\\beta_{1}x)}}{1+e^{(\\beta_{0}+\\beta_{1}x)}}\n",
    "$$\n",
    "\n",
    "<br>\n",
    "\n",
    "- To maximize the likelihood function $\\mathcal{L}$, we need to find the optimum parameter $\\beta_{0}$ and $\\beta_{1}$.\n",
    "\n",
    "<br>\n",
    "\n",
    "**Negative Log Likelihood (NLL)**\n",
    "\n",
    "<br>\n",
    "\n",
    "\n",
    "- To make it easier to compute, we transform the likelihood function into **log likelihood function**:\n",
    "\n",
    "<br>\n",
    "\n",
    "$$\n",
    "\\log(\\mathcal{L}(\\beta)) = \\sum_{i=1}^{n}(y_{i}\\log[p(x_{i})]+(1-y_{i})\\log[1-p(x_{i})])\n",
    "$$\n",
    "<br>\n",
    "- Our objective is to maximise this function by finding the optimal value of $\\beta_{0}$ and $\\beta_{1}$\n",
    "\n",
    "- We want to maximize the log likelihood, but gradient descent optimization works to minimize the cost function.\n",
    "- Thus, we take the negative value of log likelihood as the cost function.\n",
    "- So if larger negative value we get basically is the same as we maximise the likelihood function --> Our goal is to minimize the negative log likelihood (NLL) function\n",
    "- The **negative log likelihood (NLL)** or **log loss** is defined as:\n",
    "<br>\n",
    "$$\n",
    "-\\log(\\mathcal{L}(\\beta)) = -\\sum_{i=1}^{n}(y_{i}\\log[p(x_{i})]+(1-y_{i})\\log[1-p(x_{i})])\n",
    "$$\n",
    "\n",
    "<br>\n",
    "\n",
    "**Gradient Descent**\n",
    "- Since we want to **Minimize** the cost function negative log likelihood, we can se by this following notation:\n",
    "<br>\n",
    "\n",
    "$$\n",
    "\\underset{\\beta}{\\arg \\min} \\ \\text{NLL}(\\beta)\n",
    "$$\n",
    "\n",
    "- In order to implement gradient descent, we have to take partial derivative of log-likelihood with respect to each parameter\n",
    "- The derivative of log loss or negative log-likelihood (NLL) w.r.t. $\\beta_{j}$ is called the gradient of $\\beta_{j}$.\n",
    "<br>\n",
    "<br>\n",
    "$$\n",
    "\\frac{\\partial \\text N \\text L \\text L}{\\partial \\beta_{j}}=-\\sum_{i=1}^{n}\\left [ y_{i}-p(x_{i}) \\right ]x_{j}\n",
    "$$ <br>\n",
    "- Then we keep updating parameter $\\beta$ until converge on the best value of $\\beta$ (Or until several n_interation) <br>\n",
    "<br>\n",
    "$$\n",
    "\\beta_{j}^{new} := \\beta_{j}^{old} - \\alpha \\frac{\\partial \\text N \\text L \\text L}{\\partial \\beta_{j}^{old}}\n",
    "$$ <br>\n",
    "- Where $\\alpha$ is the learning rate and $:=$ operation overwrite the $\\beta_{old}$ with $\\beta_{new}$\n",
    "\n",
    "**Decision Boundary**\n",
    "- After finding the optimal value of $\\beta_{0}$ and $\\beta_{1}$, we can set the parameter to the sigmoid function\n",
    "<br>\n",
    "\n",
    "$$\n",
    "p(x) = \\frac{e^{(\\beta_{0}+\\beta_{1}x)}}{1+e^{(\\beta_{0}+\\beta_{1}x)}}\n",
    "$$\n",
    "<br>\n",
    "- Then we can predict the input x with output as probability with the decision boundary: <br> <br>\n",
    "\\begin{equation}\n",
    "\\text{decision}(x) = \\begin{cases}\n",
    "1 & \\text{if } p(y=1|x) > 0.5 \\\\\n",
    "0 & \\text{otherwise}.\n",
    "\\end{cases}\n",
    "\\end{equation}\n",
    "\n",
    "Ref: [Lecture Note](https://cs229.stanford.edu/notes2021fall/cs229-notes1.pdf)"
   ]
  },
  {
   "cell_type": "markdown",
   "metadata": {},
   "source": [
    "## **7.1 Baseline Model**\n",
    "\n",
    "- The baseline model is a simple and straightforward model used as a point of reference for comparing the performance of other models.\n",
    "\n",
    "- By comparing the performance of more advanced models to the baseline model, we can assess whether the other models provide any significant improvement.\n",
    "\n",
    "- The baseline model helps establish a benchmark to evaluate the performance of more complex models.\n",
    "\n",
    "- If a more sophisticated model performs worse than the baseline model, it indicates that the advanced model is not effective and needs improvement.\n"
   ]
  },
  {
   "cell_type": "code",
   "execution_count": 42,
   "metadata": {},
   "outputs": [
    {
     "name": "stdout",
     "output_type": "stream",
     "text": [
      "Accuracy of baseline model : 0.52\n"
     ]
    }
   ],
   "source": [
    "# Import Pacakage\n",
    "from sklearn.dummy import DummyClassifier\n",
    "\n",
    "# create dummy classifier\n",
    "dummy_clf = DummyClassifier(strategy='most_frequent', random_state=42)\n",
    "\n",
    "# train a model\n",
    "dummy_clf.fit(X_train, y_train)\n",
    "\n",
    "# get accuracy score\n",
    "baseline_score = dummy_clf.score(X_test, y_test)\n",
    "\n",
    "# print accuracy score\n",
    "print(f\"Accuracy of baseline model : {baseline_score:.2f}\")"
   ]
  },
  {
   "cell_type": "markdown",
   "metadata": {},
   "source": [
    "\n",
    "**Dummy Classifier**\n",
    "\n",
    "- A dummy classifier is a basic classification model that follows a predefined strategy to make predictions.\n",
    "\n",
    "- Strategy = \"most_frequent\": In this case, the dummy classifier's strategy is set to \"most_frequent,\" which means it always predicts the most frequent class from the training data.\n",
    "\n",
    "- The dummy classifier with the \"most_frequent\" strategy predicts the majority class for all instances in the dataset, regardless of the input features.\n",
    "\n",
    "- Metrics like accuracy, precision, recall, and F1 score can be used to compare the performance of other models against the baseline model."
   ]
  },
  {
   "cell_type": "markdown",
   "metadata": {},
   "source": [
    "## **7.2 Logistic Regression Model**"
   ]
  },
  {
   "cell_type": "code",
   "execution_count": 49,
   "metadata": {},
   "outputs": [],
   "source": [
    "# Import Package\n",
    "from sklearn.linear_model import LogisticRegression\n",
    "\n",
    "# Create Object Modelling with sklearn\n",
    "lr = LogisticRegression(penalty='l2')"
   ]
  },
  {
   "cell_type": "code",
   "execution_count": 50,
   "metadata": {},
   "outputs": [
    {
     "name": "stderr",
     "output_type": "stream",
     "text": [
      "/Users/adam/anaconda3/envs/ds-venv/lib/python3.10/site-packages/sklearn/linear_model/_logistic.py:469: ConvergenceWarning: lbfgs failed to converge (status=1):\n",
      "STOP: TOTAL NO. of ITERATIONS REACHED LIMIT.\n",
      "\n",
      "Increase the number of iterations (max_iter) or scale the data as shown in:\n",
      "    https://scikit-learn.org/stable/modules/preprocessing.html\n",
      "Please also refer to the documentation for alternative solver options:\n",
      "    https://scikit-learn.org/stable/modules/linear_model.html#logistic-regression\n",
      "  n_iter_i = _check_optimize_result(\n"
     ]
    },
    {
     "data": {
      "text/html": [
       "<style>#sk-container-id-1 {\n",
       "  /* Definition of color scheme common for light and dark mode */\n",
       "  --sklearn-color-text: black;\n",
       "  --sklearn-color-line: gray;\n",
       "  /* Definition of color scheme for unfitted estimators */\n",
       "  --sklearn-color-unfitted-level-0: #fff5e6;\n",
       "  --sklearn-color-unfitted-level-1: #f6e4d2;\n",
       "  --sklearn-color-unfitted-level-2: #ffe0b3;\n",
       "  --sklearn-color-unfitted-level-3: chocolate;\n",
       "  /* Definition of color scheme for fitted estimators */\n",
       "  --sklearn-color-fitted-level-0: #f0f8ff;\n",
       "  --sklearn-color-fitted-level-1: #d4ebff;\n",
       "  --sklearn-color-fitted-level-2: #b3dbfd;\n",
       "  --sklearn-color-fitted-level-3: cornflowerblue;\n",
       "\n",
       "  /* Specific color for light theme */\n",
       "  --sklearn-color-text-on-default-background: var(--sg-text-color, var(--theme-code-foreground, var(--jp-content-font-color1, black)));\n",
       "  --sklearn-color-background: var(--sg-background-color, var(--theme-background, var(--jp-layout-color0, white)));\n",
       "  --sklearn-color-border-box: var(--sg-text-color, var(--theme-code-foreground, var(--jp-content-font-color1, black)));\n",
       "  --sklearn-color-icon: #696969;\n",
       "\n",
       "  @media (prefers-color-scheme: dark) {\n",
       "    /* Redefinition of color scheme for dark theme */\n",
       "    --sklearn-color-text-on-default-background: var(--sg-text-color, var(--theme-code-foreground, var(--jp-content-font-color1, white)));\n",
       "    --sklearn-color-background: var(--sg-background-color, var(--theme-background, var(--jp-layout-color0, #111)));\n",
       "    --sklearn-color-border-box: var(--sg-text-color, var(--theme-code-foreground, var(--jp-content-font-color1, white)));\n",
       "    --sklearn-color-icon: #878787;\n",
       "  }\n",
       "}\n",
       "\n",
       "#sk-container-id-1 {\n",
       "  color: var(--sklearn-color-text);\n",
       "}\n",
       "\n",
       "#sk-container-id-1 pre {\n",
       "  padding: 0;\n",
       "}\n",
       "\n",
       "#sk-container-id-1 input.sk-hidden--visually {\n",
       "  border: 0;\n",
       "  clip: rect(1px 1px 1px 1px);\n",
       "  clip: rect(1px, 1px, 1px, 1px);\n",
       "  height: 1px;\n",
       "  margin: -1px;\n",
       "  overflow: hidden;\n",
       "  padding: 0;\n",
       "  position: absolute;\n",
       "  width: 1px;\n",
       "}\n",
       "\n",
       "#sk-container-id-1 div.sk-dashed-wrapped {\n",
       "  border: 1px dashed var(--sklearn-color-line);\n",
       "  margin: 0 0.4em 0.5em 0.4em;\n",
       "  box-sizing: border-box;\n",
       "  padding-bottom: 0.4em;\n",
       "  background-color: var(--sklearn-color-background);\n",
       "}\n",
       "\n",
       "#sk-container-id-1 div.sk-container {\n",
       "  /* jupyter's `normalize.less` sets `[hidden] { display: none; }`\n",
       "     but bootstrap.min.css set `[hidden] { display: none !important; }`\n",
       "     so we also need the `!important` here to be able to override the\n",
       "     default hidden behavior on the sphinx rendered scikit-learn.org.\n",
       "     See: https://github.com/scikit-learn/scikit-learn/issues/21755 */\n",
       "  display: inline-block !important;\n",
       "  position: relative;\n",
       "}\n",
       "\n",
       "#sk-container-id-1 div.sk-text-repr-fallback {\n",
       "  display: none;\n",
       "}\n",
       "\n",
       "div.sk-parallel-item,\n",
       "div.sk-serial,\n",
       "div.sk-item {\n",
       "  /* draw centered vertical line to link estimators */\n",
       "  background-image: linear-gradient(var(--sklearn-color-text-on-default-background), var(--sklearn-color-text-on-default-background));\n",
       "  background-size: 2px 100%;\n",
       "  background-repeat: no-repeat;\n",
       "  background-position: center center;\n",
       "}\n",
       "\n",
       "/* Parallel-specific style estimator block */\n",
       "\n",
       "#sk-container-id-1 div.sk-parallel-item::after {\n",
       "  content: \"\";\n",
       "  width: 100%;\n",
       "  border-bottom: 2px solid var(--sklearn-color-text-on-default-background);\n",
       "  flex-grow: 1;\n",
       "}\n",
       "\n",
       "#sk-container-id-1 div.sk-parallel {\n",
       "  display: flex;\n",
       "  align-items: stretch;\n",
       "  justify-content: center;\n",
       "  background-color: var(--sklearn-color-background);\n",
       "  position: relative;\n",
       "}\n",
       "\n",
       "#sk-container-id-1 div.sk-parallel-item {\n",
       "  display: flex;\n",
       "  flex-direction: column;\n",
       "}\n",
       "\n",
       "#sk-container-id-1 div.sk-parallel-item:first-child::after {\n",
       "  align-self: flex-end;\n",
       "  width: 50%;\n",
       "}\n",
       "\n",
       "#sk-container-id-1 div.sk-parallel-item:last-child::after {\n",
       "  align-self: flex-start;\n",
       "  width: 50%;\n",
       "}\n",
       "\n",
       "#sk-container-id-1 div.sk-parallel-item:only-child::after {\n",
       "  width: 0;\n",
       "}\n",
       "\n",
       "/* Serial-specific style estimator block */\n",
       "\n",
       "#sk-container-id-1 div.sk-serial {\n",
       "  display: flex;\n",
       "  flex-direction: column;\n",
       "  align-items: center;\n",
       "  background-color: var(--sklearn-color-background);\n",
       "  padding-right: 1em;\n",
       "  padding-left: 1em;\n",
       "}\n",
       "\n",
       "\n",
       "/* Toggleable style: style used for estimator/Pipeline/ColumnTransformer box that is\n",
       "clickable and can be expanded/collapsed.\n",
       "- Pipeline and ColumnTransformer use this feature and define the default style\n",
       "- Estimators will overwrite some part of the style using the `sk-estimator` class\n",
       "*/\n",
       "\n",
       "/* Pipeline and ColumnTransformer style (default) */\n",
       "\n",
       "#sk-container-id-1 div.sk-toggleable {\n",
       "  /* Default theme specific background. It is overwritten whether we have a\n",
       "  specific estimator or a Pipeline/ColumnTransformer */\n",
       "  background-color: var(--sklearn-color-background);\n",
       "}\n",
       "\n",
       "/* Toggleable label */\n",
       "#sk-container-id-1 label.sk-toggleable__label {\n",
       "  cursor: pointer;\n",
       "  display: block;\n",
       "  width: 100%;\n",
       "  margin-bottom: 0;\n",
       "  padding: 0.5em;\n",
       "  box-sizing: border-box;\n",
       "  text-align: center;\n",
       "}\n",
       "\n",
       "#sk-container-id-1 label.sk-toggleable__label-arrow:before {\n",
       "  /* Arrow on the left of the label */\n",
       "  content: \"▸\";\n",
       "  float: left;\n",
       "  margin-right: 0.25em;\n",
       "  color: var(--sklearn-color-icon);\n",
       "}\n",
       "\n",
       "#sk-container-id-1 label.sk-toggleable__label-arrow:hover:before {\n",
       "  color: var(--sklearn-color-text);\n",
       "}\n",
       "\n",
       "/* Toggleable content - dropdown */\n",
       "\n",
       "#sk-container-id-1 div.sk-toggleable__content {\n",
       "  max-height: 0;\n",
       "  max-width: 0;\n",
       "  overflow: hidden;\n",
       "  text-align: left;\n",
       "  /* unfitted */\n",
       "  background-color: var(--sklearn-color-unfitted-level-0);\n",
       "}\n",
       "\n",
       "#sk-container-id-1 div.sk-toggleable__content.fitted {\n",
       "  /* fitted */\n",
       "  background-color: var(--sklearn-color-fitted-level-0);\n",
       "}\n",
       "\n",
       "#sk-container-id-1 div.sk-toggleable__content pre {\n",
       "  margin: 0.2em;\n",
       "  border-radius: 0.25em;\n",
       "  color: var(--sklearn-color-text);\n",
       "  /* unfitted */\n",
       "  background-color: var(--sklearn-color-unfitted-level-0);\n",
       "}\n",
       "\n",
       "#sk-container-id-1 div.sk-toggleable__content.fitted pre {\n",
       "  /* unfitted */\n",
       "  background-color: var(--sklearn-color-fitted-level-0);\n",
       "}\n",
       "\n",
       "#sk-container-id-1 input.sk-toggleable__control:checked~div.sk-toggleable__content {\n",
       "  /* Expand drop-down */\n",
       "  max-height: 200px;\n",
       "  max-width: 100%;\n",
       "  overflow: auto;\n",
       "}\n",
       "\n",
       "#sk-container-id-1 input.sk-toggleable__control:checked~label.sk-toggleable__label-arrow:before {\n",
       "  content: \"▾\";\n",
       "}\n",
       "\n",
       "/* Pipeline/ColumnTransformer-specific style */\n",
       "\n",
       "#sk-container-id-1 div.sk-label input.sk-toggleable__control:checked~label.sk-toggleable__label {\n",
       "  color: var(--sklearn-color-text);\n",
       "  background-color: var(--sklearn-color-unfitted-level-2);\n",
       "}\n",
       "\n",
       "#sk-container-id-1 div.sk-label.fitted input.sk-toggleable__control:checked~label.sk-toggleable__label {\n",
       "  background-color: var(--sklearn-color-fitted-level-2);\n",
       "}\n",
       "\n",
       "/* Estimator-specific style */\n",
       "\n",
       "/* Colorize estimator box */\n",
       "#sk-container-id-1 div.sk-estimator input.sk-toggleable__control:checked~label.sk-toggleable__label {\n",
       "  /* unfitted */\n",
       "  background-color: var(--sklearn-color-unfitted-level-2);\n",
       "}\n",
       "\n",
       "#sk-container-id-1 div.sk-estimator.fitted input.sk-toggleable__control:checked~label.sk-toggleable__label {\n",
       "  /* fitted */\n",
       "  background-color: var(--sklearn-color-fitted-level-2);\n",
       "}\n",
       "\n",
       "#sk-container-id-1 div.sk-label label.sk-toggleable__label,\n",
       "#sk-container-id-1 div.sk-label label {\n",
       "  /* The background is the default theme color */\n",
       "  color: var(--sklearn-color-text-on-default-background);\n",
       "}\n",
       "\n",
       "/* On hover, darken the color of the background */\n",
       "#sk-container-id-1 div.sk-label:hover label.sk-toggleable__label {\n",
       "  color: var(--sklearn-color-text);\n",
       "  background-color: var(--sklearn-color-unfitted-level-2);\n",
       "}\n",
       "\n",
       "/* Label box, darken color on hover, fitted */\n",
       "#sk-container-id-1 div.sk-label.fitted:hover label.sk-toggleable__label.fitted {\n",
       "  color: var(--sklearn-color-text);\n",
       "  background-color: var(--sklearn-color-fitted-level-2);\n",
       "}\n",
       "\n",
       "/* Estimator label */\n",
       "\n",
       "#sk-container-id-1 div.sk-label label {\n",
       "  font-family: monospace;\n",
       "  font-weight: bold;\n",
       "  display: inline-block;\n",
       "  line-height: 1.2em;\n",
       "}\n",
       "\n",
       "#sk-container-id-1 div.sk-label-container {\n",
       "  text-align: center;\n",
       "}\n",
       "\n",
       "/* Estimator-specific */\n",
       "#sk-container-id-1 div.sk-estimator {\n",
       "  font-family: monospace;\n",
       "  border: 1px dotted var(--sklearn-color-border-box);\n",
       "  border-radius: 0.25em;\n",
       "  box-sizing: border-box;\n",
       "  margin-bottom: 0.5em;\n",
       "  /* unfitted */\n",
       "  background-color: var(--sklearn-color-unfitted-level-0);\n",
       "}\n",
       "\n",
       "#sk-container-id-1 div.sk-estimator.fitted {\n",
       "  /* fitted */\n",
       "  background-color: var(--sklearn-color-fitted-level-0);\n",
       "}\n",
       "\n",
       "/* on hover */\n",
       "#sk-container-id-1 div.sk-estimator:hover {\n",
       "  /* unfitted */\n",
       "  background-color: var(--sklearn-color-unfitted-level-2);\n",
       "}\n",
       "\n",
       "#sk-container-id-1 div.sk-estimator.fitted:hover {\n",
       "  /* fitted */\n",
       "  background-color: var(--sklearn-color-fitted-level-2);\n",
       "}\n",
       "\n",
       "/* Specification for estimator info (e.g. \"i\" and \"?\") */\n",
       "\n",
       "/* Common style for \"i\" and \"?\" */\n",
       "\n",
       ".sk-estimator-doc-link,\n",
       "a:link.sk-estimator-doc-link,\n",
       "a:visited.sk-estimator-doc-link {\n",
       "  float: right;\n",
       "  font-size: smaller;\n",
       "  line-height: 1em;\n",
       "  font-family: monospace;\n",
       "  background-color: var(--sklearn-color-background);\n",
       "  border-radius: 1em;\n",
       "  height: 1em;\n",
       "  width: 1em;\n",
       "  text-decoration: none !important;\n",
       "  margin-left: 1ex;\n",
       "  /* unfitted */\n",
       "  border: var(--sklearn-color-unfitted-level-1) 1pt solid;\n",
       "  color: var(--sklearn-color-unfitted-level-1);\n",
       "}\n",
       "\n",
       ".sk-estimator-doc-link.fitted,\n",
       "a:link.sk-estimator-doc-link.fitted,\n",
       "a:visited.sk-estimator-doc-link.fitted {\n",
       "  /* fitted */\n",
       "  border: var(--sklearn-color-fitted-level-1) 1pt solid;\n",
       "  color: var(--sklearn-color-fitted-level-1);\n",
       "}\n",
       "\n",
       "/* On hover */\n",
       "div.sk-estimator:hover .sk-estimator-doc-link:hover,\n",
       ".sk-estimator-doc-link:hover,\n",
       "div.sk-label-container:hover .sk-estimator-doc-link:hover,\n",
       ".sk-estimator-doc-link:hover {\n",
       "  /* unfitted */\n",
       "  background-color: var(--sklearn-color-unfitted-level-3);\n",
       "  color: var(--sklearn-color-background);\n",
       "  text-decoration: none;\n",
       "}\n",
       "\n",
       "div.sk-estimator.fitted:hover .sk-estimator-doc-link.fitted:hover,\n",
       ".sk-estimator-doc-link.fitted:hover,\n",
       "div.sk-label-container:hover .sk-estimator-doc-link.fitted:hover,\n",
       ".sk-estimator-doc-link.fitted:hover {\n",
       "  /* fitted */\n",
       "  background-color: var(--sklearn-color-fitted-level-3);\n",
       "  color: var(--sklearn-color-background);\n",
       "  text-decoration: none;\n",
       "}\n",
       "\n",
       "/* Span, style for the box shown on hovering the info icon */\n",
       ".sk-estimator-doc-link span {\n",
       "  display: none;\n",
       "  z-index: 9999;\n",
       "  position: relative;\n",
       "  font-weight: normal;\n",
       "  right: .2ex;\n",
       "  padding: .5ex;\n",
       "  margin: .5ex;\n",
       "  width: min-content;\n",
       "  min-width: 20ex;\n",
       "  max-width: 50ex;\n",
       "  color: var(--sklearn-color-text);\n",
       "  box-shadow: 2pt 2pt 4pt #999;\n",
       "  /* unfitted */\n",
       "  background: var(--sklearn-color-unfitted-level-0);\n",
       "  border: .5pt solid var(--sklearn-color-unfitted-level-3);\n",
       "}\n",
       "\n",
       ".sk-estimator-doc-link.fitted span {\n",
       "  /* fitted */\n",
       "  background: var(--sklearn-color-fitted-level-0);\n",
       "  border: var(--sklearn-color-fitted-level-3);\n",
       "}\n",
       "\n",
       ".sk-estimator-doc-link:hover span {\n",
       "  display: block;\n",
       "}\n",
       "\n",
       "/* \"?\"-specific style due to the `<a>` HTML tag */\n",
       "\n",
       "#sk-container-id-1 a.estimator_doc_link {\n",
       "  float: right;\n",
       "  font-size: 1rem;\n",
       "  line-height: 1em;\n",
       "  font-family: monospace;\n",
       "  background-color: var(--sklearn-color-background);\n",
       "  border-radius: 1rem;\n",
       "  height: 1rem;\n",
       "  width: 1rem;\n",
       "  text-decoration: none;\n",
       "  /* unfitted */\n",
       "  color: var(--sklearn-color-unfitted-level-1);\n",
       "  border: var(--sklearn-color-unfitted-level-1) 1pt solid;\n",
       "}\n",
       "\n",
       "#sk-container-id-1 a.estimator_doc_link.fitted {\n",
       "  /* fitted */\n",
       "  border: var(--sklearn-color-fitted-level-1) 1pt solid;\n",
       "  color: var(--sklearn-color-fitted-level-1);\n",
       "}\n",
       "\n",
       "/* On hover */\n",
       "#sk-container-id-1 a.estimator_doc_link:hover {\n",
       "  /* unfitted */\n",
       "  background-color: var(--sklearn-color-unfitted-level-3);\n",
       "  color: var(--sklearn-color-background);\n",
       "  text-decoration: none;\n",
       "}\n",
       "\n",
       "#sk-container-id-1 a.estimator_doc_link.fitted:hover {\n",
       "  /* fitted */\n",
       "  background-color: var(--sklearn-color-fitted-level-3);\n",
       "}\n",
       "</style><div id=\"sk-container-id-1\" class=\"sk-top-container\"><div class=\"sk-text-repr-fallback\"><pre>LogisticRegression()</pre><b>In a Jupyter environment, please rerun this cell to show the HTML representation or trust the notebook. <br />On GitHub, the HTML representation is unable to render, please try loading this page with nbviewer.org.</b></div><div class=\"sk-container\" hidden><div class=\"sk-item\"><div class=\"sk-estimator fitted sk-toggleable\"><input class=\"sk-toggleable__control sk-hidden--visually\" id=\"sk-estimator-id-1\" type=\"checkbox\" checked><label for=\"sk-estimator-id-1\" class=\"sk-toggleable__label fitted sk-toggleable__label-arrow fitted\">&nbsp;&nbsp;LogisticRegression<a class=\"sk-estimator-doc-link fitted\" rel=\"noreferrer\" target=\"_blank\" href=\"https://scikit-learn.org/1.4/modules/generated/sklearn.linear_model.LogisticRegression.html\">?<span>Documentation for LogisticRegression</span></a><span class=\"sk-estimator-doc-link fitted\">i<span>Fitted</span></span></label><div class=\"sk-toggleable__content fitted\"><pre>LogisticRegression()</pre></div> </div></div></div></div>"
      ],
      "text/plain": [
       "LogisticRegression()"
      ]
     },
     "execution_count": 50,
     "metadata": {},
     "output_type": "execute_result"
    }
   ],
   "source": [
    "lr.fit(X_train, y_train)"
   ]
  },
  {
   "cell_type": "code",
   "execution_count": 51,
   "metadata": {},
   "outputs": [
    {
     "name": "stdout",
     "output_type": "stream",
     "text": [
      "TRAINING RESULT:\n",
      "Accuracy Score Model in Training Data : 0.77\n",
      "======================================================\n",
      "Classification Report --------------------------------\n",
      "              precision    recall  f1-score   support\n",
      "\n",
      "           0       0.77      0.82      0.79      4054\n",
      "           1       0.78      0.72      0.75      3686\n",
      "\n",
      "    accuracy                           0.77      7740\n",
      "   macro avg       0.77      0.77      0.77      7740\n",
      "weighted avg       0.77      0.77      0.77      7740\n",
      "\n",
      "======================================================\n"
     ]
    }
   ],
   "source": [
    "# Import Package\n",
    "from sklearn.metrics import accuracy_score, classification_report\n",
    "\n",
    "# Predict\n",
    "y_train_pred = lr.predict(X_train)\n",
    "\n",
    "# Print Result\n",
    "print('TRAINING RESULT:')\n",
    "print(f'Accuracy Score Model in Training Data : {accuracy_score(y_train, y_train_pred):.2f}')\n",
    "print('======================================================')\n",
    "print('Classification Report --------------------------------')\n",
    "print(classification_report(y_train, y_train_pred))\n",
    "print('======================================================')"
   ]
  },
  {
   "cell_type": "code",
   "execution_count": 52,
   "metadata": {},
   "outputs": [
    {
     "name": "stdout",
     "output_type": "stream",
     "text": [
      "Accuracy in Baseline model using training data : 0.52 %\n",
      "Accuracy in Logistic Regression model using training data : 0.77 %\n"
     ]
    }
   ],
   "source": [
    "print(f'Accuracy in Baseline model using training data : {baseline_score:.2f} %')\n",
    "print(f'Accuracy in Logistic Regression model using training data : {accuracy_score(y_train, y_train_pred):.2f} %')"
   ]
  },
  {
   "cell_type": "markdown",
   "metadata": {},
   "source": [
    "# <font color='white'>**8. Evaluation**</font>\n",
    "---"
   ]
  },
  {
   "cell_type": "markdown",
   "metadata": {},
   "source": [
    "## **8.1 Preprocessing Test Set**"
   ]
  },
  {
   "cell_type": "code",
   "execution_count": 53,
   "metadata": {},
   "outputs": [],
   "source": [
    "# Define dataset\n",
    "test_set = pd.concat([X_test, y_test], axis=1)"
   ]
  },
  {
   "cell_type": "code",
   "execution_count": 54,
   "metadata": {},
   "outputs": [],
   "source": [
    "# Encode categorical data\n",
    "_, test_set = encoding_cat_feature(data=train_set, fit=encoder)"
   ]
  },
  {
   "cell_type": "code",
   "execution_count": 56,
   "metadata": {},
   "outputs": [],
   "source": [
    "# split X_test and y_test\n",
    "X_test, y_test = split_input_output(data= test_set, target_column=\"deposit\")"
   ]
  },
  {
   "cell_type": "markdown",
   "metadata": {},
   "source": [
    "## **8.2 Evaluation**"
   ]
  },
  {
   "cell_type": "code",
   "execution_count": 57,
   "metadata": {},
   "outputs": [
    {
     "name": "stdout",
     "output_type": "stream",
     "text": [
      "\n",
      "VALIDATION RESULT:\n",
      "Accuracy Score Model in Testing Data : 0.77\n",
      "======================================================\n",
      "Classification Report --------------------------------\n",
      "              precision    recall  f1-score   support\n",
      "\n",
      "           0       0.77      0.82      0.79      4054\n",
      "           1       0.78      0.72      0.75      3686\n",
      "\n",
      "    accuracy                           0.77      7740\n",
      "   macro avg       0.77      0.77      0.77      7740\n",
      "weighted avg       0.77      0.77      0.77      7740\n",
      "\n",
      "======================================================\n"
     ]
    }
   ],
   "source": [
    "# predict X_tst\n",
    "y_test_pred = lr.predict(X_test)\n",
    "\n",
    "# Print evaluation\n",
    "print('\\nVALIDATION RESULT:')\n",
    "print(f'Accuracy Score Model in Testing Data : {accuracy_score(y_test, y_test_pred):.2f}')\n",
    "print('======================================================')\n",
    "print('Classification Report --------------------------------')\n",
    "print(classification_report(y_test, y_test_pred))\n",
    "print('======================================================')"
   ]
  },
  {
   "cell_type": "code",
   "execution_count": 58,
   "metadata": {},
   "outputs": [
    {
     "name": "stdout",
     "output_type": "stream",
     "text": [
      "Accuracy in Baseline model using testing data : 0.52 %\n",
      "Accuracy in Logistic Regression model using testing data : 0.77 %\n"
     ]
    }
   ],
   "source": [
    "print(f'Accuracy in Baseline model using testing data : {baseline_score:.2f} %')\n",
    "print(f'Accuracy in Logistic Regression model using testing data : {accuracy_score(y_test, y_test_pred):.2f} %')"
   ]
  },
  {
   "cell_type": "markdown",
   "metadata": {},
   "source": [
    "# **<font color='white'>9. Interpretation</font>**\n",
    "---"
   ]
  },
  {
   "cell_type": "markdown",
   "metadata": {},
   "source": [
    "- To interpret in terms of odds, we transform the log(odds) into odds.\n",
    "\n",
    "$$\n",
    " \\text {log(odds)} = \\beta_{0}+\\beta_{1}x\n",
    "$$\n",
    "  - Thus,\n",
    "$$\n",
    "\\begin{align*}\n",
    "\\text {odds} &= e^{(\\beta_{0}+\\beta_{1}x)} \\\\\n",
    "&= e^{\\beta_{0}} \\left (e^{\\beta_{1}} \\right )^{x} \\\\\n",
    "\\end{align*}\n",
    "$$\n",
    "<br>\n",
    "  - Interpretation: **the estimated odds of success multiply by $\\text{exp}(\\beta_{1})$ for one unit increase in $x$.**"
   ]
  },
  {
   "cell_type": "code",
   "execution_count": 59,
   "metadata": {},
   "outputs": [],
   "source": [
    "def get_coeff(clf, feature_name):\n",
    "\n",
    "    \"\"\"\n",
    "    Parameters\n",
    "    ----------\n",
    "    clf : <model sklearn>\n",
    "          fitted model sklearn\n",
    "\n",
    "    feature_name: <list>\n",
    "                  list of feature name\n",
    "\n",
    "    Return\n",
    "    ------\n",
    "\n",
    "    df: <pandas DataFrame>\n",
    "        Dataframe of coefficient name and coefficient value\n",
    "    \"\"\"\n",
    "\n",
    "    # coefficients (slope)\n",
    "    feature_importance = (pd.DataFrame({'variable': feature_name,\n",
    "                                        'coefficient': clf.coef_[0]\n",
    "                                        }).round(decimals=6).sort_values('coefficient', ascending=False))\n",
    "\n",
    "    # coefficient (intercept)\n",
    "    intercept = pd.DataFrame({'variable': 'intercept', 'coefficient': clf.intercept_[0]}, index=[len(feature_importance)])\n",
    "\n",
    "    # concat\n",
    "    df = pd.concat([feature_importance, intercept])\n",
    "\n",
    "    return df"
   ]
  },
  {
   "cell_type": "code",
   "execution_count": 60,
   "metadata": {},
   "outputs": [
    {
     "data": {
      "text/html": [
       "<div>\n",
       "<style scoped>\n",
       "    .dataframe tbody tr th:only-of-type {\n",
       "        vertical-align: middle;\n",
       "    }\n",
       "\n",
       "    .dataframe tbody tr th {\n",
       "        vertical-align: top;\n",
       "    }\n",
       "\n",
       "    .dataframe thead th {\n",
       "        text-align: right;\n",
       "    }\n",
       "</style>\n",
       "<table border=\"1\" class=\"dataframe\">\n",
       "  <thead>\n",
       "    <tr style=\"text-align: right;\">\n",
       "      <th></th>\n",
       "      <th>variable</th>\n",
       "      <th>coefficient</th>\n",
       "    </tr>\n",
       "  </thead>\n",
       "  <tbody>\n",
       "    <tr>\n",
       "      <th>3</th>\n",
       "      <td>previous</td>\n",
       "      <td>0.213919</td>\n",
       "    </tr>\n",
       "    <tr>\n",
       "      <th>1</th>\n",
       "      <td>duration</td>\n",
       "      <td>0.004897</td>\n",
       "    </tr>\n",
       "    <tr>\n",
       "      <th>0</th>\n",
       "      <td>age</td>\n",
       "      <td>-0.003306</td>\n",
       "    </tr>\n",
       "    <tr>\n",
       "      <th>4</th>\n",
       "      <td>default_yes</td>\n",
       "      <td>-0.124180</td>\n",
       "    </tr>\n",
       "    <tr>\n",
       "      <th>2</th>\n",
       "      <td>campaign</td>\n",
       "      <td>-0.169119</td>\n",
       "    </tr>\n",
       "    <tr>\n",
       "      <th>6</th>\n",
       "      <td>loan_yes</td>\n",
       "      <td>-0.833822</td>\n",
       "    </tr>\n",
       "    <tr>\n",
       "      <th>5</th>\n",
       "      <td>housing_yes</td>\n",
       "      <td>-1.252843</td>\n",
       "    </tr>\n",
       "    <tr>\n",
       "      <th>7</th>\n",
       "      <td>intercept</td>\n",
       "      <td>-0.729587</td>\n",
       "    </tr>\n",
       "  </tbody>\n",
       "</table>\n",
       "</div>"
      ],
      "text/plain": [
       "      variable  coefficient\n",
       "3     previous     0.213919\n",
       "1     duration     0.004897\n",
       "0          age    -0.003306\n",
       "4  default_yes    -0.124180\n",
       "2     campaign    -0.169119\n",
       "6     loan_yes    -0.833822\n",
       "5  housing_yes    -1.252843\n",
       "7    intercept    -0.729587"
      ]
     },
     "execution_count": 60,
     "metadata": {},
     "output_type": "execute_result"
    }
   ],
   "source": [
    "# Get Coefficients\n",
    "coef = get_coeff(clf = lr,\n",
    "                 feature_name = X_train.columns)\n",
    "\n",
    "# Show\n",
    "coef"
   ]
  },
  {
   "cell_type": "code",
   "execution_count": 61,
   "metadata": {},
   "outputs": [
    {
     "data": {
      "text/html": [
       "<div>\n",
       "<style scoped>\n",
       "    .dataframe tbody tr th:only-of-type {\n",
       "        vertical-align: middle;\n",
       "    }\n",
       "\n",
       "    .dataframe tbody tr th {\n",
       "        vertical-align: top;\n",
       "    }\n",
       "\n",
       "    .dataframe thead th {\n",
       "        text-align: right;\n",
       "    }\n",
       "</style>\n",
       "<table border=\"1\" class=\"dataframe\">\n",
       "  <thead>\n",
       "    <tr style=\"text-align: right;\">\n",
       "      <th></th>\n",
       "      <th>variable</th>\n",
       "      <th>coefficient</th>\n",
       "      <th>exp</th>\n",
       "    </tr>\n",
       "  </thead>\n",
       "  <tbody>\n",
       "    <tr>\n",
       "      <th>3</th>\n",
       "      <td>previous</td>\n",
       "      <td>0.213919</td>\n",
       "      <td>1.238522</td>\n",
       "    </tr>\n",
       "    <tr>\n",
       "      <th>1</th>\n",
       "      <td>duration</td>\n",
       "      <td>0.004897</td>\n",
       "      <td>1.004909</td>\n",
       "    </tr>\n",
       "    <tr>\n",
       "      <th>0</th>\n",
       "      <td>age</td>\n",
       "      <td>-0.003306</td>\n",
       "      <td>0.996699</td>\n",
       "    </tr>\n",
       "    <tr>\n",
       "      <th>4</th>\n",
       "      <td>default_yes</td>\n",
       "      <td>-0.124180</td>\n",
       "      <td>0.883221</td>\n",
       "    </tr>\n",
       "    <tr>\n",
       "      <th>2</th>\n",
       "      <td>campaign</td>\n",
       "      <td>-0.169119</td>\n",
       "      <td>0.844408</td>\n",
       "    </tr>\n",
       "    <tr>\n",
       "      <th>6</th>\n",
       "      <td>loan_yes</td>\n",
       "      <td>-0.833822</td>\n",
       "      <td>0.434386</td>\n",
       "    </tr>\n",
       "    <tr>\n",
       "      <th>5</th>\n",
       "      <td>housing_yes</td>\n",
       "      <td>-1.252843</td>\n",
       "      <td>0.285691</td>\n",
       "    </tr>\n",
       "    <tr>\n",
       "      <th>7</th>\n",
       "      <td>intercept</td>\n",
       "      <td>-0.729587</td>\n",
       "      <td>0.482108</td>\n",
       "    </tr>\n",
       "  </tbody>\n",
       "</table>\n",
       "</div>"
      ],
      "text/plain": [
       "      variable  coefficient       exp\n",
       "3     previous     0.213919  1.238522\n",
       "1     duration     0.004897  1.004909\n",
       "0          age    -0.003306  0.996699\n",
       "4  default_yes    -0.124180  0.883221\n",
       "2     campaign    -0.169119  0.844408\n",
       "6     loan_yes    -0.833822  0.434386\n",
       "5  housing_yes    -1.252843  0.285691\n",
       "7    intercept    -0.729587  0.482108"
      ]
     },
     "execution_count": 61,
     "metadata": {},
     "output_type": "execute_result"
    }
   ],
   "source": [
    "coef2 = coef.copy()\n",
    "coef2['exp'] = np.exp(coef2['coefficient'])\n",
    "coef2"
   ]
  },
  {
   "cell_type": "markdown",
   "metadata": {},
   "source": [
    "- `previous`:\n",
    "  - For every 1 point increase in previous, the odds of customer will deposit increase by a factor of exp(0.202965), or approximately 1.225030.\n",
    "\n",
    "  - if the bank increases the number of people will be contacted, increase the client deposit odds by about 20%. (odds = 1.2)\n",
    "\n",
    "  - Marketing innitiative: Bank can increase number of poeple contacted so the odds of client will subscribe term of deposite increased <br>\n",
    "<br>\n",
    "- `duration`:\n",
    "  - For every 1 second increase in duration, the odds of customer will deposit increase by a factor of exp(0.004979), or approximately 1.004991, so the odds will increase about 1.33 every increase 1 minutes of call duration\n",
    "\n",
    "  - adding 1 minute (60 seconds) contact duration increases client deposit odds by around 33% (odds = 1.33, exp(0.004868*60))\n",
    "\n",
    "  - Marketing innitiative: The bank can increases the call duraiton (telemarketing) so the odds of the bank clients will subscribe term of deposit increased<br>\n",
    "<br>\n",
    "- `age`:\n",
    "  - For every 1 point increase in estimated age, the odds of customer will deposit decrease by a factor of exp(-0.000586), or approximately 0.99. The odds will decrease about 1% every 1 year increasing in estimated age.\n",
    "\n",
    "  - Since, the odds of client will deposit is < 1, It simply means that the probability of depositing is less than 0.5 for older clients, younger clients tend to have higher probability of customer will subscribe term of deposit than old clients\n",
    "\n",
    "  - Marketing innitiative: create marketing campaign with goal to attract younger pontential clients <br>\n",
    "<br>\n",
    "- `campaign`:\n",
    "  - For every 1 point increase in campaign, the odds of customer will deposit decrease by a factor of exp(-0.153346), or approximately 0.857833. The odds will decrease 15% every increasing number of contact during campaign\n",
    "\n",
    "  - Since the odds of client will deposit < 1, It simply means that the probability of depositing is less than 0.5 for contacting the potential client during the campaign.\n",
    "\n",
    "  - So, the probability of client will subscribe term of deposit for less contact during the campaign will be hgiher\n",
    "\n",
    "  - Marketing innitiative: Try to decrease the number of contact during the campaign <br>\n",
    "<br>\n",
    "- `default_yes`:\n",
    "  - The estimated odds for customer deposit is decrease by a factor of exp(-0.264680), or approximately 0.767451 given the default is yes. The odds will decrease 24% given the client is default\n",
    "  - The probability of bank clients will deposit is less than 0.5 given the customer default is yes\n",
    "  - It means, the probability of clients will deposit given the client is not default will be higher than the default client<br>\n",
    "  - Marketing innitiative: Profilling and targeting the clients who have no default record and give specific marketing treatment to them\n",
    "<br>\n",
    "- `loan_yes`:\n",
    "  - The estimated odds for customer deposit is decrease by a factor of exp(-0.808210), or approximately 0.445655 given the loan is yes. The odds will decrease 55% given the clients have loan.\n",
    "  - Since the probability of client will deposit < 0.5 given the clients have loan, it means the probability of clients who have no loan will be higher than those who have loan\n",
    "  - Marketing innitiative: Give specific marketing treatment for the clients who have no loan record <br>\n",
    "<br>\n",
    "- `housing_yes`:\n",
    "  - The estimated odds for customer deposit is decrease by a factor of exp(-1.293378), or approximately 0.274342 given the loan housing is yes. The odds will decrease 77% given the clients have housing loan\n",
    "\n",
    "  - It means the probability of clients will subscribe term of deposit given they have loan housing is less < 0.5, so the probability of clients will subscribe given the they have no loan housing tend to be higher\n",
    "\n",
    "  - Marketing innitiative: Give specific marketing treatment for the clients who have no housing loann <br>\n",
    "<br>\n",
    "- `Intercept` :\n",
    "  - estimated odds of a customer will subscribe term of deposit when all variable equal to 0 is 0.417415.\n",
    "  - When all variable 0 means when the number of contacted is 0, call duration is 0 minute, age = 0 (we need to center / transform the variable to interprete this), when the there's no exposure of the campaign, when the customer is not default, when the clients don't have loan, when the clients don't have housing loan\n",
    "  - So the probability of customer will buy the term of deposit is < 0.5 when all variabes are equal to 0"
   ]
  },
  {
   "cell_type": "markdown",
   "metadata": {},
   "source": [
    "# <font color='white'>10. Simulation</font>\n",
    "---"
   ]
  },
  {
   "cell_type": "code",
   "execution_count": 62,
   "metadata": {},
   "outputs": [
    {
     "name": "stdout",
     "output_type": "stream",
     "text": [
      "Existing Deposit Rate : 47.62 %\n",
      "Target Deposit Rate Increase : 55.62 %\n"
     ]
    }
   ],
   "source": [
    "# Print Existing Deposit Rate\n",
    "print(f'Existing Deposit Rate : {y.mean()*100:.2f} %')\n",
    "\n",
    "# Print target increase in deposit rate\n",
    "print(f\"Target Deposit Rate Increase : {(y.mean()*100+8):.2f} %\")"
   ]
  },
  {
   "cell_type": "code",
   "execution_count": 63,
   "metadata": {},
   "outputs": [
    {
     "data": {
      "text/plain": [
       "array([[3317,  737],\n",
       "       [1018, 2668]])"
      ]
     },
     "execution_count": 63,
     "metadata": {},
     "output_type": "execute_result"
    }
   ],
   "source": [
    "# Import Confusion Matrix\n",
    "from sklearn.metrics import confusion_matrix\n",
    "\n",
    "# Show Existing Confusion Matrix\n",
    "cf_matrix = confusion_matrix(y_test, y_test_pred)\n",
    "cf_matrix"
   ]
  },
  {
   "cell_type": "code",
   "execution_count": 64,
   "metadata": {},
   "outputs": [],
   "source": [
    "def simulation(df, simulation_features, lr, cf_matrix, feature):\n",
    "    \"\"\"\n",
    "    Simulates the effect of increasing a feature on the model's deposit rate (DR).\n",
    "\n",
    "    Parameters\n",
    "    ----------\n",
    "    df: <pandas DataFrame>\n",
    "        containing the data\n",
    "\n",
    "    simulation_features : <list>\n",
    "                          all feature used in the simulation\n",
    "\n",
    "    lr: <sklearn model object>\n",
    "        fitted model\n",
    "\n",
    "    cf_matrix: <confusion matrix>\n",
    "\n",
    "    feature: the name of the feature to simulate\n",
    "\n",
    "    Returns\n",
    "    -------\n",
    "    None\n",
    "    \"\"\"\n",
    "    # Define TP FN FP TN var\n",
    "    tp, fn, fp, tn = cf_matrix.flatten()\n",
    "\n",
    "    # Create Simulation Data\n",
    "    df_deposit = df[df.deposit == 1][simulation_features]\n",
    "    df_not_deposit = df[df.deposit == 0][simulation_features]\n",
    "\n",
    "    dr_list = []\n",
    "\n",
    "    # Create Improvement Experiments\n",
    "    experiments = np.arange(-1,1.05,0.05)\n",
    "    experiments[20] = 0\n",
    "    for i in experiments:\n",
    "        df_simulation = df.copy()\n",
    "        df_simulation[simulation_features] = df_simulation[simulation_features]*(1+i)\n",
    "\n",
    "        # Predict Simulation Values\n",
    "        simulation_pred = lr.predict(df_simulation.drop('deposit', axis=1))\n",
    "\n",
    "        # Adjust Predicted Value to Actual Value\n",
    "        simulation_pred_pos = simulation_pred[simulation_pred==0]\n",
    "        simulation_pred_pos[:(int(np.ceil((fp/(fp+tp))*(simulation_pred[simulation_pred==0].size))))] = 1\n",
    "        simulation_pred_neg = simulation_pred[simulation_pred==1]\n",
    "        simulation_pred_neg[:(int(np.ceil((fn/(fn+tn))*(simulation_pred[simulation_pred==1].size))))] = 0\n",
    "        simulation_pred = np.concatenate((simulation_pred_neg, simulation_pred_pos))\n",
    "\n",
    "        # Calculate Simulation Deposit Rate (DR)\n",
    "        dr = simulation_pred[simulation_pred==1].size/simulation_pred.size\n",
    "        dr_list.append(dr)\n",
    "\n",
    "    # Create DR Plot\n",
    "    print(dr_list)\n",
    "    plt.plot(experiments, dr_list, marker='o', linewidth=1)\n",
    "    plt.ylabel('Deposit Rate')\n",
    "    plt.xlabel(str(feature) + ' Increased')\n",
    "    plt.title('Deposit Rate Increased by ' + str(feature))\n",
    "    plt.axvline(linewidth=1, color='r', label = 'Current Condition')\n",
    "    plt.legend()\n",
    "    plt.show()"
   ]
  },
  {
   "cell_type": "code",
   "execution_count": 66,
   "metadata": {},
   "outputs": [],
   "source": [
    "# Define name/path of the dataset for simulation\n",
    "path = '../data/raw/bank_telemarketing.csv'\n",
    "\n",
    "# Read dataset for simulation\n",
    "df_sim = read_data(path)\n",
    "\n",
    "# Encode categorical data\n",
    "_, df_sim = encoding_cat_feature(data = df_sim,\n",
    "                                 fit = encoder)"
   ]
  },
  {
   "cell_type": "code",
   "execution_count": 67,
   "metadata": {},
   "outputs": [
    {
     "data": {
      "text/html": [
       "<div>\n",
       "<style scoped>\n",
       "    .dataframe tbody tr th:only-of-type {\n",
       "        vertical-align: middle;\n",
       "    }\n",
       "\n",
       "    .dataframe tbody tr th {\n",
       "        vertical-align: top;\n",
       "    }\n",
       "\n",
       "    .dataframe thead th {\n",
       "        text-align: right;\n",
       "    }\n",
       "</style>\n",
       "<table border=\"1\" class=\"dataframe\">\n",
       "  <thead>\n",
       "    <tr style=\"text-align: right;\">\n",
       "      <th></th>\n",
       "      <th>age</th>\n",
       "      <th>duration</th>\n",
       "      <th>campaign</th>\n",
       "      <th>previous</th>\n",
       "      <th>default_yes</th>\n",
       "      <th>housing_yes</th>\n",
       "      <th>loan_yes</th>\n",
       "      <th>deposit</th>\n",
       "    </tr>\n",
       "  </thead>\n",
       "  <tbody>\n",
       "    <tr>\n",
       "      <th>0</th>\n",
       "      <td>59</td>\n",
       "      <td>1042</td>\n",
       "      <td>1</td>\n",
       "      <td>0</td>\n",
       "      <td>0.0</td>\n",
       "      <td>1.0</td>\n",
       "      <td>0.0</td>\n",
       "      <td>1</td>\n",
       "    </tr>\n",
       "    <tr>\n",
       "      <th>1</th>\n",
       "      <td>56</td>\n",
       "      <td>1467</td>\n",
       "      <td>1</td>\n",
       "      <td>0</td>\n",
       "      <td>0.0</td>\n",
       "      <td>0.0</td>\n",
       "      <td>0.0</td>\n",
       "      <td>1</td>\n",
       "    </tr>\n",
       "    <tr>\n",
       "      <th>2</th>\n",
       "      <td>41</td>\n",
       "      <td>1389</td>\n",
       "      <td>1</td>\n",
       "      <td>0</td>\n",
       "      <td>0.0</td>\n",
       "      <td>1.0</td>\n",
       "      <td>0.0</td>\n",
       "      <td>1</td>\n",
       "    </tr>\n",
       "    <tr>\n",
       "      <th>3</th>\n",
       "      <td>55</td>\n",
       "      <td>579</td>\n",
       "      <td>1</td>\n",
       "      <td>0</td>\n",
       "      <td>0.0</td>\n",
       "      <td>1.0</td>\n",
       "      <td>0.0</td>\n",
       "      <td>1</td>\n",
       "    </tr>\n",
       "    <tr>\n",
       "      <th>4</th>\n",
       "      <td>54</td>\n",
       "      <td>673</td>\n",
       "      <td>2</td>\n",
       "      <td>0</td>\n",
       "      <td>0.0</td>\n",
       "      <td>0.0</td>\n",
       "      <td>0.0</td>\n",
       "      <td>1</td>\n",
       "    </tr>\n",
       "  </tbody>\n",
       "</table>\n",
       "</div>"
      ],
      "text/plain": [
       "   age  duration  campaign  previous  default_yes  housing_yes  loan_yes  \\\n",
       "0   59      1042         1         0          0.0          1.0       0.0   \n",
       "1   56      1467         1         0          0.0          0.0       0.0   \n",
       "2   41      1389         1         0          0.0          1.0       0.0   \n",
       "3   55       579         1         0          0.0          1.0       0.0   \n",
       "4   54       673         2         0          0.0          0.0       0.0   \n",
       "\n",
       "   deposit  \n",
       "0        1  \n",
       "1        1  \n",
       "2        1  \n",
       "3        1  \n",
       "4        1  "
      ]
     },
     "execution_count": 67,
     "metadata": {},
     "output_type": "execute_result"
    }
   ],
   "source": [
    "# Shanity check\n",
    "df_sim.head()"
   ]
  },
  {
   "cell_type": "code",
   "execution_count": 68,
   "metadata": {},
   "outputs": [
    {
     "name": "stdout",
     "output_type": "stream",
     "text": [
      "[0.23485259540604086, 0.23503345993850605, 0.23856031832157715, 0.2544763971785133, 0.27581841200940493, 0.2972508591065292, 0.32103454512570084, 0.3423765599565925, 0.3610056068005064, 0.3780973051184663, 0.3940133839754024, 0.40685476578043045, 0.41824923132573705, 0.42765418701392655, 0.43886778802676796, 0.44754928558509677, 0.45514559594863446, 0.46174715138361366, 0.4681678422861277, 0.47395550732501357, 0.47929101103273647, 0.4837221920781335, 0.4882438053897631, 0.4922228251039971, 0.49556881895460303, 0.4985530837402785, 0.5015373485259541, 0.504431181045397, 0.5067824199674443, 0.5090432266232592, 0.5111231687466088, 0.5131126786037258, 0.5150117561946103, 0.5170916983179599, 0.5191716404413095, 0.5208898534997287, 0.522155905226985, 0.5237836860191717, 0.5248688732139627, 0.526134924941219, 0.5270392476035449]\n"
     ]
    },
    {
     "data": {
      "image/png": "[encoded data removed]",
      "text/plain": [
       "<Figure size 640x480 with 1 Axes>"
      ]
     },
     "metadata": {},
     "output_type": "display_data"
    }
   ],
   "source": [
    "# Simulation\n",
    "simulation(df = df_sim,\n",
    "           simulation_features = df_sim.columns,\n",
    "           lr = lr,\n",
    "           cf_matrix = cf_matrix,\n",
    "           feature = 'duration')"
   ]
  },
  {
   "cell_type": "markdown",
   "metadata": {},
   "source": [
    "1. `How can bank develop marketing effectiveness strategy to increase 8% of term deposit?`\n",
    "- One of the possible way to increase 8% of number of deposit is to **increase call duration up to 100%**\n",
    "- From the simulation above, we can reach 55% of deposite rate by increasing call duration\n",
    "2. `What variables are important to increase marketing effectiveness?`\n",
    "- One of important variable is **call duration**\n",
    "- We can maximize call duration by giving the telemarketer proper marketing technique to make the clients aggree to subscribe deposit term"
   ]
  },
  {
   "cell_type": "code",
   "execution_count": null,
   "metadata": {},
   "outputs": [],
   "source": []
  }
 ],
 "metadata": {
  "kernelspec": {
   "display_name": "ds-venv",
   "language": "python",
   "name": "python3"
  },
  "language_info": {
   "codemirror_mode": {
    "name": "ipython",
    "version": 3
   },
   "file_extension": ".py",
   "mimetype": "text/x-python",
   "name": "python",
   "nbconvert_exporter": "python",
   "pygments_lexer": "ipython3",
   "version": "3.10.13"
  }
 },
 "nbformat": 4,
 "nbformat_minor": 2
}
